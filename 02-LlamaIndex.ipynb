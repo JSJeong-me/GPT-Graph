{
  "nbformat": 4,
  "nbformat_minor": 0,
  "metadata": {
    "colab": {
      "provenance": [],
      "gpuType": "V100",
      "mount_file_id": "https://github.com/JSJeong-me/GPT_Ochestration/blob/main/CSV-LangChain.ipynb",
      "authorship_tag": "ABX9TyMakZV4aItGSMHiceQQDjK+",
      "include_colab_link": true
    },
    "kernelspec": {
      "name": "python3",
      "display_name": "Python 3"
    },
    "language_info": {
      "name": "python"
    }
  },
  "cells": [
    {
      "cell_type": "markdown",
      "metadata": {
        "id": "view-in-github",
        "colab_type": "text"
      },
      "source": [
        "<a href=\"https://colab.research.google.com/github/JSJeong-me/GPT-DB/blob/main/02-LlamaIndex.ipynb\" target=\"_parent\"><img src=\"https://colab.research.google.com/assets/colab-badge.svg\" alt=\"Open In Colab\"/></a>"
      ]
    },
    {
      "cell_type": "code",
      "source": [
        "!cp /content/drive/MyDrive/inner-people/musinsa-review.csv ."
      ],
      "metadata": {
        "id": "WaHNC9bwdlCd"
      },
      "execution_count": 1,
      "outputs": []
    },
    {
      "cell_type": "code",
      "execution_count": null,
      "metadata": {
        "id": "P6BVq4taHS9U"
      },
      "outputs": [],
      "source": [
        "!pip install langchain\n",
        "!pip install chromadb"
      ]
    },
    {
      "cell_type": "code",
      "source": [
        "!pip install openai\n",
        "!pip install python-dotenv"
      ],
      "metadata": {
        "id": "Qb8f3ODMH68j"
      },
      "execution_count": null,
      "outputs": []
    },
    {
      "cell_type": "code",
      "source": [
        "!echo \"OPENAI_API_KEY=sk-\" >> .env\n",
        "!source /content/.env"
      ],
      "metadata": {
        "id": "PC-Kt9SMIE4H"
      },
      "execution_count": 4,
      "outputs": []
    },
    {
      "cell_type": "code",
      "source": [
        "import os\n",
        "from dotenv import load_dotenv\n",
        "\n",
        "# Load environment variables from .env file\n",
        "load_dotenv()\n",
        "# Access the API key using the variable name defined in the .env file\n",
        "api_key = os.getenv(\"OPENAI_API_KEY\")"
      ],
      "metadata": {
        "id": "DNKTWPoTo_oL"
      },
      "execution_count": 5,
      "outputs": []
    },
    {
      "cell_type": "code",
      "source": [
        "!pip install llama-index"
      ],
      "metadata": {
        "id": "f9lBtebYjZvR"
      },
      "execution_count": null,
      "outputs": []
    },
    {
      "cell_type": "code",
      "source": [
        "from llama_index.text_splitter import SentenceSplitter\n",
        "from llama_index import SimpleDirectoryReader"
      ],
      "metadata": {
        "id": "M1I4PMcfjdED"
      },
      "execution_count": 7,
      "outputs": []
    },
    {
      "cell_type": "code",
      "source": [
        "splitter = SentenceSplitter(\n",
        "    chunk_size=1500,\n",
        "    chunk_overlap=15,\n",
        ")"
      ],
      "metadata": {
        "id": "uPmTqO2Hjlqw"
      },
      "execution_count": 8,
      "outputs": []
    },
    {
      "cell_type": "code",
      "source": [
        "documents = SimpleDirectoryReader(\n",
        "    input_files=[\"musinsa-review.csv\"]\n",
        ").load_data()"
      ],
      "metadata": {
        "id": "FKojkv_ajrzH"
      },
      "execution_count": 9,
      "outputs": []
    },
    {
      "cell_type": "code",
      "source": [
        "nodes = splitter.get_nodes_from_documents(documents)"
      ],
      "metadata": {
        "id": "H4-A9maPj1TR"
      },
      "execution_count": 10,
      "outputs": []
    },
    {
      "cell_type": "code",
      "source": [
        "nodes[0]"
      ],
      "metadata": {
        "id": "OKGrRp_ej3ku",
        "outputId": "cb43eb97-3ddc-4824-d31e-b75d1c2b0058",
        "colab": {
          "base_uri": "https://localhost:8080/"
        }
      },
      "execution_count": 11,
      "outputs": [
        {
          "output_type": "execute_result",
          "data": {
            "text/plain": [
              "TextNode(id_='5b98ec4d-fecf-43cc-b24c-4173796117fc', embedding=None, metadata={'file_path': 'musinsa-review.csv', 'file_name': 'musinsa-review.csv', 'file_type': 'text/csv', 'file_size': 72565836, 'creation_date': '2024-01-16', 'last_modified_date': '2024-01-16', 'last_accessed_date': '2024-01-16'}, excluded_embed_metadata_keys=['file_name', 'file_type', 'file_size', 'creation_date', 'last_modified_date', 'last_accessed_date'], excluded_llm_metadata_keys=['file_name', 'file_type', 'file_size', 'creation_date', 'last_modified_date', 'last_accessed_date'], relationships={<NodeRelationship.SOURCE: '1'>: RelatedNodeInfo(node_id='3349c855-955a-4748-924e-bc10ca6ca08e', node_type=<ObjectType.DOCUMENT: '4'>, metadata={'file_path': 'musinsa-review.csv', 'file_name': 'musinsa-review.csv', 'file_type': 'text/csv', 'file_size': 72565836, 'creation_date': '2024-01-16', 'last_modified_date': '2024-01-16', 'last_accessed_date': '2024-01-16'}, hash='49533be99debfd02b184e509df3a7116b2e539997055790aa8c12299ed0a1d38'), <NodeRelationship.NEXT: '3'>: RelatedNodeInfo(node_id='d5e0a4c1-41a2-41e1-ba1c-e99846deef8c', node_type=<ObjectType.TEXT: '1'>, metadata={}, hash='5338f1d48c92491239f8052e6caf43ae314e434d349e6f1f070a4a3a9e66ce3e')}, hash='61050ef8655b331c9d1df52af949364b2dd3a3970626a1b7cf7a2aca8de7dd72', text='2149254, 베이식 긴팔 티셔츠 2팩, 재질도 얇아서 단품으로 걸치기 좋고 기장도 길어서 레이어드 용으로도 사용할 수 있습니다. 그리고 반팔티랑 같이 레이어드 해서 입으니까 굉장히 이쁘고 가디건 블레이저 이너로 입기에 딱이네요. 가격도 굉장히 좋고 가을 초기에 단품으로 입어도 덥지 않습니다.\\n2149254, 베이식 긴팔 티셔츠 2팩, 슬리브의 기본 정석 무신사 스탠다드 사서 실패한 적이 없습니다!\\n2149254, 베이식 긴팔 티셔츠 2팩, 이너로도 좋고 단품으로도 입기 좋을 것 같아요 흰색은 레이어드하기에도 좋을 것 같아요 앞으로 재구매도 할 것 같아요\\n2149254, 베이식 긴팔 티셔츠 2팩, 진짜 딱 기본에 충실한거같습니다 가격도 착해서 좋네요\\n2149254, 베이식 긴팔 티셔츠 2팩, 배송도 빠르고옷도 좋습니다. 역시 무탠다드! 많이파세요\\n2149254, 베이식 긴팔 티셔츠 2팩, 옷 재질도 좋고 핏도 맘에 들고 좋아요 최고의 가성비 제품!굳\\n2149254, 베이식 긴팔 티셔츠 2팩, 이너티 중에선 얇지 않고 비침이 적습니다. 싸고 무난한 긴팔티 사려면 무탠다드\\n2149254, 베이식 긴팔 티셔츠 2팩, 재질 두께 괜찮고 흰옷도 많이 안 비치는 재질이라 좋아요! 핏도 사진보다 잘 빠졌고 탄탄하고 좋네요~ 다만 좀 더 품이 컸으면 좋을 것 같다는 생각이 들긴 하네요\\n2149254, 베이식 긴팔 티셔츠 2팩, 생각보다 얇아용.레이어드해서 입기좋을거같아요.\\n2149254, 베이식 긴팔 티셔츠 2팩, 간단하게 이너로 입을라고 샀는데 너무 마음에 듭니다\\n2149254, 베이식 긴팔 티셔츠 2팩, 여름 빼고 이너로 입고 다니기 좋을듯 합니다  추천\\n2149254, 베이식 긴팔 티셔츠 2팩, 일단 플러스 배송으로 토요일에 배송 보장이라길래 샀는데 월요일날 왔구요 .. 옷자체는 좋고 기본인데 팔 통에 비해 몸통 부분이 타이트 해요!\\n2149254, 베이식 긴팔 티셔츠 2팩, 기본티라 크게 호불호가없을듯하고요 핏도 적당하고 다만흰티의두깨가 안이비치는건어쩔수없는게아닌가싶어요\\n2149254, 베이식 긴팔 티셔츠 2팩, 엄청 예쁘고 좋아요 재구매의향있어요 예쁩니다.\\n2149254, 베이식 긴팔 티셔츠 2팩, 하리가 적혀있는 것보다 큰 것 같구 시원하게 잘 입었습니다\\n2149254, 베이식 긴팔 티셔츠 2팩, 다 좋은데 제가 팔이 길어서 팔이 손등좀 덮었으면 좋았을듯\\n2149254, 베이식 긴팔 티셔츠 2팩, 검정과 흰색 사이즈 차이가 좀 있어요. 흰색 팔길이가 좀 긴데 나름 간지나요\\n2149254, 베이식 긴팔 티셔츠 2팩, 가성비의 끝판왕! 저렴한 가격으로 좋은 품질을 경험할 수 있어요!!\\n2149254, 베이식 긴팔 티셔츠 2팩, 레이어드 티인데 그냥 입어도 예쁩니다 가격도 저렴해서 추가 구매 예정입니다~~\\n2149254, 베이식 긴팔 티셔츠 2팩, 가을에 입기 좋은 두께의 티셔츠에요.', start_char_idx=0, end_char_idx=1409, text_template='{metadata_str}\\n\\n{content}', metadata_template='{key}: {value}', metadata_seperator='\\n')"
            ]
          },
          "metadata": {},
          "execution_count": 11
        }
      ]
    },
    {
      "cell_type": "code",
      "source": [
        "len(nodes)"
      ],
      "metadata": {
        "id": "iot7Gi8VlSEu",
        "outputId": "cbe10419-d657-4353-957f-f2e06cc612ab",
        "colab": {
          "base_uri": "https://localhost:8080/"
        }
      },
      "execution_count": 12,
      "outputs": [
        {
          "output_type": "execute_result",
          "data": {
            "text/plain": [
              "24681"
            ]
          },
          "metadata": {},
          "execution_count": 12
        }
      ]
    },
    {
      "cell_type": "code",
      "source": [],
      "metadata": {
        "id": "G68T8ycZl8mW"
      },
      "execution_count": null,
      "outputs": []
    }
  ]
}