{
  "cells": [
    {
      "cell_type": "markdown",
      "metadata": {
        "id": "view-in-github",
        "colab_type": "text"
      },
      "source": [
        "<a href=\"https://colab.research.google.com/github/JSJeong-me/GPT-Graph/blob/main/50-hierarchical_agent_teams.ipynb\" target=\"_parent\"><img src=\"https://colab.research.google.com/assets/colab-badge.svg\" alt=\"Open In Colab\"/></a>"
      ]
    },
    {
      "cell_type": "markdown",
      "id": "a3e3ebc4-57af-4fe4-bdd3-36aff67bf276",
      "metadata": {
        "id": "a3e3ebc4-57af-4fe4-bdd3-36aff67bf276"
      },
      "source": [
        "## Hierarchical Agent Teams\n",
        "\n",
        "In our previous example ([Agent Supervisor](./agent_supervisor.ipynb)), we introduced the concept of a single supervisor node to route work between different worker nodes.\n",
        "\n",
        "But what if the job for a single worker becomes too complex? What if the number of workers becomes too large?\n",
        "\n",
        "For some applications, the system may be more effective if work is distributed _hierarchically_.\n",
        "\n",
        "You can do this by composing different subgraphs and creating a top-level supervisor, along with mid-level supervisors.\n",
        "\n",
        "To do this, let's build a simple research assistant! The graph will look something like the following:\n",
        "\n",
        "![diagram](https://github.com/langchain-ai/langgraph/blob/main/examples/multi_agent/img/hierarchical-diagram.png?raw=1)\n",
        "\n",
        "This notebook is inspired by the paper [AutoGen: Enabling Next-Gen LLM Applications via Multi-Agent Conversation](https://arxiv.org/abs/2308.08155), by Wu, et. al. In the rest of this notebook, you will:\n",
        "\n",
        "1. Define the agents' tools to access the web and write files\n",
        "2. Define some utilities to help create the graph and agents\n",
        "3. Create and define each team (web research + doc writing)\n",
        "4. Compose everything together.\n",
        "\n",
        "But before all of that, some setup:"
      ]
    },
    {
      "cell_type": "code",
      "execution_count": 1,
      "id": "0d30b6f7-3bec-4d9f-af50-43dfdc81ae6c",
      "metadata": {
        "id": "0d30b6f7-3bec-4d9f-af50-43dfdc81ae6c"
      },
      "outputs": [],
      "source": [
        "%%capture --no-stderr\n",
        "!pip install -U langchain langchain_openai langchain_experimental langsmith pandas"
      ]
    },
    {
      "cell_type": "code",
      "source": [
        "!pip install langgraph python-dotenv"
      ],
      "metadata": {
        "id": "Nt4UwjJkNIYN"
      },
      "id": "Nt4UwjJkNIYN",
      "execution_count": null,
      "outputs": []
    },
    {
      "cell_type": "code",
      "source": [
        "!echo \"OPENAI_API_KEY=sk-\" >> .env\n",
        "!echo \"TAVILY_API_KEY=tvly-\" >> .env\n",
        "!echo \"LANGCHAIN_API_KEY=ls__\" >> .env\n",
        "!source /content/.env\n",
        "\n",
        "import os\n",
        "from dotenv import load_dotenv\n",
        "\n",
        "# Load environment variables from .env file\n",
        "load_dotenv()\n",
        "# Access the API key using the variable name defined in the .env file\n",
        "api_key = os.getenv(\"OPENAI_API_KEY\")\n",
        "api_key = os.getenv(\"TAVILY_API_KEY\")\n",
        "api_key = os.getenv(\"LANGCHAIN_API_KEY\")\n",
        "\n",
        "# Optional, add tracing in LangSmith\n",
        "os.environ[\"LANGCHAIN_TRACING_V2\"] = \"true\"\n",
        "os.environ[\"LANGCHAIN_PROJECT\"] = \"Multi-agent Collaboration\""
      ],
      "metadata": {
        "id": "03nNolWRNNE6"
      },
      "id": "03nNolWRNNE6",
      "execution_count": 1,
      "outputs": []
    },
    {
      "cell_type": "code",
      "execution_count": null,
      "id": "30c2f3de-c730-4aec-85a6-af2c2f058803",
      "metadata": {
        "id": "30c2f3de-c730-4aec-85a6-af2c2f058803"
      },
      "outputs": [],
      "source": [
        "# import getpass\n",
        "# import os\n",
        "# import uuid\n",
        "\n",
        "\n",
        "# def _set_if_undefined(var: str):\n",
        "#     if not os.environ.get(var):\n",
        "#         os.environ[var] = getpass(f\"Please provide your {var}\")\n",
        "\n",
        "\n",
        "# _set_if_undefined(\"OPENAI_API_KEY\")\n",
        "# _set_if_undefined(\"LANGCHAIN_API_KEY\")\n",
        "# _set_if_undefined(\"TAVILY_API_KEY\")\n",
        "\n",
        "# # Optional, add tracing in LangSmith.\n",
        "# # This will help you visualize and debug the control flow\n",
        "# os.environ[\"LANGCHAIN_TRACING_V2\"] = \"true\"\n",
        "# os.environ[\"LANGCHAIN_PROJECT\"] = \"Multi-agent Collaboration\""
      ]
    },
    {
      "cell_type": "markdown",
      "id": "354568e2-aef0-4af9-8a79-e64d3eea752f",
      "metadata": {
        "id": "354568e2-aef0-4af9-8a79-e64d3eea752f"
      },
      "source": [
        "## Create Tools\n",
        "\n",
        "Each team will be composed of one or more agents each with one or more tools. Below, define all the tools to be used by your different teams.\n",
        "\n",
        "We'll start with the research team.\n",
        "\n",
        "**Research team tools**\n",
        "\n",
        "The research team can use a search engine and url scraper to find information on the web. Feel free to add additional functionality below to boost the team performance!"
      ]
    },
    {
      "cell_type": "code",
      "execution_count": 2,
      "id": "4024eb89-843d-4cc3-ab3f-e1eb4d031179",
      "metadata": {
        "id": "4024eb89-843d-4cc3-ab3f-e1eb4d031179"
      },
      "outputs": [],
      "source": [
        "from typing import Annotated, List, Tuple, Union\n",
        "\n",
        "import matplotlib.pyplot as plt\n",
        "from langchain_community.document_loaders import WebBaseLoader\n",
        "from langchain_community.tools.tavily_search import TavilySearchResults\n",
        "from langchain_core.tools import tool\n",
        "from langsmith import trace\n",
        "\n",
        "tavily_tool = TavilySearchResults(max_results=5)\n",
        "\n",
        "\n",
        "@tool\n",
        "def scrape_webpages(urls: List[str]) -> str:\n",
        "    \"\"\"Use requests and bs4 to scrape the provided web pages for detailed information.\"\"\"\n",
        "    loader = WebBaseLoader(urls)\n",
        "    docs = loader.load()\n",
        "    return \"\\n\\n\".join(\n",
        "        [\n",
        "            f'<Document name=\"{doc.metadata.get(\"title\", \"\")}\">\\n{doc.page_content}\\n</Document>'\n",
        "            for doc in docs\n",
        "        ]\n",
        "    )"
      ]
    },
    {
      "cell_type": "markdown",
      "id": "1c427982-fadf-4721-a77e-2465df9fc6bc",
      "metadata": {
        "id": "1c427982-fadf-4721-a77e-2465df9fc6bc"
      },
      "source": [
        "**Document writing team tools**\n",
        "\n",
        "Next up, we will give some tools for the doc writing team to use.\n",
        "We define some bare-bones file-access tools below.\n",
        "\n",
        "Note that this gives the agents access to your file-system, which can be unsafe. We also haven't optimized the tool descriptions for performance."
      ]
    },
    {
      "cell_type": "code",
      "execution_count": 3,
      "id": "f20a18ca-2709-4c12-84f3-88678591a9fa",
      "metadata": {
        "id": "f20a18ca-2709-4c12-84f3-88678591a9fa"
      },
      "outputs": [],
      "source": [
        "from pathlib import Path\n",
        "from tempfile import TemporaryDirectory\n",
        "from typing import Dict, Optional\n",
        "\n",
        "from langchain_experimental.utilities import PythonREPL\n",
        "from typing_extensions import TypedDict\n",
        "\n",
        "_TEMP_DIRECTORY = TemporaryDirectory()\n",
        "WORKING_DIRECTORY = Path(_TEMP_DIRECTORY.name)\n",
        "\n",
        "\n",
        "@tool\n",
        "def create_outline(\n",
        "    points: Annotated[List[str], \"List of main points or sections.\"],\n",
        "    file_name: Annotated[str, \"File path to save the outline.\"],\n",
        ") -> Annotated[str, \"Path of the saved outline file.\"]:\n",
        "    \"\"\"Create and save an outline.\"\"\"\n",
        "    with (WORKING_DIRECTORY / file_name).open(\"w\") as file:\n",
        "        for i, point in enumerate(points):\n",
        "            file.write(f\"{i + 1}. {point}\\n\")\n",
        "    return f\"Outline saved to {file_name}\"\n",
        "\n",
        "\n",
        "@tool\n",
        "def read_document(\n",
        "    file_name: Annotated[str, \"File path to save the document.\"],\n",
        "    start: Annotated[Optional[int], \"The start line. Default is 0\"] = None,\n",
        "    end: Annotated[Optional[int], \"The end line. Default is None\"] = None,\n",
        ") -> str:\n",
        "    \"\"\"Read the specified document.\"\"\"\n",
        "    with (WORKING_DIRECTORY / file_name).open(\"r\") as file:\n",
        "        lines = file.readlines()\n",
        "    if start is not None:\n",
        "        start = 0\n",
        "    return \"\\n\".join(lines[start:end])\n",
        "\n",
        "\n",
        "@tool\n",
        "def write_document(\n",
        "    content: Annotated[str, \"Text content to be written into the document.\"],\n",
        "    file_name: Annotated[str, \"File path to save the document.\"],\n",
        ") -> Annotated[str, \"Path of the saved document file.\"]:\n",
        "    \"\"\"Create and save a text document.\"\"\"\n",
        "    with (WORKING_DIRECTORY / file_name).open(\"w\") as file:\n",
        "        file.write(content)\n",
        "    return f\"Document saved to {file_name}\"\n",
        "\n",
        "\n",
        "@tool\n",
        "def edit_document(\n",
        "    file_name: Annotated[str, \"Path of the document to be edited.\"],\n",
        "    inserts: Annotated[\n",
        "        Dict[int, str],\n",
        "        \"Dictionary where key is the line number (1-indexed) and value is the text to be inserted at that line.\",\n",
        "    ],\n",
        ") -> Annotated[str, \"Path of the edited document file.\"]:\n",
        "    \"\"\"Edit a document by inserting text at specific line numbers.\"\"\"\n",
        "\n",
        "    with (WORKING_DIRECTORY / file_name).open(\"r\") as file:\n",
        "        lines = file.readlines()\n",
        "\n",
        "    sorted_inserts = sorted(inserts.items())\n",
        "\n",
        "    for line_number, text in sorted_inserts:\n",
        "        if 1 <= line_number <= len(lines) + 1:\n",
        "            lines.insert(line_number - 1, text + \"\\n\")\n",
        "        else:\n",
        "            return f\"Error: Line number {line_number} is out of range.\"\n",
        "\n",
        "    with (WORKING_DIRECTORY / file_name).open(\"w\") as file:\n",
        "        file.writelines(lines)\n",
        "\n",
        "    return f\"Document edited and saved to {file_name}\"\n",
        "\n",
        "\n",
        "# Warning: This executes code locally, which can be unsafe when not sandboxed\n",
        "\n",
        "repl = PythonREPL()\n",
        "\n",
        "\n",
        "@tool\n",
        "def python_repl(\n",
        "    code: Annotated[str, \"The python code to execute to generate your chart.\"]\n",
        "):\n",
        "    \"\"\"Use this to execute python code. If you want to see the output of a value,\n",
        "    you should print it out with `print(...)`. This is visible to the user.\"\"\"\n",
        "    try:\n",
        "        result = repl.run(code)\n",
        "    except BaseException as e:\n",
        "        return f\"Failed to execute. Error: {repr(e)}\"\n",
        "    return f\"Succesfully executed:\\n```python\\n{code}\\n```\\nStdout: {result}\""
      ]
    },
    {
      "cell_type": "markdown",
      "id": "504ee1c6-2b6a-439d-9046-df54e1e15698",
      "metadata": {
        "id": "504ee1c6-2b6a-439d-9046-df54e1e15698"
      },
      "source": [
        "## Helper Utilities\n",
        "\n",
        "We are going to create a few utility functions to make it more concise when we want to:\n",
        "\n",
        "1. Create a worker agent.\n",
        "2. Create a supervisor for the sub-graph.\n",
        "\n",
        "These will simplify the graph compositional code at the end for us so it's easier to see what's going on."
      ]
    },
    {
      "cell_type": "code",
      "execution_count": 4,
      "id": "e09fb60f-1aac-455b-b67d-8d2e4ccfd747",
      "metadata": {
        "id": "e09fb60f-1aac-455b-b67d-8d2e4ccfd747"
      },
      "outputs": [],
      "source": [
        "from typing import Any, Callable, List, Optional, TypedDict, Union\n",
        "\n",
        "from langchain.agents import AgentExecutor, create_openai_functions_agent\n",
        "from langchain.output_parsers.openai_functions import JsonOutputFunctionsParser\n",
        "from langchain_core.prompts import ChatPromptTemplate, MessagesPlaceholder\n",
        "from langchain_core.runnables import Runnable\n",
        "from langchain_core.tools import BaseTool\n",
        "from langchain_openai import ChatOpenAI\n",
        "\n",
        "from langgraph.graph import END, StateGraph\n",
        "\n",
        "\n",
        "def create_agent(\n",
        "    llm: ChatOpenAI,\n",
        "    tools: list,\n",
        "    system_prompt: str,\n",
        ") -> str:\n",
        "    \"\"\"Create a function-calling agent and add it to the graph.\"\"\"\n",
        "    system_prompt += \"\\nWork autonomously according to your specialty, using the tools available to you.\"\n",
        "    \" Do not ask for clarification.\"\n",
        "    \" Your other team members (and other teams) will collaborate with you with their own specialties.\"\n",
        "    \" You are chosen for a reason! You are one of the following team members: {team_members}.\"\n",
        "    prompt = ChatPromptTemplate.from_messages(\n",
        "        [\n",
        "            (\n",
        "                \"system\",\n",
        "                system_prompt,\n",
        "            ),\n",
        "            MessagesPlaceholder(variable_name=\"messages\"),\n",
        "            MessagesPlaceholder(variable_name=\"agent_scratchpad\"),\n",
        "        ]\n",
        "    )\n",
        "    agent = create_openai_functions_agent(llm, tools, prompt)\n",
        "    executor = AgentExecutor(agent=agent, tools=tools)\n",
        "    return executor\n",
        "\n",
        "\n",
        "def agent_node(state, agent, name):\n",
        "    result = agent.invoke(state)\n",
        "    return {\"messages\": [HumanMessage(content=result[\"output\"], name=name)]}\n",
        "\n",
        "\n",
        "def create_team_supervisor(\n",
        "    llm: ChatOpenAI, system_prompt, members\n",
        ") -> str:\n",
        "    \"\"\"An LLM-based router.\"\"\"\n",
        "    options = [\"FINISH\"] + members\n",
        "    function_def = {\n",
        "        \"name\": \"route\",\n",
        "        \"description\": \"Select the next role.\",\n",
        "        \"parameters\": {\n",
        "            \"title\": \"routeSchema\",\n",
        "            \"type\": \"object\",\n",
        "            \"properties\": {\n",
        "                \"next\": {\n",
        "                    \"title\": \"Next\",\n",
        "                    \"anyOf\": [\n",
        "                        {\"enum\": options},\n",
        "                    ],\n",
        "                },\n",
        "            },\n",
        "            \"required\": [\"next\"],\n",
        "        },\n",
        "    }\n",
        "    prompt = ChatPromptTemplate.from_messages(\n",
        "        [\n",
        "            (\"system\", system_prompt),\n",
        "            MessagesPlaceholder(variable_name=\"messages\"),\n",
        "            (\n",
        "                \"system\",\n",
        "                \"Given the conversation above, who should act next?\"\n",
        "                \" Or should we FINISH? Select one of: {options}\",\n",
        "            ),\n",
        "        ]\n",
        "    ).partial(options=str(options), team_members=\", \".join(members))\n",
        "    return (\n",
        "        prompt\n",
        "        | llm.bind_functions(functions=[function_def], function_call=\"route\")\n",
        "        | JsonOutputFunctionsParser()\n",
        "    )"
      ]
    },
    {
      "cell_type": "markdown",
      "id": "00282b1f-bb4d-4ee7-9bae-e8e6f586f12e",
      "metadata": {
        "id": "00282b1f-bb4d-4ee7-9bae-e8e6f586f12e"
      },
      "source": [
        "## Define Agent Teams\n",
        "\n",
        "Now we can get to define our hierachical teams. \"Choose your player!\"\n",
        "\n",
        "### Research Team\n",
        "\n",
        "The research team will have a search agent and a web scraping \"research_agent\" as the two worker nodes. Let's create those, as well as the team supervisor."
      ]
    },
    {
      "cell_type": "code",
      "execution_count": 5,
      "id": "53db0c78-e357-48ba-ae5f-3fc04735a3b7",
      "metadata": {
        "id": "53db0c78-e357-48ba-ae5f-3fc04735a3b7"
      },
      "outputs": [],
      "source": [
        "import functools\n",
        "import operator\n",
        "\n",
        "from langchain_core.messages import AIMessage, BaseMessage, HumanMessage\n",
        "from langchain_openai.chat_models import ChatOpenAI\n",
        "import functools\n",
        "\n",
        "\n",
        "# Research team graph state\n",
        "class ResearchTeamState(TypedDict):\n",
        "    # A message is added after each team member finishes\n",
        "    messages: Annotated[List[BaseMessage], operator.add]\n",
        "    # The team members are tracked so they are aware of\n",
        "    # the others' skill-sets\n",
        "    team_members: List[str]\n",
        "    # Used to route work. The supervisor calls a function\n",
        "    # that will update this every time it makes a decision\n",
        "    next: str\n",
        "\n",
        "\n",
        "llm = ChatOpenAI(model=\"gpt-4-1106-preview\")\n",
        "\n",
        "search_agent = create_agent(llm, [tavily_tool], \"You are a research assistant who can search for up-to-date info using the tavily search engine.\")\n",
        "search_node = functools.partial(agent_node, agent=search_agent, name=\"Search\")\n",
        "\n",
        "research_agent = create_agent(llm, [scrape_webpages], \"You are a research assistant who can scrape specified urls for more detailed information using the scrape_webpages function.\")\n",
        "research_node = functools.partial(agent_node, agent=research_agent, name=\"Web Scraper\")\n",
        "\n",
        "supervisor_agent = create_team_supervisor(\n",
        "    llm,\n",
        "    \"You are a supervisor tasked with managing a conversation between the\"\n",
        "    \" following workers:  Search, Web Scraper. Given the following user request,\"\n",
        "    \" respond with the worker to act next. Each worker will perform a\"\n",
        "    \" task and respond with their results and status. When finished,\"\n",
        "    \" respond with FINISH.\",\n",
        "    [\"Search\", \"Web Scraper\"],\n",
        ")\n"
      ]
    },
    {
      "cell_type": "markdown",
      "id": "b01c6ee8-a461-4081-8a97-a3a06ec0f994",
      "metadata": {
        "id": "b01c6ee8-a461-4081-8a97-a3a06ec0f994"
      },
      "source": [
        "Now that we've created the necessary components, defining their interactions is easy. Add the nodes to the team graph, and define the edges, which determine the transition criteria."
      ]
    },
    {
      "cell_type": "code",
      "execution_count": 6,
      "id": "1a7a1260-d9f6-4011-b2b1-13fab5126997",
      "metadata": {
        "id": "1a7a1260-d9f6-4011-b2b1-13fab5126997"
      },
      "outputs": [],
      "source": [
        "research_graph = StateGraph(ResearchTeamState)\n",
        "research_graph.add_node(\"Search\", search_node)\n",
        "research_graph.add_node(\"Web Scraper\", research_node)\n",
        "research_graph.add_node(\"supervisor\", supervisor_agent)\n",
        "\n",
        "# Define the control flow\n",
        "research_graph.add_edge(\"Search\", \"supervisor\")\n",
        "research_graph.add_edge(\"Web Scraper\", \"supervisor\")\n",
        "research_graph.add_conditional_edges(\n",
        "    \"supervisor\",\n",
        "    lambda x: x[\"next\"],\n",
        "    {\n",
        "        \"Search\": \"Search\",\n",
        "        \"Web Scraper\": \"Web Scraper\",\n",
        "        \"FINISH\": END\n",
        "    }\n",
        ")\n",
        "\n",
        "\n",
        "research_graph.set_entry_point(\"supervisor\")\n",
        "chain = research_graph.compile()\n",
        "\n",
        "# The following functions interoperate between the top level graph state\n",
        "# and the state of the research sub-graph\n",
        "# this makes it so that the states of each graph don't get intermixed\n",
        "def enter_chain(message: str):\n",
        "    results = {\n",
        "        \"messages\": [HumanMessage(content=message)],\n",
        "    }\n",
        "    return results\n",
        "\n",
        "\n",
        "\n",
        "research_chain = (\n",
        "    enter_chain\n",
        "    | chain\n",
        ")"
      ]
    },
    {
      "cell_type": "markdown",
      "id": "63ee8f2c-fbde-427b-ba54-ae0c7ce5fbfb",
      "metadata": {
        "id": "63ee8f2c-fbde-427b-ba54-ae0c7ce5fbfb"
      },
      "source": [
        "We can give this team work directly. Try it out below."
      ]
    },
    {
      "cell_type": "code",
      "execution_count": 7,
      "id": "912b0604-a178-4246-a36f-2dedae606680",
      "metadata": {
        "id": "912b0604-a178-4246-a36f-2dedae606680",
        "outputId": "2bbb2bc2-c371-4b82-c8ed-bdd28c751069",
        "colab": {
          "base_uri": "https://localhost:8080/"
        }
      },
      "outputs": [
        {
          "output_type": "stream",
          "name": "stdout",
          "text": [
            "{'supervisor': {'next': 'Search'}}\n",
            "---\n",
            "{'Search': {'messages': [HumanMessage(content='Taylor Swift\\'s next tour, known as \"The Eras Tour,\" has dates scheduled for 2023 and into 2024. For specific dates and locations, it\\'s best to visit the official sources or her announcements. Since the information provided in the search results does not include complete dates, I recommend checking out Taylor Swift\\'s official website or her social media accounts for the most up-to-date information on her tour schedule.\\n\\nHere are some key points from the search results:\\n\\n- Due to overwhelming demand, additional dates have been added to Taylor Swift\\'s \"The Eras Tour.\"\\n- The tour has been happening in North America and is set to go international this year and next.\\n- There are specific dates mentioned for 2023, including locations such as Tokyo.\\n\\nFor the latest and most detailed information, please visit the official Taylor Swift website or her social media profiles.', name='Search')]}}\n",
            "---\n",
            "{'supervisor': {'next': 'Search'}}\n",
            "---\n",
            "{'Search': {'messages': [HumanMessage(content='Taylor Swift\\'s \"The Eras Tour\" includes dates for 2023 and into 2024. The tour is happening in North America and is set to go international, with dates including locations such as Tokyo, Japan. \\n\\nHere are some of the dates and locations mentioned in the search results for 2023 and 2024:\\n\\n- July 22-23, 2023: Lumen Field, Seattle\\n- July 28-29, 2023: Levi\\'s Stadium, Santa Clara, California\\n- August 3-5, 2023: SoFi Stadium, Los Angeles\\n\\nAdditionally, there are dates mentioned for 2023 in Europe, Asia, and Australia, with specific mentions of Tokyo on February 7 and 8, 2023.\\n\\nFor more detailed and up-to-date information, you should visit Taylor Swift\\'s official website or check her social media announcements. Keep in mind that additional dates and locations may be added due to overwhelming demand, so staying tuned to her official announcements is recommended for the latest information.', name='Search')]}}\n",
            "---\n",
            "{'supervisor': {'next': 'FINISH'}}\n",
            "---\n"
          ]
        }
      ],
      "source": [
        "for s in research_chain.stream(\n",
        "        \"when is Taylor Swift's next tour?\",\n",
        "        {\"recursion_limit\": 100}\n",
        "    ):\n",
        "    if \"__end__\" not in s:\n",
        "        print(s)\n",
        "        print(\"---\")"
      ]
    },
    {
      "cell_type": "markdown",
      "id": "749b99ab-f6f0-4c5d-a90b-10102465d186",
      "metadata": {
        "id": "749b99ab-f6f0-4c5d-a90b-10102465d186"
      },
      "source": [
        "### Document Writing Team\n",
        "\n",
        "Create the document writing team below using a similar approach. This time, we will give each agent access to different file-writing tools.\n",
        "\n",
        "Note that we are giving file-system access to our agent here, which is not safe in all cases."
      ]
    },
    {
      "cell_type": "code",
      "execution_count": 8,
      "id": "1bcdbf44-9481-430c-8429-fa142ed8a626",
      "metadata": {
        "id": "1bcdbf44-9481-430c-8429-fa142ed8a626"
      },
      "outputs": [],
      "source": [
        "import operator\n",
        "from pathlib import Path\n",
        "\n",
        "\n",
        "# Document writing team graph state\n",
        "class DocWritingState(TypedDict):\n",
        "    # This tracks the team's conversation internally\n",
        "    messages: Annotated[List[BaseMessage], operator.add]\n",
        "    # This provides each worker with context on the others' skill sets\n",
        "    team_members: str\n",
        "    # This is how the supervisor tells langgraph who to work next\n",
        "    next: str\n",
        "    # This tracks the shared directory state\n",
        "    current_files: str\n",
        "\n",
        "\n",
        "# This will be run before each worker agent begins work\n",
        "# It makes it so they are more aware of the current state\n",
        "# of the working directory.\n",
        "def prelude(state):\n",
        "    written_files = []\n",
        "    if not WORKING_DIRECTORY.exists():\n",
        "        WORKING_DIRECTORY.mkdir()\n",
        "    try:\n",
        "        written_files = [\n",
        "            f.relative_to(WORKING_DIRECTORY) for f in WORKING_DIRECTORY.rglob(\"*\")\n",
        "        ]\n",
        "    except:\n",
        "        pass\n",
        "    if not written_files:\n",
        "        return {**state, \"current_files\": \"No files written.\"}\n",
        "    return {\n",
        "        **state,\n",
        "        \"current_files\": \"\\nBelow are files your team has written to the directory:\\n\"\n",
        "        + \"\\n\".join([f\" - {f}\" for f in written_files]),\n",
        "    }\n",
        "\n",
        "\n",
        "\n",
        "llm = ChatOpenAI(model=\"gpt-4-1106-preview\")\n",
        "\n",
        "doc_writer_agent = create_agent(\n",
        "    llm,\n",
        "    [write_document, edit_document, read_document],\n",
        "    \"You are an expert writing a research document.\\n\"\n",
        "    # The {current_files} value is populated automatically by the graph state\n",
        "    \"Below are files currently in your directory:\\n{current_files}\",\n",
        ")\n",
        "# Injects current directory working state before each call\n",
        "context_aware_doc_writer_agent = prelude | doc_writer_agent\n",
        "doc_writing_node = functools.partial(agent_node, agent=context_aware_doc_writer_agent, name=\"Doc Writer\")\n",
        "\n",
        "note_taking_agent = create_agent(\n",
        "    llm,\n",
        "    [create_outline, read_document],\n",
        "    \"You are an expert senior researcher tasked with writing a paper outline and\"\n",
        "    \" taking notes to craft a perfect paper.{current_files}\",\n",
        ")\n",
        "context_aware_note_taking_agent = prelude | note_taking_agent\n",
        "note_taking_node = functools.partial(agent_node, agent=context_aware_note_taking_agent, name=\"Note Taker\")\n",
        "\n",
        "chart_generating_agent = create_agent(\n",
        "    llm,\n",
        "    [read_document, python_repl],\n",
        "    \"You are a data viz expert tasked with generating charts for a research project.\"\n",
        "    \"{current_files}\",\n",
        ")\n",
        "context_aware_chart_generating_agent = prelude | chart_generating_agent\n",
        "chart_generating_node = functools.partial(agent_node, agent=context_aware_note_taking_agent, name=\"Chart Generator\")\n",
        "\n",
        "doc_writing_supervisor = create_team_supervisor(\n",
        "    llm,\n",
        "    \"You are a supervisor tasked with managing a conversation between the\"\n",
        "    \" following workers:  {team_members}. Given the following user request,\"\n",
        "    \" respond with the worker to act next. Each worker will perform a\"\n",
        "    \" task and respond with their results and status. When finished,\"\n",
        "    \" respond with FINISH.\",\n",
        "    [\"Doc Writer\", \"Note Taker\", \"Chart Generator\"]\n",
        ")"
      ]
    },
    {
      "cell_type": "markdown",
      "id": "aee2cd9b-29aa-458e-903d-4e49179e5d59",
      "metadata": {
        "id": "aee2cd9b-29aa-458e-903d-4e49179e5d59"
      },
      "source": [
        "With the objects themselves created, we can form the graph."
      ]
    },
    {
      "cell_type": "code",
      "execution_count": 9,
      "id": "9c5c644f-8966-4d2e-98d2-80d73520e9fe",
      "metadata": {
        "id": "9c5c644f-8966-4d2e-98d2-80d73520e9fe"
      },
      "outputs": [],
      "source": [
        "# Create the graph here:\n",
        "# Note that we have unrolled the loop for the sake of this doc\n",
        "authoring_graph = StateGraph(DocWritingState)\n",
        "authoring_graph.add_node(\"Doc Writer\", doc_writing_node)\n",
        "authoring_graph.add_node(\"Note Taker\", note_taking_node)\n",
        "authoring_graph.add_node(\"Chart Generator\", chart_generating_node)\n",
        "authoring_graph.add_node(\"supervisor\", doc_writing_supervisor)\n",
        "\n",
        "# Add the edges that always occur\n",
        "authoring_graph.add_edge(\"Doc Writer\", \"supervisor\")\n",
        "authoring_graph.add_edge(\"Note Taker\", \"supervisor\")\n",
        "authoring_graph.add_edge(\"Chart Generator\", \"supervisor\")\n",
        "\n",
        "# Add the edges where routing applies\n",
        "authoring_graph.add_conditional_edges(\n",
        "    \"supervisor\",\n",
        "    lambda x: x[\"next\"],\n",
        "    {\n",
        "        \"Doc Writer\": \"Doc Writer\",\n",
        "        \"Note Taker\": \"Note Taker\",\n",
        "        \"Chart Generator\": \"Chart Generator\",\n",
        "        \"FINISH\": END\n",
        "    }\n",
        ")\n",
        "\n",
        "authoring_graph.set_entry_point(\"supervisor\")\n",
        "chain = research_graph.compile()\n",
        "\n",
        "# The following functions interoperate between the top level graph state\n",
        "# and the state of the research sub-graph\n",
        "# this makes it so that the states of each graph don't get intermixed\n",
        "def enter_chain(message: str, members: List[str]):\n",
        "    results = {\n",
        "        \"messages\": [HumanMessage(content=message)],\n",
        "        \"team_members\": \", \".join(members)\n",
        "    }\n",
        "    return results\n",
        "\n",
        "\n",
        "# We re-use the enter/exit functions to wrap the graph\n",
        "authoring_chain = (\n",
        "    functools.partial(enter_chain, members=authoring_graph.nodes)\n",
        "    | authoring_graph.compile()\n",
        ")"
      ]
    },
    {
      "cell_type": "code",
      "execution_count": 10,
      "id": "9860fd46-c24d-40a5-a6ba-e8fddcd43369",
      "metadata": {
        "id": "9860fd46-c24d-40a5-a6ba-e8fddcd43369",
        "outputId": "464e6bb8-fb44-42c3-a0f1-765ecf34085e",
        "colab": {
          "base_uri": "https://localhost:8080/"
        }
      },
      "outputs": [
        {
          "output_type": "stream",
          "name": "stdout",
          "text": [
            "{'supervisor': {'next': 'Note Taker'}}\n",
            "---\n",
            "{'Note Taker': {'messages': [HumanMessage(content='With the outline established, I will now proceed to write the poem that adheres to the sections laid out in the outline. The poem will explore the journey of a day, from dawn to dusk, encapsulating the beauty and transience of each moment.\\n\\n---\\n\\n**Introduction**\\nBeneath the vast dome of the waking sky,\\nWhere whispers of dawn\\'s light begin to pry.\\n\\n**Theme and Tone**\\nA day unfolds like a gentle decree,\\nWith hues of hope and silent reverie.\\n\\n**Imagery and Metaphors**\\nThe sun ascends, a fiery charioteer,\\nIts golden rays, the loom of time, appear.\\nMountains dress in robes of mist and light,\\nWhile rivers mirror the day\\'s delight.\\n\\n**Rhyme Scheme and Rhythm**\\nAABCCB, the rhyme weaves like a dance,\\nIn time\\'s own step, the verses prance.\\n\\n**Development of the Narrative**\\nThrough the zenith where the sun proudly reigns,\\nTo the soft touch of afternoon\\'s remains.\\nLeaves rustle tales in the whispering breeze,\\nMoments bloom and fade with elegant ease.\\n\\n**Climax**\\nThe sky, an artist\\'s canvas at twilight,\\nBrushes strokes of color; oh, what a sight!\\n\\n**Resolution and Conclusion**\\nAs dusk descends with a hushed, gentle sigh,\\nStars twinkle dreams in the cradle of sky.\\nWithin the cycle, both the start and end,\\nIn every goodbye, a new day we\\'ll befriend.\\n\\n---\\n\\nWe can now save this poem to disk, titled \"The Journey of a Day.\"', name='Note Taker')]}}\n",
            "---\n",
            "{'supervisor': {'next': 'Doc Writer'}}\n",
            "---\n",
            "{'Doc Writer': {'messages': [HumanMessage(content='The poem \"The Journey of a Day\" has been written and saved to disk as \"The_Journey_of_a_Day_Poem.txt\".', name='Doc Writer')]}}\n",
            "---\n",
            "{'supervisor': {'next': 'Doc Writer'}}\n",
            "---\n",
            "{'Doc Writer': {'messages': [HumanMessage(content='The poem \"The Journey of a Day\" has been successfully written and saved to disk as \"The_Journey_of_a_Day_Poem.txt\".', name='Doc Writer')]}}\n",
            "---\n",
            "{'supervisor': {'next': 'FINISH'}}\n",
            "---\n"
          ]
        }
      ],
      "source": [
        "for s in authoring_chain.stream(\n",
        "        \"Write an outline for poem and then write the poem to disk.\",\n",
        "        {\"recursion_limit\": 100}\n",
        "    ):\n",
        "    if \"__end__\" not in s:\n",
        "        print(s)\n",
        "        print(\"---\")"
      ]
    },
    {
      "cell_type": "markdown",
      "id": "f4b5b08d-9a9a-474a-94b4-f7aaa8ff19e6",
      "metadata": {
        "id": "f4b5b08d-9a9a-474a-94b4-f7aaa8ff19e6"
      },
      "source": [
        "## Add Layers\n",
        "\n",
        "In this design, we are enforcing a top-down planning policy. We've created two graphs already, but we have to decide how to route work between the two.\n",
        "\n",
        "We'll create a _third_ graph to orchestrate the previous two, and add some connectors to define how this top-level state is shared between the different graphs."
      ]
    },
    {
      "cell_type": "code",
      "execution_count": 11,
      "id": "95ae7e52-92ed-41a3-88c4-21b6d7c8b041",
      "metadata": {
        "id": "95ae7e52-92ed-41a3-88c4-21b6d7c8b041"
      },
      "outputs": [],
      "source": [
        "from langchain_core.messages import AIMessage, BaseMessage, HumanMessage\n",
        "from langchain_openai.chat_models import ChatOpenAI\n",
        "\n",
        "\n",
        "llm = ChatOpenAI(model=\"gpt-4-1106-preview\")\n",
        "\n",
        "supervisor_node = create_team_supervisor(\n",
        "    llm,\n",
        "    \"You are a supervisor tasked with managing a conversation between the\"\n",
        "    \" following teams: {team_members}. Given the following user request,\"\n",
        "    \" respond with the worker to act next. Each worker will perform a\"\n",
        "    \" task and respond with their results and status. When finished,\"\n",
        "    \" respond with FINISH.\",\n",
        "    [\"Research team\", \"Paper writing team\"],\n",
        ")"
      ]
    },
    {
      "cell_type": "code",
      "execution_count": 12,
      "id": "4880e573-612f-4d24-97c1-2079382a4a2f",
      "metadata": {
        "id": "4880e573-612f-4d24-97c1-2079382a4a2f"
      },
      "outputs": [],
      "source": [
        "# Top-level graph state\n",
        "class State(TypedDict):\n",
        "    messages: Annotated[List[BaseMessage], operator.add]\n",
        "    next: str\n",
        "\n",
        "def get_last_message(state: State) -> str:\n",
        "    return state[\"messages\"][-1].content\n",
        "\n",
        "\n",
        "def join_graph(response: dict):\n",
        "    return {\"messages\": [response[\"messages\"][-1]]}\n",
        "\n",
        "# Define the graph.\n",
        "super_graph = StateGraph(State)\n",
        "# First add the nodes, which will do the work\n",
        "super_graph.add_node(\"Research team\", get_last_message | research_chain | join_graph)\n",
        "super_graph.add_node(\n",
        "    \"Paper writing team\", get_last_message | authoring_chain | join_graph\n",
        ")\n",
        "super_graph.add_node(\"supervisor\", supervisor_node)\n",
        "\n",
        "# Define the graph connections, which controls how the logic\n",
        "# propagates through the program\n",
        "super_graph.add_edge(\"Research team\", \"supervisor\")\n",
        "super_graph.add_edge(\"Paper writing team\", \"supervisor\")\n",
        "super_graph.add_conditional_edges(\n",
        "    \"supervisor\",\n",
        "    lambda x: x[\"next\"],\n",
        "    {\n",
        "        \"Paper writing team\": \"Paper writing team\",\n",
        "        \"Research team\": \"Research team\",\n",
        "        \"FINISH\": END\n",
        "    }\n",
        ")\n",
        "super_graph.set_entry_point(\"supervisor\")\n",
        "super_graph = super_graph.compile()"
      ]
    },
    {
      "cell_type": "code",
      "execution_count": 14,
      "id": "6b8badbf-d728-44bd-a2a7-5b4e587c92fe",
      "metadata": {
        "id": "6b8badbf-d728-44bd-a2a7-5b4e587c92fe",
        "outputId": "a8a406f3-b84b-4d11-d384-36d856309879",
        "colab": {
          "base_uri": "https://localhost:8080/"
        }
      },
      "outputs": [
        {
          "output_type": "stream",
          "name": "stdout",
          "text": [
            "{'supervisor': {'next': 'Research team'}}\n",
            "---\n",
            "{'Research team': {'messages': [HumanMessage(content='# Research Report on North American Sturgeon\\n\\n## Overview\\nSturgeons are an ancestral group of fishes that date back to the Cretaceous period, approximately 136 million years ago. They are characterized by their elongated bodies, scutes (bony plates), and heterocercal tails. North America is home to several species of sturgeon, which are known for their size, longevity, and value for their roe, which is processed into caviar.\\n\\n## North American Sturgeon Species\\nThere are 27 known species of sturgeons worldwide, with 9 species endemic to North America. Notable species include:\\n\\n- **Pallid Sturgeon (Scaphirhynchus albus)**\\n- **White Sturgeon (Acipenser transmontanus)**\\n- **Green Sturgeon (Acipenser medirostris)**\\n- **Lake Sturgeon (Acipenser fulvescens)**\\n- **Atlantic Sturgeon (Acipenser oxyrinchus)**\\n\\n## Atlantic Sturgeon\\nThe Atlantic sturgeon is the largest species found in New York State and can live between 30 to 60 years. They grow to lengths of 6 to 14 feet and can weigh more than 200 pounds, with some individuals recorded at 800 pounds. Unfortunately, due to historic overharvesting and habitat degradation, the Atlantic sturgeon populations have significantly declined, leading to their listing under the Endangered Species Act of the United States in 2012.\\n\\n## Conservation Efforts\\nEfforts to protect and restore sturgeon populations are ongoing. Species such as the Atlantic sturgeon are showing signs of recovery following a fishing moratorium. Furthermore, a federal court has ordered a determination by 2024 on whether lake sturgeon populations will be protected under the Endangered Species Act due to their imperiled status.\\n\\n## Chart of North American Sturgeon Species\\n\\n| Species            | Scientific Name            | Typical Length | Lifespan     | Conservation Status |\\n|--------------------|----------------------------|----------------|--------------|---------------------|\\n| Pallid Sturgeon    | Scaphirhynchus albus       | Not specified  | Not specified| Endangered          |\\n| White Sturgeon     | Acipenser transmontanus    | Not specified  | Not specified| Least Concern       |\\n| Green Sturgeon     | Acipenser medirostris      | Not specified  | Not specified| Near Threatened     |\\n| Lake Sturgeon      | Acipenser fulvescens       | Not specified  | Not specified| Under consideration |\\n| Atlantic Sturgeon  | Acipenser oxyrinchus       | 6 to 14 feet   | 30 to 60 years| Endangered         |\\n\\nPlease note that the conservation status and other details may vary and are subject to change as new data becomes available and conservation efforts progress. This chart offers a general overview and does not include all North American sturgeon species or specific data for each species.\\n\\n## Conclusion\\nNorth American sturgeons are remarkable for their evolutionary history and ecological significance. Despite facing considerable threats from human activities, concerted conservation efforts offer hope for their recovery and long-term survival.\\n\\n## References\\n- [Earthwave Society](https://www.earthwave.org/sturgeon)\\n- [NatureServe: Atlantic Sturgeon](https://guides.nynhp.org/atlantic-sturgeon/)\\n- [Springer: Atlantic Sturgeon in Canada](https://link.springer.com/article/10.1007/s10592-021-01390-x)\\n- [The Christian Science Monitor: Sturgeon Population Comeback](https://www.csmonitor.com/Environment/2019/0710/Sturgeon-population-makes-comeback-after-near-extinction)\\n- [Center for Biological Diversity: Lake Sturgeon Endangered Species Decision](https://biologicaldiversity.org/w/news/press-releases/lake-sturgeon-will-get-endangered-species-decision-in-2024-2021-09-15/)\\n\\nThis report provides a snapshot of the status and conservation efforts related to North American sturgeons, emphasizing the importance of protecting these ancient species for future generations.', name='Search')]}}\n",
            "---\n",
            "{'supervisor': {'next': 'Research team'}}\n",
            "---\n",
            "{'Research team': {'messages': [HumanMessage(content=\"Based on the information gathered from the search results:\\n\\n- **Sturgeon Endangerment**: Many sturgeon species are facing endangerment. For instance, the Beluga sturgeon, known for its valuable caviar, has seen its population decrease by 90% due to overfishing and habitat degradation. Although this species is not North American, it highlights the global threats that sturgeons face.\\n\\n- **White Sturgeon**: The white sturgeon, native to North America's West Coast, is also experiencing difficulties, although the exact conservation status was not specified in the search results. This species is facing challenges that are common to many sturgeon species.\\n\\n- **IUCN Red List**: According to the IUCN (International Union for Conservation of Nature), out of the 27 known sturgeon species, 25 are threatened with extinction. This suggests a dire conservation status for sturgeon species globally.\\n\\n- **Global Sturgeon Reassessment**: A global sturgeon reassessment by the IUCN Sturgeon Specialist Group reveals that almost two-thirds of sturgeon and paddlefish species are critically endangered, making them the most threatened group of species on the IUCN Red List of Threatened Species.\\n\\n- **Lake Sturgeon**: A specific mention of the lake sturgeon indicates that a federal court has ordered a decision by 2024 on whether this species will be protected under the Endangered Species Act due to their imperiled status. This aligns with the information provided in the report that lake sturgeon populations are under consideration for protection.\\n\\nThe report's chart on North American sturgeon species provides a general overview of their conservation status, but it is essential to note that the conservation status is dynamic and subject to change based on ongoing assessments and conservation efforts.\\n\\nTo conclude, the status of North American sturgeon species is of concern, with many species facing endangerment or being critically endangered. Conservation efforts are crucial to ensure the survival of these ancient fish species. It is recommended to refer to the IUCN Red List and other conservation resources for the most up-to-date information on the status of specific sturgeon species.\", name='Search')]}}\n",
            "---\n",
            "{'supervisor': {'next': 'Research team'}}\n",
            "---\n",
            "{'Research team': {'messages': [HumanMessage(content=\"Based on the information gathered from the search results:\\n\\n- **Sturgeon Endangerment**: Many sturgeon species are facing endangerment. For instance, the Beluga sturgeon, known for its valuable caviar, has seen its population decrease by 90% due to overfishing and habitat degradation. Although this species is not North American, it highlights the global threats that sturgeons face.\\n\\n- **White Sturgeon**: The white sturgeon, native to North America's West Coast, is also experiencing difficulties, although the exact conservation status was not specified in the search results. This species is facing challenges that are common to many sturgeon species.\\n\\n- **IUCN Red List**: According to the IUCN (International Union for Conservation of Nature), out of the 27 known sturgeon species, 25 are threatened with extinction. This suggests a dire conservation status for sturgeon species globally.\\n\\n- **Global Sturgeon Reassessment**: A global sturgeon reassessment by the IUCN Sturgeon Specialist Group reveals that almost two-thirds of sturgeon and paddlefish species are critically endangered, making them the most threatened group of species on the IUCN Red List of Threatened Species.\\n\\n- **Lake Sturgeon**: A specific mention of the lake sturgeon indicates that a federal court has ordered a decision by 2024 on whether this species will be protected under the Endangered Species Act due to their imperiled status. This aligns with the information provided in the report that lake sturgeon populations are under consideration for protection.\\n\\nThe report's chart on North American sturgeon species provides a general overview of their conservation status, but it is essential to note that the conservation status is dynamic and subject to change based on ongoing assessments and conservation efforts.\\n\\nTo conclude, the status of North American sturgeon species is of concern, with many species facing endangerment or being critically endangered. Conservation efforts are crucial to ensure the survival of these ancient fish species. It is recommended to refer to the IUCN Red List and other conservation resources for the most up-to-date information on the status of specific sturgeon species.\")]}}\n",
            "---\n"
          ]
        },
        {
          "output_type": "stream",
          "name": "stderr",
          "text": [
            "WARNING:urllib3.connectionpool:Retrying (Retry(total=2, connect=None, read=None, redirect=None, status=None)) after connection broken by 'RemoteDisconnected('Remote end closed connection without response')': /runs\n"
          ]
        },
        {
          "output_type": "stream",
          "name": "stdout",
          "text": [
            "{'supervisor': {'next': 'Research team'}}\n",
            "---\n",
            "{'Research team': {'messages': [HumanMessage(content=\"Based on the information gathered from the search results:\\n\\n- **Sturgeon Endangerment**: Many sturgeon species are facing endangerment. For instance, the Beluga sturgeon, known for its valuable caviar, has seen its population decrease by 90% due to overfishing and habitat degradation. Although this species is not North American, it highlights the global threats that sturgeons face.\\n\\n- **White Sturgeon**: The white sturgeon, native to North America's West Coast, is also experiencing difficulties, although the exact conservation status was not specified in the search results. This species is facing challenges that are common to many sturgeon species.\\n\\n- **IUCN Red List**: According to the IUCN (International Union for Conservation of Nature), out of the 27 known sturgeon species, 25 are threatened with extinction. This suggests a dire conservation status for sturgeon species globally.\\n\\n- **Global Sturgeon Reassessment**: A global sturgeon reassessment by the IUCN Sturgeon Specialist Group reveals that almost two-thirds of sturgeon and paddlefish species are critically endangered, making them the most threatened group of species on the IUCN Red List of Threatened Species.\\n\\n- **Lake Sturgeon**: A specific mention of the lake sturgeon indicates that a federal court has ordered a decision by 2024 on whether this species will be protected under the Endangered Species Act due to their imperiled status. This aligns with the information provided in the report that lake sturgeon populations are under consideration for protection.\\n\\nThe report's chart on North American sturgeon species provides a general overview of their conservation status, but it is essential to note that the conservation status is dynamic and subject to change based on ongoing assessments and conservation efforts.\\n\\nTo conclude, the status of North American sturgeon species is of concern, with many species facing endangerment or being critically endangered. Conservation efforts are crucial to ensure the survival of these ancient fish species. It is recommended to refer to the IUCN Red List and other conservation resources for the most up-to-date information on the status of specific sturgeon species.\")]}}\n",
            "---\n",
            "{'supervisor': {'next': 'Research team'}}\n",
            "---\n",
            "{'Research team': {'messages': [HumanMessage(content=\"Based on the information gathered from the search results:\\n\\n- **Sturgeon Endangerment**: Many sturgeon species are facing endangerment. For instance, the Beluga sturgeon, known for its valuable caviar, has seen its population decrease by 90% due to overfishing and habitat degradation. Although this species is not North American, it highlights the global threats that sturgeons face.\\n\\n- **White Sturgeon**: The white sturgeon, native to North America's West Coast, is also experiencing difficulties, although the exact conservation status was not specified in the search results. This species is facing challenges that are common to many sturgeon species.\\n\\n- **IUCN Red List**: According to the IUCN (International Union for Conservation of Nature), out of the 27 known sturgeon species, 25 are threatened with extinction. This suggests a dire conservation status for sturgeon species globally.\\n\\n- **Global Sturgeon Reassessment**: A global sturgeon reassessment by the IUCN Sturgeon Specialist Group reveals that almost two-thirds of sturgeon and paddlefish species are critically endangered, making them the most threatened group of species on the IUCN Red List of Threatened Species.\\n\\n- **Lake Sturgeon**: A specific mention of the lake sturgeon indicates that a federal court has ordered a decision by 2024 on whether this species will be protected under the Endangered Species Act due to their imperiled status. This aligns with the information provided in the report that lake sturgeon populations are under consideration for protection.\\n\\nThe report's chart on North American sturgeon species provides a general overview of their conservation status, but it is essential to note that the conservation status is dynamic and subject to change based on ongoing assessments and conservation efforts.\\n\\nTo conclude, the status of North American sturgeon species is of concern, with many species facing endangerment or being critically endangered. Conservation efforts are crucial to ensure the survival of these ancient fish species. It is recommended to refer to the IUCN Red List and other conservation resources for the most up-to-date information on the status of specific sturgeon species.\")]}}\n",
            "---\n",
            "{'supervisor': {'next': 'Research team'}}\n",
            "---\n",
            "{'Research team': {'messages': [HumanMessage(content=\"Based on the information gathered from the search results:\\n\\n- **Sturgeon Endangerment**: Many sturgeon species are facing endangerment. For instance, the Beluga sturgeon, known for its valuable caviar, has seen its population decrease by 90% due to overfishing and habitat degradation. Although this species is not North American, it highlights the global threats that sturgeons face.\\n\\n- **White Sturgeon**: The white sturgeon, native to North America's West Coast, is also experiencing difficulties, although the exact conservation status was not specified in the search results. This species is facing challenges that are common to many sturgeon species.\\n\\n- **IUCN Red List**: According to the IUCN (International Union for Conservation of Nature), out of the 27 known sturgeon species, 25 are threatened with extinction. This suggests a dire conservation status for sturgeon species globally.\\n\\n- **Global Sturgeon Reassessment**: A global sturgeon reassessment by the IUCN Sturgeon Specialist Group reveals that almost two-thirds of sturgeon and paddlefish species are critically endangered, making them the most threatened group of species on the IUCN Red List of Threatened Species.\\n\\n- **Lake Sturgeon**: A specific mention of the lake sturgeon indicates that a federal court has ordered a decision by 2024 on whether this species will be protected under the Endangered Species Act due to their imperiled status. This aligns with the information provided in the report that lake sturgeon populations are under consideration for protection.\\n\\nThe report's chart on North American sturgeon species provides a general overview of their conservation status, but it is essential to note that the conservation status is dynamic and subject to change based on ongoing assessments and conservation efforts.\\n\\nTo conclude, the status of North American sturgeon species is of concern, with many species facing endangerment or being critically endangered. Conservation efforts are crucial to ensure the survival of these ancient fish species. It is recommended to refer to the IUCN Red List and other conservation resources for the most up-to-date information on the status of specific sturgeon species.\")]}}\n",
            "---\n",
            "{'supervisor': {'next': 'Research team'}}\n",
            "---\n",
            "{'Research team': {'messages': [HumanMessage(content=\"Based on the information gathered from the search results:\\n\\n- **Sturgeon Endangerment**: Many sturgeon species are facing endangerment. For instance, the Beluga sturgeon, known for its valuable caviar, has seen its population decrease by 90% due to overfishing and habitat degradation. Although this species is not North American, it highlights the global threats that sturgeons face.\\n\\n- **White Sturgeon**: The white sturgeon, native to North America's West Coast, is also experiencing difficulties, although the exact conservation status was not specified in the search results. This species is facing challenges that are common to many sturgeon species.\\n\\n- **IUCN Red List**: According to the IUCN (International Union for Conservation of Nature), out of the 27 known sturgeon species, 25 are threatened with extinction. This suggests a dire conservation status for sturgeon species globally.\\n\\n- **Global Sturgeon Reassessment**: A global sturgeon reassessment by the IUCN Sturgeon Specialist Group reveals that almost two-thirds of sturgeon and paddlefish species are critically endangered, making them the most threatened group of species on the IUCN Red List of Threatened Species.\\n\\n- **Lake Sturgeon**: A specific mention of the lake sturgeon indicates that a federal court has ordered a decision by 2024 on whether this species will be protected under the Endangered Species Act due to their imperiled status. This aligns with the information provided in the report that lake sturgeon populations are under consideration for protection.\\n\\nThe report's chart on North American sturgeon species provides a general overview of their conservation status, but it is essential to note that the conservation status is dynamic and subject to change based on ongoing assessments and conservation efforts.\\n\\nTo conclude, the status of North American sturgeon species is of concern, with many species facing endangerment or being critically endangered. Conservation efforts are crucial to ensure the survival of these ancient fish species. It is recommended to refer to the IUCN Red List and other conservation resources for the most up-to-date information on the status of specific sturgeon species.\")]}}\n",
            "---\n",
            "{'supervisor': {'next': 'FINISH'}}\n",
            "---\n"
          ]
        }
      ],
      "source": [
        "for s in super_graph.stream(\n",
        "        {\n",
        "            \"messages\": [\n",
        "                HumanMessage(content=\"Write a brief research report on the North American sturgeon. Include a chart.\")\n",
        "            ],\n",
        "        },\n",
        "        {\"recursion_limit\": 150},\n",
        "    ):\n",
        "    if \"__end__\" not in s:\n",
        "        print(s)\n",
        "        print(\"---\")"
      ]
    },
    {
      "cell_type": "code",
      "execution_count": null,
      "id": "fb1b06f5-648c-459c-84f3-431807373782",
      "metadata": {
        "id": "fb1b06f5-648c-459c-84f3-431807373782"
      },
      "outputs": [],
      "source": []
    }
  ],
  "metadata": {
    "kernelspec": {
      "display_name": "Python 3",
      "name": "python3"
    },
    "language_info": {
      "codemirror_mode": {
        "name": "ipython",
        "version": 3
      },
      "file_extension": ".py",
      "mimetype": "text/x-python",
      "name": "python",
      "nbconvert_exporter": "python",
      "pygments_lexer": "ipython3",
      "version": "3.11.1"
    },
    "colab": {
      "provenance": [],
      "gpuType": "T4",
      "include_colab_link": true
    },
    "accelerator": "GPU"
  },
  "nbformat": 4,
  "nbformat_minor": 5
}