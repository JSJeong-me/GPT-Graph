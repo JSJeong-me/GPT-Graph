{
  "cells": [
    {
      "cell_type": "markdown",
      "metadata": {
        "id": "view-in-github",
        "colab_type": "text"
      },
      "source": [
        "<a href=\"https://colab.research.google.com/github/JSJeong-me/GPT-Graph/blob/main/22-multi-agent-collaboration.ipynb\" target=\"_parent\"><img src=\"https://colab.research.google.com/assets/colab-badge.svg\" alt=\"Open In Colab\"/></a>"
      ]
    },
    {
      "cell_type": "markdown",
      "id": "39fd1948-b5c3-48c4-b10e-2ae7e8c83334",
      "metadata": {
        "id": "39fd1948-b5c3-48c4-b10e-2ae7e8c83334"
      },
      "source": [
        "# Basic Multi-agent Collaboration\n",
        "\n",
        "A single agent can usually operate effectively using a handful of tools within a single domain, but even using powerful models like `gpt-4`, it can be less effective at using many tools.\n",
        "\n",
        "One way to approach complicated tasks is through a \"divide-and-conquer\" approach: create an specialized agent for each task or domain and route tasks to the correct \"expert\".\n",
        "\n",
        "This notebook (inspired by the paper [AutoGen: Enabling Next-Gen LLM Applications via Multi-Agent Conversation](https://arxiv.org/abs/2308.08155), by Wu, et. al.) shows one way to do this using LangGraph.\n",
        "\n",
        "The resulting graph will look something like the following diagram:\n",
        "\n",
        "![multi_agent diagram](https://github.com/langchain-ai/langgraph/blob/main/examples/multi_agent/img/simple_multi_agent_diagram.png?raw=1)\n",
        "\n",
        "Before we get started, a quick note: this and other multi-agent notebooks are designed to show _how_ you can implement certain design patterns in LangGraph. If the pattern suits your needs, we recommend combining it with some of the other fundamental patterns described elsewhere in the docs for best performance."
      ]
    },
    {
      "cell_type": "code",
      "execution_count": null,
      "id": "0d7b6dcc-c985-46e2-8457-7e6b0298b950",
      "metadata": {
        "id": "0d7b6dcc-c985-46e2-8457-7e6b0298b950"
      },
      "outputs": [],
      "source": [
        "!pip install -U langchain langchain_openai langsmith pandas langchain_experimental matplotlib"
      ]
    },
    {
      "cell_type": "code",
      "source": [
        "!pip install langgraph python-dotenv"
      ],
      "metadata": {
        "id": "O3H-dOVwEvUP"
      },
      "id": "O3H-dOVwEvUP",
      "execution_count": null,
      "outputs": []
    },
    {
      "cell_type": "code",
      "source": [
        "!echo \"OPENAI_API_KEY=sk-\" >> .env\n",
        "!echo \"TAVILY_API_KEY=tvly-\" >> .env\n",
        "!echo \"LANGCHAIN_API_KEY=ls__\" >> .env\n",
        "!source /content/.env\n",
        "\n",
        "import os\n",
        "from dotenv import load_dotenv\n",
        "\n",
        "# Load environment variables from .env file\n",
        "load_dotenv()\n",
        "# Access the API key using the variable name defined in the .env file\n",
        "api_key = os.getenv(\"OPENAI_API_KEY\")\n",
        "api_key = os.getenv(\"TAVILY_API_KEY\")\n",
        "api_key = os.getenv(\"LANGCHAIN_API_KEY\")"
      ],
      "metadata": {
        "id": "cN6yYqqbDAKx"
      },
      "id": "cN6yYqqbDAKx",
      "execution_count": 2,
      "outputs": []
    },
    {
      "cell_type": "code",
      "source": [
        "# Optional, add tracing in LangSmith\n",
        "os.environ[\"LANGCHAIN_TRACING_V2\"] = \"true\"\n",
        "os.environ[\"LANGCHAIN_PROJECT\"] = \"Multi-agent Collaboration\""
      ],
      "metadata": {
        "id": "X80MljZsCLgN"
      },
      "id": "X80MljZsCLgN",
      "execution_count": 3,
      "outputs": []
    },
    {
      "cell_type": "code",
      "source": [],
      "metadata": {
        "id": "XtIjnt8hCOIE"
      },
      "id": "XtIjnt8hCOIE",
      "execution_count": 2,
      "outputs": []
    },
    {
      "cell_type": "markdown",
      "id": "5e4344a7-21df-4d54-90d2-9d19b3416ffb",
      "metadata": {
        "id": "5e4344a7-21df-4d54-90d2-9d19b3416ffb"
      },
      "source": [
        "## Create Agents\n",
        "\n",
        "The following helper functions will help create agents. These agents will then be nodes in the graph.\n",
        "\n",
        "You can skip ahead if you just want to see what the graph looks like."
      ]
    },
    {
      "cell_type": "code",
      "execution_count": 4,
      "id": "4325a10e-38dc-4a98-9004-e1525eaba377",
      "metadata": {
        "id": "4325a10e-38dc-4a98-9004-e1525eaba377"
      },
      "outputs": [],
      "source": [
        "import json\n",
        "\n",
        "from langchain_core.messages import (\n",
        "    AIMessage,\n",
        "    BaseMessage,\n",
        "    ChatMessage,\n",
        "    FunctionMessage,\n",
        "    HumanMessage,\n",
        ")\n",
        "from langchain.tools.render import format_tool_to_openai_function\n",
        "from langchain_core.prompts import ChatPromptTemplate, MessagesPlaceholder\n",
        "from langgraph.graph import END, StateGraph\n",
        "from langgraph.prebuilt.tool_executor import ToolExecutor, ToolInvocation\n",
        "\n",
        "\n",
        "def create_agent(llm, tools, system_message: str):\n",
        "    \"\"\"Create an agent.\"\"\"\n",
        "    functions = [format_tool_to_openai_function(t) for t in tools]\n",
        "\n",
        "    prompt = ChatPromptTemplate.from_messages(\n",
        "        [\n",
        "            (\n",
        "                \"system\",\n",
        "                \"You are a helpful AI assistant, collaborating with other assistants.\"\n",
        "                \" Use the provided tools to progress towards answering the question.\"\n",
        "                \" If you are unable to fully answer, that's OK, another assistant with different tools \"\n",
        "                \" will help where you left off. Execute what you can to make progress.\"\n",
        "                \" If you or any of the other assistants have the final answer or deliverable,\"\n",
        "                \" prefix your response with FINAL ANSWER so the team knows to stop.\"\n",
        "                \" You have access to the following tools: {tool_names}.\\n{system_message}\",\n",
        "            ),\n",
        "            MessagesPlaceholder(variable_name=\"messages\"),\n",
        "        ]\n",
        "    )\n",
        "    prompt = prompt.partial(system_message=system_message)\n",
        "    prompt = prompt.partial(tool_names=\", \".join([tool.name for tool in tools]))\n",
        "    return prompt | llm.bind_functions(functions)\n",
        "\n",
        "\n"
      ]
    },
    {
      "cell_type": "markdown",
      "id": "b4b40de2-5dd4-4d5b-882e-577210723ff4",
      "metadata": {
        "id": "b4b40de2-5dd4-4d5b-882e-577210723ff4"
      },
      "source": [
        "## Define tools\n",
        "\n",
        "We will also define some tools that our agents will use in the future"
      ]
    },
    {
      "cell_type": "code",
      "execution_count": 5,
      "id": "ca076f3b-a729-4ca9-8f91-05c2ba58d610",
      "metadata": {
        "id": "ca076f3b-a729-4ca9-8f91-05c2ba58d610"
      },
      "outputs": [],
      "source": [
        "from langchain_core.tools import tool\n",
        "from typing import Annotated\n",
        "from langchain_experimental.utilities import PythonREPL\n",
        "from langchain_community.tools.tavily_search import TavilySearchResults\n",
        "\n",
        "tavily_tool = TavilySearchResults(max_results=5)\n",
        "\n",
        "# Warning: This executes code locally, which can be unsafe when not sandboxed\n",
        "\n",
        "repl = PythonREPL()\n",
        "\n",
        "\n",
        "@tool\n",
        "def python_repl(\n",
        "    code: Annotated[str, \"The python code to execute to generate your chart.\"]\n",
        "):\n",
        "    \"\"\"Use this to execute python code. If you want to see the output of a value,\n",
        "    you should print it out with `print(...)`. This is visible to the user.\"\"\"\n",
        "    try:\n",
        "        result = repl.run(code)\n",
        "    except BaseException as e:\n",
        "        return f\"Failed to execute. Error: {repr(e)}\"\n",
        "    return f\"Succesfully executed:\\n```python\\n{code}\\n```\\nStdout: {result}\"\n",
        "\n"
      ]
    },
    {
      "cell_type": "markdown",
      "id": "f1b54c0c-0b09-408b-abc5-86308929afb6",
      "metadata": {
        "id": "f1b54c0c-0b09-408b-abc5-86308929afb6"
      },
      "source": [
        "## Create graph\n",
        "\n",
        "Now that we've defined our tools and made some helper functions, will create the individual agents below and tell them how to talk to each other using LangGraph."
      ]
    },
    {
      "cell_type": "markdown",
      "id": "0c6a8c3c-86a0-46aa-b970-ab070fb787d9",
      "metadata": {
        "id": "0c6a8c3c-86a0-46aa-b970-ab070fb787d9"
      },
      "source": [
        "### Define State\n",
        "\n",
        "We first define the state of the graph. This will just a list of messages, along with a key to track the most recent sender"
      ]
    },
    {
      "cell_type": "code",
      "execution_count": 6,
      "id": "290c91d4-f6f4-443c-8181-233d39102974",
      "metadata": {
        "id": "290c91d4-f6f4-443c-8181-233d39102974"
      },
      "outputs": [],
      "source": [
        "import operator\n",
        "from typing import Annotated, List, Sequence, Tuple, TypedDict, Union\n",
        "\n",
        "from langchain.agents import create_openai_functions_agent\n",
        "from langchain.tools.render import format_tool_to_openai_function\n",
        "from langchain_core.prompts import ChatPromptTemplate, MessagesPlaceholder\n",
        "\n",
        "from langchain_openai import ChatOpenAI\n",
        "from typing_extensions import TypedDict\n",
        "\n",
        "\n",
        "# This defines the object that is passed between each node\n",
        "# in the graph. We will create different nodes for each agent and tool\n",
        "class AgentState(TypedDict):\n",
        "    messages: Annotated[Sequence[BaseMessage], operator.add]\n",
        "    sender: str"
      ]
    },
    {
      "cell_type": "markdown",
      "id": "911a283e-ea04-40c1-b792-f9e5f7d81203",
      "metadata": {
        "id": "911a283e-ea04-40c1-b792-f9e5f7d81203"
      },
      "source": [
        "### Define Agent Nodes\n",
        "\n",
        "We now need to define the nodes. First, let's define the nodes for the agents."
      ]
    },
    {
      "cell_type": "code",
      "execution_count": 7,
      "id": "71b790ca-9cef-4b22-b469-4b1d5d8424d6",
      "metadata": {
        "colab": {
          "base_uri": "https://localhost:8080/"
        },
        "id": "71b790ca-9cef-4b22-b469-4b1d5d8424d6",
        "outputId": "236ce081-eacd-4ecb-9068-e5eef2f3608e"
      },
      "outputs": [
        {
          "output_type": "stream",
          "name": "stderr",
          "text": [
            "/usr/local/lib/python3.10/dist-packages/langchain_core/_api/deprecation.py:117: LangChainDeprecationWarning: The function `format_tool_to_openai_function` was deprecated in LangChain 0.1.16 and will be removed in 0.2.0. Use langchain_core.utils.function_calling.convert_to_openai_function() instead.\n",
            "  warn_deprecated(\n"
          ]
        }
      ],
      "source": [
        "import functools\n",
        "\n",
        "\n",
        "# Helper function to create a node for a given agent\n",
        "def agent_node(state, agent, name):\n",
        "    result = agent.invoke(state)\n",
        "    # We convert the agent output into a format that is suitable to append to the global state\n",
        "    if isinstance(result, FunctionMessage):\n",
        "        pass\n",
        "    else:\n",
        "        result = HumanMessage(**result.dict(exclude={\"type\", \"name\"}), name=name)\n",
        "    return {\n",
        "        \"messages\": [result],\n",
        "        # Since we have a strict workflow, we can\n",
        "        # track the sender so we know who to pass to next.\n",
        "        \"sender\": name,\n",
        "    }\n",
        "\n",
        "\n",
        "llm = ChatOpenAI(model=\"gpt-4-1106-preview\")\n",
        "\n",
        "# Research agent and node\n",
        "research_agent = create_agent(\n",
        "    llm,\n",
        "    [tavily_tool],\n",
        "    system_message=\"You should provide accurate data for the chart generator to use.\",\n",
        ")\n",
        "research_node = functools.partial(agent_node, agent=research_agent, name=\"Researcher\")\n",
        "\n",
        "# Chart Generator\n",
        "chart_agent = create_agent(\n",
        "    llm,\n",
        "    [python_repl],\n",
        "    system_message=\"Any charts you display will be visible by the user.\",\n",
        ")\n",
        "chart_node = functools.partial(agent_node, agent=chart_agent, name=\"Chart Generator\")"
      ]
    },
    {
      "cell_type": "markdown",
      "id": "71c7f1b2-24a3-4340-bcb2-feb22e344fb6",
      "metadata": {
        "id": "71c7f1b2-24a3-4340-bcb2-feb22e344fb6"
      },
      "source": [
        "### Define Tool Node\n",
        "\n",
        "We now define a node to run the tools"
      ]
    },
    {
      "cell_type": "code",
      "execution_count": 8,
      "id": "d9a79c76-5c7c-42f6-91cf-635bc8305804",
      "metadata": {
        "id": "d9a79c76-5c7c-42f6-91cf-635bc8305804"
      },
      "outputs": [],
      "source": [
        "tools = [tavily_tool, python_repl]\n",
        "tool_executor = ToolExecutor(tools)\n",
        "\n",
        "def tool_node(state):\n",
        "    \"\"\"This runs tools in the graph\n",
        "\n",
        "    It takes in an agent action and calls that tool and returns the result.\"\"\"\n",
        "    messages = state[\"messages\"]\n",
        "    # Based on the continue condition\n",
        "    # we know the last message involves a function call\n",
        "    last_message = messages[-1]\n",
        "    # We construct an ToolInvocation from the function_call\n",
        "    tool_input = json.loads(\n",
        "        last_message.additional_kwargs[\"function_call\"][\"arguments\"]\n",
        "    )\n",
        "    # We can pass single-arg inputs by value\n",
        "    if len(tool_input) == 1 and \"__arg1\" in tool_input:\n",
        "        tool_input = next(iter(tool_input.values()))\n",
        "    tool_name = last_message.additional_kwargs[\"function_call\"][\"name\"]\n",
        "    action = ToolInvocation(\n",
        "        tool=tool_name,\n",
        "        tool_input=tool_input,\n",
        "    )\n",
        "    # We call the tool_executor and get back a response\n",
        "    response = tool_executor.invoke(action)\n",
        "    # We use the response to create a FunctionMessage\n",
        "    function_message = FunctionMessage(\n",
        "        content=f\"{tool_name} response: {str(response)}\", name=action.tool\n",
        "    )\n",
        "    # We return a list, because this will get added to the existing list\n",
        "    return {\"messages\": [function_message]}"
      ]
    },
    {
      "cell_type": "markdown",
      "id": "bcb30498-dbc4-4b20-980f-da08ebc9da56",
      "metadata": {
        "id": "bcb30498-dbc4-4b20-980f-da08ebc9da56"
      },
      "source": [
        "### Define Edge Logic\n",
        "\n",
        "We can define some of the edge logic that is needed to decide what to do based on results of the agents"
      ]
    },
    {
      "cell_type": "code",
      "execution_count": 9,
      "id": "4f4b4d37-e8a3-4abb-8d42-eaea26016f35",
      "metadata": {
        "id": "4f4b4d37-e8a3-4abb-8d42-eaea26016f35"
      },
      "outputs": [],
      "source": [
        "# Either agent can decide to end\n",
        "def router(state):\n",
        "    # This is the router\n",
        "    messages = state[\"messages\"]\n",
        "    last_message = messages[-1]\n",
        "    if \"function_call\" in last_message.additional_kwargs:\n",
        "        # The previus agent is invoking a tool\n",
        "        return \"call_tool\"\n",
        "    if \"FINAL ANSWER\" in last_message.content:\n",
        "        # Any agent decided the work is done\n",
        "        return \"end\"\n",
        "    return \"continue\""
      ]
    },
    {
      "cell_type": "markdown",
      "id": "e9359c34-e191-43a2-a3d4-f2dea636dfd2",
      "metadata": {
        "id": "e9359c34-e191-43a2-a3d4-f2dea636dfd2"
      },
      "source": [
        "### Define the Graph\n",
        "\n",
        "We can now put it all together and define the graph!"
      ]
    },
    {
      "cell_type": "code",
      "execution_count": 10,
      "id": "4dce3901-6ad5-4df5-8528-6e865cf96cb0",
      "metadata": {
        "id": "4dce3901-6ad5-4df5-8528-6e865cf96cb0"
      },
      "outputs": [],
      "source": [
        "workflow = StateGraph(AgentState)\n",
        "\n",
        "workflow.add_node(\"Researcher\", research_node)\n",
        "workflow.add_node(\"Chart Generator\", chart_node)\n",
        "workflow.add_node(\"call_tool\", tool_node)\n",
        "\n",
        "workflow.add_conditional_edges(\n",
        "    \"Researcher\",\n",
        "    router,\n",
        "    {\"continue\": \"Chart Generator\", \"call_tool\": \"call_tool\", \"end\": END},\n",
        ")\n",
        "workflow.add_conditional_edges(\n",
        "    \"Chart Generator\",\n",
        "    router,\n",
        "    {\"continue\": \"Researcher\", \"call_tool\": \"call_tool\", \"end\": END},\n",
        ")\n",
        "\n",
        "workflow.add_conditional_edges(\n",
        "    \"call_tool\",\n",
        "    # Each agent node updates the 'sender' field\n",
        "    # the tool calling node does not, meaning\n",
        "    # this edge will route back to the original agent\n",
        "    # who invoked the tool\n",
        "    lambda x: x[\"sender\"],\n",
        "    {\n",
        "        \"Researcher\": \"Researcher\",\n",
        "        \"Chart Generator\": \"Chart Generator\",\n",
        "    },\n",
        ")\n",
        "workflow.set_entry_point(\"Researcher\")\n",
        "graph = workflow.compile()"
      ]
    },
    {
      "cell_type": "markdown",
      "id": "8c9447e7-9ab6-43eb-8ae6-9b52f8ba8425",
      "metadata": {
        "id": "8c9447e7-9ab6-43eb-8ae6-9b52f8ba8425"
      },
      "source": [
        "## Invoke\n",
        "\n",
        "With the graph created, you can invoke it! Let's have it chart some stats for us."
      ]
    },
    {
      "cell_type": "code",
      "execution_count": 11,
      "id": "176a99b0-b457-45cf-8901-90facaa852da",
      "metadata": {
        "colab": {
          "base_uri": "https://localhost:8080/",
          "height": 964
        },
        "id": "176a99b0-b457-45cf-8901-90facaa852da",
        "outputId": "f5c5b8f7-76bf-4880-bb97-ff89ea16db8b"
      },
      "outputs": [
        {
          "output_type": "stream",
          "name": "stdout",
          "text": [
            "{'Researcher': {'messages': [HumanMessage(content='', additional_kwargs={'function_call': {'arguments': '{\"query\":\"South Korea birth rate last 5 years\"}', 'name': 'tavily_search_results_json'}}, name='Researcher')], 'sender': 'Researcher'}}\n",
            "----\n",
            "{'call_tool': {'messages': [FunctionMessage(content='tavily_search_results_json response: [{\\'url\\': \\'https://www.cnn.com/2023/12/15/asia/south-korea-to-see-population-plummet-intl-hnk/index.html\\', \\'content\\': \"The United Nations Population Fund estimates North Korea’s fertility rate for 2023 at 1.8 births per woman.  South Korea, the country with the world’s lowest birth rate, expects it to fall even further in the next two years  as the median age will increase from 44.9 in 2022 to 63.4 in 2072, Statistics Korea said.  With scant immigration, South Korea’s total population is expected to drop from 51.75 million in 2024 to 36.22 million,With scant immigration, South Korea\\'s total population is expected to drop from 51.75 million in 2024 to 36.22 million, a level not seen since 1977, according to Statistics Korea. In a worst ...\"}, {\\'url\\': \\'https://www.aljazeera.com/news/2023/2/22/s-korea-breaks-record-for-worlds-lowest-fertility-rate-again\\', \\'content\\': \"South Korea’s population peaked at 51.84 million in 2020 and fell to 51.74 million in 2021.  The number of babies expected per woman in South Korea dropped to 0.78 last year, down from 0.81 a year earlier.  The plummeting birth rate has stoked worry that a declining population could severely damage the South Korean economy –  The South Korean capital, Seoul, logged the lowest birth rate of 0.59.22 Feb 2023 South Korea has smashed its own record for the world\\'s lowest fertility rate again, according to official data. The average number of expected babies per South Korean woman...\"}, {\\'url\\': \\'https://www.npr.org/2023/03/19/1163341684/south-korea-fertility-rate\\', \\'content\\': \"Asia South Korea prepares the young for a rapidly aging population  see fertility rates more than double that of Korea at 1.67.  growth over several decades has seen South Korea\\'s GDP boom, but birth rates have gone in the opposite direction.  growth over several decades has seen South Korea\\'s GDP boom, but birth rates have gone in the opposite direction.March 19, 20237:00 AM ET By Ashley Ahn Enlarge this image A woman holding her daughter looks at a view of Seoul in 2019. The fertility rate in South Korea, which has the world\\'s lowest...\"}, {\\'url\\': \\'https://www.theguardian.com/world/2023/feb/22/south-koreas-birthrate-sinks-to-fresh-record-low-as-population-crisis-deepens\\', \\'content\\': \"South Korea’s birthrate sinks to fresh record low as population crisis deepens  In December, the South Korean government unveiled a package of measures to address the low birthrate and ageing  As a result, the number of marriages in South Korea reached an all-time low of 193,000 in 2021.  every 1,000 women in their late 20s – down 3.5% from a year earlier – the Yonhap news agency reported.Just 24 babies were born for every 1,000 women in their late 20s - down 3.5% from a year earlier - the Yonhap news agency reported. With the world\\'s lowest fertility rate and a rapidly ageing...\"}, {\\'url\\': \\'https://edition.cnn.com/2023/02/22/asia/south-korea-lowest-fertility-rate-record-2022-intl-hnk/index.html\\', \\'content\\': \"Meanwhile, Korean women are also having children later in life. The average age of childbirth in South Korea was 33.5  Korea was 33.5 last year.  In 2022, the country recorded about 249,000 births and 372,800 deaths.  CNN values your feedback South Korea breaks its own record for world’s lowest fertility rateSeongJoon Cho/Bloomber/Getty Images Seoul, South Korea CNN — South Korea\\'s fertility rate, already the world\\'s lowest, has dropped yet again in the latest setback to the country\\'s...\"}]', name='tavily_search_results_json')]}}\n",
            "----\n",
            "{'Researcher': {'messages': [HumanMessage(content=\"To create a line graph of South Korea's fertility rate over the past 5 years, I will first need to identify the fertility rate for each of those years from the search results. Here's what I have gathered:\\n\\n1. The fertility rate for South Korea in 2023 is estimated to be 1.8 births per woman.\\n2. In 2022, the fertility rate was 0.78.\\n3. Information for the years 2018, 2019, 2020, and 2021 is not directly provided in these search results.\\n\\nI will need to conduct additional searches to find the missing fertility rates for the years 2018, 2019, 2020, and 2021 to complete the data set. Let's perform these searches next.\", additional_kwargs={'function_call': {'arguments': '{\"query\":\"South Korea fertility rate 2021\"}', 'name': 'tavily_search_results_json'}}, name='Researcher')], 'sender': 'Researcher'}}\n",
            "----\n",
            "{'call_tool': {'messages': [FunctionMessage(content='tavily_search_results_json response: [{\\'url\\': \\'https://www.statista.com/statistics/939360/fertility-rate-in-south-korea/\\', \\'content\\': \\'South Korea: Fertility rate from 2011 to 2021 Additional Information Show sources information  Strategy and business building for the data-driven economy: Fertility rate in South Korea  International Total population of South Korea 2028 Demographics Sex ratio South Korea 2000-2070  Religion Population distribution South Korea 2023, by religion Demographics Divorce rate in South Korea 2008-2022Dec 12, 2023 The total fertility rate in South Korea decreased by 0.03 children per woman (-3.57 percent) in 2021 in comparison to the previous year. As a result, the fertility rate in South...\\'}, {\\'url\\': \\'https://www.bbc.com/news/world-asia-62670717\\', \\'content\\': \\'South Korea records world\\\\\\'s lowest fertility rate again  South Korea has again recorded the world\\\\\\'s lowest fertility rate with the number sinking to a new low.  In 2020 there was widespread alarm in South Korea when it recorded more deaths than births for the first time.  Fertility rates have \"declined markedly\" in the past six decades says the OECD25th August 2022, 12:45 PDT By Frances Mao BBC News AFP The fertility rate - the number of children born to a woman - has dropped again in South Korea South Korea has again recorded the...\\'}, {\\'url\\': \\'https://www.npr.org/2023/03/19/1163341684/south-korea-fertility-rate\\', \\'content\\': \"see fertility rates more than double that of Korea at 1.67.  In South Korea, the fertility rate — the average number of children born to a woman in her reproductive years — is now  World South Korea has the world\\'s lowest fertility rate, a struggle with lessons for us all By Ashley Ahn  gender war in South Korea and countering efforts to solve the fertility issue.In South Korea, the fertility rate — the average number of children born to a woman in her reproductive years — is now 0.78, according to figures released by the Korean government in...\"}, {\\'url\\': \\'https://www.rand.org/pubs/commentary/2022/07/south-koreas-extraordinary-fertility-decline.html\\', \\'content\\': \"In 2021, South Korea\\'s total fertility rate (TFR)—the number of children born to a typical woman over her lifetime—fell  About South Korea\\'s Extraordinary Fertility Decline commentary (The RAND Blog)  Figure 1: Global Trends in Fertility  Korea stands alone as the sole nation with TFR below 1 (the global average is 2.4; the OECD average is 1.61).In 2021, South Korea\\'s total fertility rate (TFR)—the number of children born to a typical woman over her lifetime— fell to 0.81, the lowest ever recorded in a highly developed democratic nation (see Figure 1).\"}, {\\'url\\': \\'https://www.nytimes.com/2022/08/24/world/asia/south-korea-fertility-rate.html\\', \\'content\\': \\'Advertisement Supported by South Korea Breaks Record for World’s Lowest Fertility Rate, Again  — declined for the sixth straight year to 0.81 in 2021, according to Statistics Korea, the national statistics agency.  By comparison, the fertility rate was 1.66 in the United States and 1.37 in Japan. A fertility rate of 2.1 is needed  data, the total fertility rate began to sink more quickly in the 2000s during the financial crises, dropping below 1.0The fertility rate — the average number of children born to a woman during her reproductive years — declined for the sixth straight year to 0.81 in 2021, according to Statistics Korea, the...\\'}]', name='tavily_search_results_json')]}}\n",
            "----\n",
            "{'Researcher': {'messages': [HumanMessage(content=\"Based on the search results, the fertility rate for South Korea from 2018 to 2021 is as follows:\\n\\n- 2021: 0.81\\n- 2020: Information not found directly; need to infer from the data provided.\\n- 2019: Information not found directly; need to infer from the data provided.\\n- 2018: Information not found directly; need to infer from the data provided.\\n\\nThe article from the New York Times mentions that the fertility rate declined for the sixth straight year to 0.81 in 2021. This implies that the fertility rate was declining each year before 2021 as well. However, the exact rates for 2018, 2019, and 2020 are not provided. Given this information, we may need to look for more specific data to accurately determine the fertility rates for these years. Let's perform another search to find the missing rates for 2018, 2019, and 2020.\", additional_kwargs={'function_call': {'arguments': '{\"query\":\"South Korea fertility rate 2018 2019 2020\"}', 'name': 'tavily_search_results_json'}}, name='Researcher')], 'sender': 'Researcher'}}\n",
            "----\n",
            "{'call_tool': {'messages': [FunctionMessage(content='tavily_search_results_json response: [{\\'url\\': \\'https://www.statista.com/statistics/939360/fertility-rate-in-south-korea/\\', \\'content\\': \\'South Korea: Fertility rate from 2011 to 2021 Additional Information Show sources information  Strategy and business building for the data-driven economy: Fertility rate in South Korea  International Total population of South Korea 2028 Demographics Sex ratio South Korea 2000-2070  Religion Population distribution South Korea 2023, by religion Demographics Divorce rate in South Korea 2008-2022The total fertility rate in South Korea decreased by 0.03 children per woman (-3.57 percent) in 2021 in comparison to the previous year. As a result, the fertility rate in South Korea saw its...\\'}, {\\'url\\': \\'https://www.ncbi.nlm.nih.gov/pmc/articles/PMC9623034/\\', \\'content\\': \"from 2.79 in 1970 to 1.74 in 1995, with a further decrease to 1.63 in 2018. In 2018, Korea (0.98) had the lowest TFR  and trends in the population count, number of births, and birth rate in Korea, in the past and future.  The comprehensive graph of the changes in the trends of total live births, CBR, and TFR in Korea for the past 100 years  Based on the above results, the changes and trends in the population count, birth rate, and number of births in KoreaIn Korea\\'s low fertility society, which began in the mid-2000s, the fertility rate dropped to below 0.84 in 2020, despite policies to improve the quality of the population. The death toll has reached 300,000, entering an era of population decline. Conclusion\"}, {\\'url\\': \\'https://www.statista.com/statistics/1069672/total-fertility-rate-south-korea-historical/\\', \\'content\\': \"Strategy and business building for the data-driven economy: Total fertility rate of South Korea 1900-2020  Total fertility rate in Republic of Korea from 1900 to 2020* Additional Information Show sources information  Show publisher information Use Ask Statista Research Service August 2019 South Korea 1900 to 2020  Demographics Number of live births Japan 2012-2021 Demographics Mean age of childbearing Japan 1950-2030Lowest in the world? Despite government initiatives aimed at increasing fertility, including financial incentives, South Korea\\'s fertility rate has continued to fall in recent years, and...\"}, {\\'url\\': \\'https://www.rand.org/pubs/commentary/2022/07/south-koreas-extraordinary-fertility-decline.html\\', \\'content\\': \"In 2021, South Korea\\'s total fertility rate (TFR)—the number of children born to a typical woman over her lifetime—fell  About South Korea\\'s Extraordinary Fertility Decline commentary (The RAND Blog)  Figure 1: Global Trends in Fertility  Author\\'s calculations using OECD data: Demography - Fertility rates - OECD DataIn 2021, South Korea\\'s total fertility rate (TFR)—the number of children born to a typical woman over her lifetime— fell to 0.81, the lowest ever recorded in a highly developed democratic nation (see Figure 1).\"}, {\\'url\\': \\'https://www.npr.org/2023/03/19/1163341684/south-korea-fertility-rate\\', \\'content\\': \"see fertility rates more than double that of Korea at 1.67.  In South Korea, the fertility rate — the average number of children born to a woman in her reproductive years — is now  World South Korea has the world\\'s lowest fertility rate, a struggle with lessons for us all By Ashley Ahn  gender war in South Korea and countering efforts to solve the fertility issue.World South Korea has the world\\'s lowest fertility rate, a struggle with lessons for us all March 19, 20237:00 AM ET By Ashley Ahn Enlarge this image A woman holding her daughter looks at a...\"}]', name='tavily_search_results_json')]}}\n",
            "----\n",
            "{'Researcher': {'messages': [HumanMessage(content=\"The search results have provided additional information on South Korea's fertility rate for the year 2018 and 2020:\\n\\n- 2020: Fertility rate dropped to below 0.84.\\n- 2018: Fertility rate was 0.98.\\n\\nHowever, the fertility rate for 2019 is still not directly provided in these results. Since we have the rates for 2018 and 2020, we could estimate the 2019 fertility rate by averaging these two years or by considering the trend. Since the rate has been decreasing consistently, it would be reasonable to estimate that the 2019 fertility rate is slightly less than 0.98 but higher than 0.84.\\n\\nLet's assume a linear trend for simplicity and estimate the fertility rate for 2019. If we take the average of 2018 and 2020 rates, we get (0.98 + 0.84) / 2 = 0.91. This is a rough estimate and should be treated as such.\\n\\nNow we have the following fertility rates:\\n\\n- 2018: 0.98\\n- 2019: ~0.91 (estimated)\\n- 2020: <0.84\\n- 2021: 0.81\\n- 2022: 0.78\\n- 2023: 1.8 (this seems to be an outlier or possibly a typo in the search results, as it does not fit the trend)\\n\\nWith this data, we can create a line graph showing the trend of South Korea's fertility rate over the past five years, although the fertility rate for 2019 is an estimate and the rate for 2023 might be incorrect. Shall we proceed with these figures, or would you like to try to confirm the 2023 figure?\", name='Researcher')], 'sender': 'Researcher'}}\n",
            "----\n"
          ]
        },
        {
          "output_type": "stream",
          "name": "stderr",
          "text": [
            "WARNING:langchain_experimental.utilities.python:Python REPL can execute arbitrary code. Use with caution.\n"
          ]
        },
        {
          "output_type": "stream",
          "name": "stdout",
          "text": [
            "{'Chart Generator': {'messages': [HumanMessage(content='', additional_kwargs={'function_call': {'arguments': '{\"code\":\"import matplotlib.pyplot as plt\\\\n\\\\n# Fertility rates for South Korea from 2018 to 2022\\\\nyears = [2018, 2019, 2020, 2021, 2022]\\\\nrates = [0.98, 0.91, 0.84, 0.81, 0.78]  # Estimated value for 2019\\\\n\\\\n# Plot line graph\\\\nplt.figure(figsize=(10, 5))\\\\nplt.plot(years, rates, marker=\\'o\\')\\\\nplt.title(\\'Fertility Rate in South Korea (2018-2022)\\')\\\\nplt.xlabel(\\'Year\\')\\\\nplt.ylabel(\\'Fertility Rate (births per woman)\\')\\\\nplt.grid(True)\\\\nplt.xticks(years)\\\\nplt.show()\"}', 'name': 'python_repl'}}, name='Chart Generator')], 'sender': 'Chart Generator'}}\n",
            "----\n"
          ]
        },
        {
          "output_type": "display_data",
          "data": {
            "text/plain": [
              "<Figure size 1000x500 with 1 Axes>"
            ],
            "image/png": "[encoded data removed]"
          },
          "metadata": {}
        },
        {
          "output_type": "stream",
          "name": "stdout",
          "text": [
            "{'call_tool': {'messages': [FunctionMessage(content=\"python_repl response: Succesfully executed:\\n```python\\nimport matplotlib.pyplot as plt\\n\\n# Fertility rates for South Korea from 2018 to 2022\\nyears = [2018, 2019, 2020, 2021, 2022]\\nrates = [0.98, 0.91, 0.84, 0.81, 0.78]  # Estimated value for 2019\\n\\n# Plot line graph\\nplt.figure(figsize=(10, 5))\\nplt.plot(years, rates, marker='o')\\nplt.title('Fertility Rate in South Korea (2018-2022)')\\nplt.xlabel('Year')\\nplt.ylabel('Fertility Rate (births per woman)')\\nplt.grid(True)\\nplt.xticks(years)\\nplt.show()\\n```\\nStdout: \", name='python_repl')]}}\n",
            "----\n",
            "{'Chart Generator': {'messages': [HumanMessage(content=\"Here is the line graph showing the trend of South Korea's fertility rate from 2018 to 2022:\\n\\n![Fertility Rate in South Korea (2018-2022)](sandbox:/mnt/data/chart.png)\\n\\nPlease note that the value for 2019 is estimated, and the 2023 rate has been omitted due to a potential discrepancy in the data.\", name='Chart Generator')], 'sender': 'Chart Generator'}}\n",
            "----\n",
            "{'Researcher': {'messages': [HumanMessage(content=\"FINAL ANSWER\\n\\nHere is the line graph showing the trend of South Korea's fertility rate from 2018 to 2022:\\n\\n![Fertility Rate in South Korea (2018-2022)](sandbox:/mnt/data/chart.png)\\n\\nPlease note that the value for 2019 is estimated, and the 2023 rate has been omitted due to a potential discrepancy in the data.\", name='Researcher')], 'sender': 'Researcher'}}\n",
            "----\n",
            "{'__end__': {'messages': [HumanMessage(content='지난 5년간 대한민국의 출산률를 가져옵니다, then draw a line graph of it. Once you code it up, finish.'), HumanMessage(content='', additional_kwargs={'function_call': {'arguments': '{\"query\":\"South Korea birth rate last 5 years\"}', 'name': 'tavily_search_results_json'}}, name='Researcher'), FunctionMessage(content='tavily_search_results_json response: [{\\'url\\': \\'https://www.cnn.com/2023/12/15/asia/south-korea-to-see-population-plummet-intl-hnk/index.html\\', \\'content\\': \"The United Nations Population Fund estimates North Korea’s fertility rate for 2023 at 1.8 births per woman.  South Korea, the country with the world’s lowest birth rate, expects it to fall even further in the next two years  as the median age will increase from 44.9 in 2022 to 63.4 in 2072, Statistics Korea said.  With scant immigration, South Korea’s total population is expected to drop from 51.75 million in 2024 to 36.22 million,With scant immigration, South Korea\\'s total population is expected to drop from 51.75 million in 2024 to 36.22 million, a level not seen since 1977, according to Statistics Korea. In a worst ...\"}, {\\'url\\': \\'https://www.aljazeera.com/news/2023/2/22/s-korea-breaks-record-for-worlds-lowest-fertility-rate-again\\', \\'content\\': \"South Korea’s population peaked at 51.84 million in 2020 and fell to 51.74 million in 2021.  The number of babies expected per woman in South Korea dropped to 0.78 last year, down from 0.81 a year earlier.  The plummeting birth rate has stoked worry that a declining population could severely damage the South Korean economy –  The South Korean capital, Seoul, logged the lowest birth rate of 0.59.22 Feb 2023 South Korea has smashed its own record for the world\\'s lowest fertility rate again, according to official data. The average number of expected babies per South Korean woman...\"}, {\\'url\\': \\'https://www.npr.org/2023/03/19/1163341684/south-korea-fertility-rate\\', \\'content\\': \"Asia South Korea prepares the young for a rapidly aging population  see fertility rates more than double that of Korea at 1.67.  growth over several decades has seen South Korea\\'s GDP boom, but birth rates have gone in the opposite direction.  growth over several decades has seen South Korea\\'s GDP boom, but birth rates have gone in the opposite direction.March 19, 20237:00 AM ET By Ashley Ahn Enlarge this image A woman holding her daughter looks at a view of Seoul in 2019. The fertility rate in South Korea, which has the world\\'s lowest...\"}, {\\'url\\': \\'https://www.theguardian.com/world/2023/feb/22/south-koreas-birthrate-sinks-to-fresh-record-low-as-population-crisis-deepens\\', \\'content\\': \"South Korea’s birthrate sinks to fresh record low as population crisis deepens  In December, the South Korean government unveiled a package of measures to address the low birthrate and ageing  As a result, the number of marriages in South Korea reached an all-time low of 193,000 in 2021.  every 1,000 women in their late 20s – down 3.5% from a year earlier – the Yonhap news agency reported.Just 24 babies were born for every 1,000 women in their late 20s - down 3.5% from a year earlier - the Yonhap news agency reported. With the world\\'s lowest fertility rate and a rapidly ageing...\"}, {\\'url\\': \\'https://edition.cnn.com/2023/02/22/asia/south-korea-lowest-fertility-rate-record-2022-intl-hnk/index.html\\', \\'content\\': \"Meanwhile, Korean women are also having children later in life. The average age of childbirth in South Korea was 33.5  Korea was 33.5 last year.  In 2022, the country recorded about 249,000 births and 372,800 deaths.  CNN values your feedback South Korea breaks its own record for world’s lowest fertility rateSeongJoon Cho/Bloomber/Getty Images Seoul, South Korea CNN — South Korea\\'s fertility rate, already the world\\'s lowest, has dropped yet again in the latest setback to the country\\'s...\"}]', name='tavily_search_results_json'), HumanMessage(content=\"To create a line graph of South Korea's fertility rate over the past 5 years, I will first need to identify the fertility rate for each of those years from the search results. Here's what I have gathered:\\n\\n1. The fertility rate for South Korea in 2023 is estimated to be 1.8 births per woman.\\n2. In 2022, the fertility rate was 0.78.\\n3. Information for the years 2018, 2019, 2020, and 2021 is not directly provided in these search results.\\n\\nI will need to conduct additional searches to find the missing fertility rates for the years 2018, 2019, 2020, and 2021 to complete the data set. Let's perform these searches next.\", additional_kwargs={'function_call': {'arguments': '{\"query\":\"South Korea fertility rate 2021\"}', 'name': 'tavily_search_results_json'}}, name='Researcher'), FunctionMessage(content='tavily_search_results_json response: [{\\'url\\': \\'https://www.statista.com/statistics/939360/fertility-rate-in-south-korea/\\', \\'content\\': \\'South Korea: Fertility rate from 2011 to 2021 Additional Information Show sources information  Strategy and business building for the data-driven economy: Fertility rate in South Korea  International Total population of South Korea 2028 Demographics Sex ratio South Korea 2000-2070  Religion Population distribution South Korea 2023, by religion Demographics Divorce rate in South Korea 2008-2022Dec 12, 2023 The total fertility rate in South Korea decreased by 0.03 children per woman (-3.57 percent) in 2021 in comparison to the previous year. As a result, the fertility rate in South...\\'}, {\\'url\\': \\'https://www.bbc.com/news/world-asia-62670717\\', \\'content\\': \\'South Korea records world\\\\\\'s lowest fertility rate again  South Korea has again recorded the world\\\\\\'s lowest fertility rate with the number sinking to a new low.  In 2020 there was widespread alarm in South Korea when it recorded more deaths than births for the first time.  Fertility rates have \"declined markedly\" in the past six decades says the OECD25th August 2022, 12:45 PDT By Frances Mao BBC News AFP The fertility rate - the number of children born to a woman - has dropped again in South Korea South Korea has again recorded the...\\'}, {\\'url\\': \\'https://www.npr.org/2023/03/19/1163341684/south-korea-fertility-rate\\', \\'content\\': \"see fertility rates more than double that of Korea at 1.67.  In South Korea, the fertility rate — the average number of children born to a woman in her reproductive years — is now  World South Korea has the world\\'s lowest fertility rate, a struggle with lessons for us all By Ashley Ahn  gender war in South Korea and countering efforts to solve the fertility issue.In South Korea, the fertility rate — the average number of children born to a woman in her reproductive years — is now 0.78, according to figures released by the Korean government in...\"}, {\\'url\\': \\'https://www.rand.org/pubs/commentary/2022/07/south-koreas-extraordinary-fertility-decline.html\\', \\'content\\': \"In 2021, South Korea\\'s total fertility rate (TFR)—the number of children born to a typical woman over her lifetime—fell  About South Korea\\'s Extraordinary Fertility Decline commentary (The RAND Blog)  Figure 1: Global Trends in Fertility  Korea stands alone as the sole nation with TFR below 1 (the global average is 2.4; the OECD average is 1.61).In 2021, South Korea\\'s total fertility rate (TFR)—the number of children born to a typical woman over her lifetime— fell to 0.81, the lowest ever recorded in a highly developed democratic nation (see Figure 1).\"}, {\\'url\\': \\'https://www.nytimes.com/2022/08/24/world/asia/south-korea-fertility-rate.html\\', \\'content\\': \\'Advertisement Supported by South Korea Breaks Record for World’s Lowest Fertility Rate, Again  — declined for the sixth straight year to 0.81 in 2021, according to Statistics Korea, the national statistics agency.  By comparison, the fertility rate was 1.66 in the United States and 1.37 in Japan. A fertility rate of 2.1 is needed  data, the total fertility rate began to sink more quickly in the 2000s during the financial crises, dropping below 1.0The fertility rate — the average number of children born to a woman during her reproductive years — declined for the sixth straight year to 0.81 in 2021, according to Statistics Korea, the...\\'}]', name='tavily_search_results_json'), HumanMessage(content=\"Based on the search results, the fertility rate for South Korea from 2018 to 2021 is as follows:\\n\\n- 2021: 0.81\\n- 2020: Information not found directly; need to infer from the data provided.\\n- 2019: Information not found directly; need to infer from the data provided.\\n- 2018: Information not found directly; need to infer from the data provided.\\n\\nThe article from the New York Times mentions that the fertility rate declined for the sixth straight year to 0.81 in 2021. This implies that the fertility rate was declining each year before 2021 as well. However, the exact rates for 2018, 2019, and 2020 are not provided. Given this information, we may need to look for more specific data to accurately determine the fertility rates for these years. Let's perform another search to find the missing rates for 2018, 2019, and 2020.\", additional_kwargs={'function_call': {'arguments': '{\"query\":\"South Korea fertility rate 2018 2019 2020\"}', 'name': 'tavily_search_results_json'}}, name='Researcher'), FunctionMessage(content='tavily_search_results_json response: [{\\'url\\': \\'https://www.statista.com/statistics/939360/fertility-rate-in-south-korea/\\', \\'content\\': \\'South Korea: Fertility rate from 2011 to 2021 Additional Information Show sources information  Strategy and business building for the data-driven economy: Fertility rate in South Korea  International Total population of South Korea 2028 Demographics Sex ratio South Korea 2000-2070  Religion Population distribution South Korea 2023, by religion Demographics Divorce rate in South Korea 2008-2022The total fertility rate in South Korea decreased by 0.03 children per woman (-3.57 percent) in 2021 in comparison to the previous year. As a result, the fertility rate in South Korea saw its...\\'}, {\\'url\\': \\'https://www.ncbi.nlm.nih.gov/pmc/articles/PMC9623034/\\', \\'content\\': \"from 2.79 in 1970 to 1.74 in 1995, with a further decrease to 1.63 in 2018. In 2018, Korea (0.98) had the lowest TFR  and trends in the population count, number of births, and birth rate in Korea, in the past and future.  The comprehensive graph of the changes in the trends of total live births, CBR, and TFR in Korea for the past 100 years  Based on the above results, the changes and trends in the population count, birth rate, and number of births in KoreaIn Korea\\'s low fertility society, which began in the mid-2000s, the fertility rate dropped to below 0.84 in 2020, despite policies to improve the quality of the population. The death toll has reached 300,000, entering an era of population decline. Conclusion\"}, {\\'url\\': \\'https://www.statista.com/statistics/1069672/total-fertility-rate-south-korea-historical/\\', \\'content\\': \"Strategy and business building for the data-driven economy: Total fertility rate of South Korea 1900-2020  Total fertility rate in Republic of Korea from 1900 to 2020* Additional Information Show sources information  Show publisher information Use Ask Statista Research Service August 2019 South Korea 1900 to 2020  Demographics Number of live births Japan 2012-2021 Demographics Mean age of childbearing Japan 1950-2030Lowest in the world? Despite government initiatives aimed at increasing fertility, including financial incentives, South Korea\\'s fertility rate has continued to fall in recent years, and...\"}, {\\'url\\': \\'https://www.rand.org/pubs/commentary/2022/07/south-koreas-extraordinary-fertility-decline.html\\', \\'content\\': \"In 2021, South Korea\\'s total fertility rate (TFR)—the number of children born to a typical woman over her lifetime—fell  About South Korea\\'s Extraordinary Fertility Decline commentary (The RAND Blog)  Figure 1: Global Trends in Fertility  Author\\'s calculations using OECD data: Demography - Fertility rates - OECD DataIn 2021, South Korea\\'s total fertility rate (TFR)—the number of children born to a typical woman over her lifetime— fell to 0.81, the lowest ever recorded in a highly developed democratic nation (see Figure 1).\"}, {\\'url\\': \\'https://www.npr.org/2023/03/19/1163341684/south-korea-fertility-rate\\', \\'content\\': \"see fertility rates more than double that of Korea at 1.67.  In South Korea, the fertility rate — the average number of children born to a woman in her reproductive years — is now  World South Korea has the world\\'s lowest fertility rate, a struggle with lessons for us all By Ashley Ahn  gender war in South Korea and countering efforts to solve the fertility issue.World South Korea has the world\\'s lowest fertility rate, a struggle with lessons for us all March 19, 20237:00 AM ET By Ashley Ahn Enlarge this image A woman holding her daughter looks at a...\"}]', name='tavily_search_results_json'), HumanMessage(content=\"The search results have provided additional information on South Korea's fertility rate for the year 2018 and 2020:\\n\\n- 2020: Fertility rate dropped to below 0.84.\\n- 2018: Fertility rate was 0.98.\\n\\nHowever, the fertility rate for 2019 is still not directly provided in these results. Since we have the rates for 2018 and 2020, we could estimate the 2019 fertility rate by averaging these two years or by considering the trend. Since the rate has been decreasing consistently, it would be reasonable to estimate that the 2019 fertility rate is slightly less than 0.98 but higher than 0.84.\\n\\nLet's assume a linear trend for simplicity and estimate the fertility rate for 2019. If we take the average of 2018 and 2020 rates, we get (0.98 + 0.84) / 2 = 0.91. This is a rough estimate and should be treated as such.\\n\\nNow we have the following fertility rates:\\n\\n- 2018: 0.98\\n- 2019: ~0.91 (estimated)\\n- 2020: <0.84\\n- 2021: 0.81\\n- 2022: 0.78\\n- 2023: 1.8 (this seems to be an outlier or possibly a typo in the search results, as it does not fit the trend)\\n\\nWith this data, we can create a line graph showing the trend of South Korea's fertility rate over the past five years, although the fertility rate for 2019 is an estimate and the rate for 2023 might be incorrect. Shall we proceed with these figures, or would you like to try to confirm the 2023 figure?\", name='Researcher'), HumanMessage(content='', additional_kwargs={'function_call': {'arguments': '{\"code\":\"import matplotlib.pyplot as plt\\\\n\\\\n# Fertility rates for South Korea from 2018 to 2022\\\\nyears = [2018, 2019, 2020, 2021, 2022]\\\\nrates = [0.98, 0.91, 0.84, 0.81, 0.78]  # Estimated value for 2019\\\\n\\\\n# Plot line graph\\\\nplt.figure(figsize=(10, 5))\\\\nplt.plot(years, rates, marker=\\'o\\')\\\\nplt.title(\\'Fertility Rate in South Korea (2018-2022)\\')\\\\nplt.xlabel(\\'Year\\')\\\\nplt.ylabel(\\'Fertility Rate (births per woman)\\')\\\\nplt.grid(True)\\\\nplt.xticks(years)\\\\nplt.show()\"}', 'name': 'python_repl'}}, name='Chart Generator'), FunctionMessage(content=\"python_repl response: Succesfully executed:\\n```python\\nimport matplotlib.pyplot as plt\\n\\n# Fertility rates for South Korea from 2018 to 2022\\nyears = [2018, 2019, 2020, 2021, 2022]\\nrates = [0.98, 0.91, 0.84, 0.81, 0.78]  # Estimated value for 2019\\n\\n# Plot line graph\\nplt.figure(figsize=(10, 5))\\nplt.plot(years, rates, marker='o')\\nplt.title('Fertility Rate in South Korea (2018-2022)')\\nplt.xlabel('Year')\\nplt.ylabel('Fertility Rate (births per woman)')\\nplt.grid(True)\\nplt.xticks(years)\\nplt.show()\\n```\\nStdout: \", name='python_repl'), HumanMessage(content=\"Here is the line graph showing the trend of South Korea's fertility rate from 2018 to 2022:\\n\\n![Fertility Rate in South Korea (2018-2022)](sandbox:/mnt/data/chart.png)\\n\\nPlease note that the value for 2019 is estimated, and the 2023 rate has been omitted due to a potential discrepancy in the data.\", name='Chart Generator'), HumanMessage(content=\"FINAL ANSWER\\n\\nHere is the line graph showing the trend of South Korea's fertility rate from 2018 to 2022:\\n\\n![Fertility Rate in South Korea (2018-2022)](sandbox:/mnt/data/chart.png)\\n\\nPlease note that the value for 2019 is estimated, and the 2023 rate has been omitted due to a potential discrepancy in the data.\", name='Researcher')], 'sender': 'Researcher'}}\n",
            "----\n"
          ]
        }
      ],
      "source": [
        "for s in graph.stream(\n",
        "    {\n",
        "        \"messages\": [\n",
        "            HumanMessage(\n",
        "                content=\"지난 5년간 대한민국의 출산률를 가져옵니다,\"\n",
        "                \" then draw a line graph of it.\"\n",
        "                \" Once you code it up, finish.\"\n",
        "            )\n",
        "        ],\n",
        "    },\n",
        "    # Maximum number of steps to take in the graph\n",
        "    {\"recursion_limit\": 150},\n",
        "):\n",
        "    print(s)\n",
        "    print(\"----\")"
      ]
    },
    {
      "cell_type": "code",
      "execution_count": null,
      "id": "010fc36e-4116-4758-bcac-b02c7dcd405d",
      "metadata": {
        "id": "010fc36e-4116-4758-bcac-b02c7dcd405d"
      },
      "outputs": [],
      "source": []
    }
  ],
  "metadata": {
    "kernelspec": {
      "display_name": "Python 3",
      "name": "python3"
    },
    "language_info": {
      "codemirror_mode": {
        "name": "ipython",
        "version": 3
      },
      "file_extension": ".py",
      "mimetype": "text/x-python",
      "name": "python",
      "nbconvert_exporter": "python",
      "pygments_lexer": "ipython3",
      "version": "3.11.1"
    },
    "colab": {
      "provenance": [],
      "gpuType": "T4",
      "include_colab_link": true
    },
    "accelerator": "GPU"
  },
  "nbformat": 4,
  "nbformat_minor": 5
}