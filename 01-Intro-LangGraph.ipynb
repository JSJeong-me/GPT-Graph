{
  "nbformat": 4,
  "nbformat_minor": 0,
  "metadata": {
    "colab": {
      "provenance": [],
      "authorship_tag": "ABX9TyO1f76+Ivk0CT7lt8p48SOX",
      "include_colab_link": true
    },
    "kernelspec": {
      "name": "python3",
      "display_name": "Python 3"
    },
    "language_info": {
      "name": "python"
    }
  },
  "cells": [
    {
      "cell_type": "markdown",
      "metadata": {
        "id": "view-in-github",
        "colab_type": "text"
      },
      "source": [
        "<a href=\"https://colab.research.google.com/github/JSJeong-me/GPT-Graph/blob/main/01-Intro-LangGraph.ipynb\" target=\"_parent\"><img src=\"https://colab.research.google.com/assets/colab-badge.svg\" alt=\"Open In Colab\"/></a>"
      ]
    },
    {
      "cell_type": "markdown",
      "source": [
        "### https://python.langchain.com/docs/langgraph"
      ],
      "metadata": {
        "id": "uRheczZF7-cX"
      }
    },
    {
      "cell_type": "code",
      "source": [
        "!pip install langgraph"
      ],
      "metadata": {
        "id": "OB6FdRgk8jLX"
      },
      "execution_count": null,
      "outputs": []
    },
    {
      "cell_type": "code",
      "source": [
        "!pip install -U langchain langchain_openai tavily-python"
      ],
      "metadata": {
        "id": "LsqctCcfDbTr"
      },
      "execution_count": null,
      "outputs": []
    },
    {
      "cell_type": "code",
      "source": [
        "!pip install python-dotenv"
      ],
      "metadata": {
        "id": "kZxOpOgCENuk"
      },
      "execution_count": null,
      "outputs": []
    },
    {
      "cell_type": "code",
      "source": [
        "!echo \"OPENAI_API_KEY=sk-b\" >> .env\n",
        "!echo \"TAVILY_API_KEY=tvly-\" >> .env\n",
        "!echo \"LANGCHAIN_API_KEY=ls__\" >> .env\n",
        "!source /content/.env\n",
        "\n",
        "import os\n",
        "from dotenv import load_dotenv\n",
        "\n",
        "# Load environment variables from .env file\n",
        "load_dotenv()\n",
        "# Access the API key using the variable name defined in the .env file\n",
        "api_key = os.getenv(\"OPENAI_API_KEY\")\n",
        "api_key = os.getenv(\"TAVILY_API_KEY\")\n",
        "api_key = os.getenv(\"LANGCHAIN_API_KEY\")"
      ],
      "metadata": {
        "id": "VylMAoWSERsX"
      },
      "execution_count": 8,
      "outputs": []
    },
    {
      "cell_type": "code",
      "source": [
        "from langchain_community.tools.tavily_search import TavilySearchResults\n",
        "\n",
        "tools = [TavilySearchResults(max_results=1)]"
      ],
      "metadata": {
        "id": "6w171rbOD6N-"
      },
      "execution_count": 9,
      "outputs": []
    },
    {
      "cell_type": "code",
      "source": [
        "from langgraph.prebuilt import ToolExecutor\n",
        "\n",
        "tool_executor = ToolExecutor(tools)"
      ],
      "metadata": {
        "id": "6MwUy7ocEjTZ"
      },
      "execution_count": 10,
      "outputs": []
    },
    {
      "cell_type": "code",
      "source": [
        "from langchain_openai import ChatOpenAI\n",
        "\n",
        "# We will set streaming=True so that we can stream tokens\n",
        "# See the streaming section for more information on this.\n",
        "model = ChatOpenAI(temperature=0, streaming=True)  # model=\"gpt-3.5-turbo-1106\", streaming=True"
      ],
      "metadata": {
        "id": "llq_GNVQE8dJ"
      },
      "execution_count": 11,
      "outputs": []
    },
    {
      "cell_type": "markdown",
      "source": [
        "### 모델이 호출할 수 있는 도구가 있다는 것을 모델이 알고 있는지 확인해야 합니다. LangChain 도구를 OpenAI 함수 호출을 위한 형식으로 변환한 다음 이를 모델 클래스에 바인딩하면 됩니다."
      ],
      "metadata": {
        "id": "nUw-oiq5Fbov"
      }
    },
    {
      "cell_type": "code",
      "source": [
        "from langchain.tools.render import format_tool_to_openai_function\n",
        "\n",
        "functions = [format_tool_to_openai_function(t) for t in tools]\n",
        "model = model.bind_functions(functions)"
      ],
      "metadata": {
        "id": "Sdi9jy95FMFl"
      },
      "execution_count": null,
      "outputs": []
    },
    {
      "cell_type": "markdown",
      "source": [
        "### Define the agent state"
      ],
      "metadata": {
        "id": "MMcVySu1F3BG"
      }
    },
    {
      "cell_type": "code",
      "source": [
        "from typing import TypedDict, Annotated, Sequence\n",
        "import operator\n",
        "from langchain_core.messages import BaseMessage\n",
        "\n",
        "\n",
        "class AgentState(TypedDict):\n",
        "    messages: Annotated[Sequence[BaseMessage], operator.add]"
      ],
      "metadata": {
        "id": "_3XsVAjlF070"
      },
      "execution_count": 13,
      "outputs": []
    },
    {
      "cell_type": "markdown",
      "source": [
        "### Define the nodes\n",
        "\n",
        "In langgraph, a node can be either a function or a runnable. There are two main nodes we need for this:\n",
        "\n",
        "The agent: responsible for deciding what (if any) actions to take.\n",
        "A function to invoke tools: if the agent decides to take an action, this node will then execute that action."
      ],
      "metadata": {
        "id": "Nkek82YgHwz_"
      }
    },
    {
      "cell_type": "markdown",
      "source": [
        "Conditional Edge: after the agent is called, we should either:\n",
        "\n",
        "a. If the agent said to take an action, then the function to invoke tools should be called\n",
        "\n",
        "b. If the agent said that it was finished, then it should finish\n",
        "\n",
        "Normal Edge: after the tools are invoked, it should always go back to the agent to decide what to do next"
      ],
      "metadata": {
        "id": "-l0GH4YjITvA"
      }
    },
    {
      "cell_type": "code",
      "source": [
        "from langgraph.prebuilt import ToolInvocation\n",
        "import json\n",
        "from langchain_core.messages import FunctionMessage\n",
        "\n",
        "# Define the function that determines whether to continue or not\n",
        "def should_continue(state):\n",
        "    messages = state['messages']\n",
        "    last_message = messages[-1]\n",
        "    # If there is no function call, then we finish\n",
        "    if \"function_call\" not in last_message.additional_kwargs:\n",
        "        return \"end\"\n",
        "    # Otherwise if there is, we continue\n",
        "    else:\n",
        "        return \"continue\"\n",
        "\n",
        "# Define the function that calls the model\n",
        "def call_model(state):\n",
        "    messages = state['messages']\n",
        "    response = model.invoke(messages)\n",
        "    # We return a list, because this will get added to the existing list\n",
        "    return {\"messages\": [response]}\n",
        "\n",
        "# Define the function to execute tools\n",
        "def call_tool(state):\n",
        "    messages = state['messages']\n",
        "    # Based on the continue condition\n",
        "    # we know the last message involves a function call\n",
        "    last_message = messages[-1]\n",
        "    # We construct an ToolInvocation from the function_call\n",
        "    action = ToolInvocation(\n",
        "        tool=last_message.additional_kwargs[\"function_call\"][\"name\"],\n",
        "        tool_input=json.loads(last_message.additional_kwargs[\"function_call\"][\"arguments\"]),\n",
        "    )\n",
        "    # We call the tool_executor and get back a response\n",
        "    response = tool_executor.invoke(action)\n",
        "    # We use the response to create a FunctionMessage\n",
        "    function_message = FunctionMessage(content=str(response), name=action.tool)\n",
        "    # We return a list, because this will get added to the existing list\n",
        "    return {\"messages\": [function_message]}"
      ],
      "metadata": {
        "id": "eMecVzHXIZDG"
      },
      "execution_count": 14,
      "outputs": []
    },
    {
      "cell_type": "markdown",
      "source": [
        "### Define the graph"
      ],
      "metadata": {
        "id": "Ts2NhNbYIl_N"
      }
    },
    {
      "cell_type": "code",
      "source": [
        "from langgraph.graph import StateGraph, END\n",
        "# Define a new graph\n",
        "workflow = StateGraph(AgentState)\n",
        "\n",
        "# Define the two nodes we will cycle between\n",
        "workflow.add_node(\"agent\", call_model)\n",
        "workflow.add_node(\"action\", call_tool)\n",
        "\n",
        "# Set the entrypoint as `agent`\n",
        "# This means that this node is the first one called\n",
        "workflow.set_entry_point(\"agent\")\n",
        "\n",
        "# We now add a conditional edge\n",
        "workflow.add_conditional_edges(\n",
        "    # First, we define the start node. We use `agent`.\n",
        "    # This means these are the edges taken after the `agent` node is called.\n",
        "    \"agent\",\n",
        "    # Next, we pass in the function that will determine which node is called next.\n",
        "    should_continue,\n",
        "    # Finally we pass in a mapping.\n",
        "    # The keys are strings, and the values are other nodes.\n",
        "    # END is a special node marking that the graph should finish.\n",
        "    # What will happen is we will call `should_continue`, and then the output of that\n",
        "    # will be matched against the keys in this mapping.\n",
        "    # Based on which one it matches, that node will then be called.\n",
        "    {\n",
        "        # If `tools`, then we call the tool node.\n",
        "        \"continue\": \"action\",\n",
        "        # Otherwise we finish.\n",
        "        \"end\": END\n",
        "    }\n",
        ")\n",
        "\n",
        "# We now add a normal edge from `tools` to `agent`.\n",
        "# This means that after `tools` is called, `agent` node is called next.\n",
        "workflow.add_edge('action', 'agent')\n",
        "\n",
        "# Finally, we compile it!\n",
        "# This compiles it into a LangChain Runnable,\n",
        "# meaning you can use it as you would any other runnable\n",
        "app = workflow.compile()"
      ],
      "metadata": {
        "id": "ZoKcWpN4Ijpu"
      },
      "execution_count": 15,
      "outputs": []
    },
    {
      "cell_type": "markdown",
      "source": [
        "### Run it!"
      ],
      "metadata": {
        "id": "PXbLHk53I2Ov"
      }
    },
    {
      "cell_type": "code",
      "source": [
        "from langchain_core.messages import HumanMessage\n",
        "\n",
        "inputs = {\"messages\": [HumanMessage(content=\"what is the weather in sf\")]}\n",
        "app.invoke(inputs)"
      ],
      "metadata": {
        "colab": {
          "base_uri": "https://localhost:8080/"
        },
        "id": "7DcgJOkEI61o",
        "outputId": "3fe0799f-9ded-475e-fdcb-3e3e723ea26c"
      },
      "execution_count": 16,
      "outputs": [
        {
          "output_type": "execute_result",
          "data": {
            "text/plain": [
              "{'messages': [HumanMessage(content='what is the weather in sf'),\n",
              "  AIMessage(content='', additional_kwargs={'function_call': {'arguments': '{\\n  \"query\": \"weather in San Francisco\"\\n}', 'name': 'tavily_search_results_json'}}),\n",
              "  FunctionMessage(content='[{\\'url\\': \\'https://www.latimes.com/california/story/2024-02-04/potentially-historic-storm-brings-highest-risk-to-southern-california\\', \\'content\\': \\'Feb. 2, 2024  Jan. 31, 2024  Greater San Francisco Bay Area  Feb. 3, 2024 ‘Prepare now’: California’s next storm may bring ‘life-threatening’ flooding Feb. 2, 2024Waves crash over a breakwater in Alameda, with the San Francisco skyline in the background, on Sunday. California was facing a \"potentially historic\" storm raising risk of landslides, flooding...\\'}]', name='tavily_search_results_json'),\n",
              "  AIMessage(content=\"I apologize, but I couldn't find the current weather in San Francisco. However, I found an article about a potentially historic storm that is expected to bring heavy rain and flooding to the Greater San Francisco Bay Area. You may want to check a reliable weather website or app for the most up-to-date information on the weather in San Francisco.\")]}"
            ]
          },
          "metadata": {},
          "execution_count": 16
        }
      ]
    },
    {
      "cell_type": "markdown",
      "source": [
        "### Streaming"
      ],
      "metadata": {
        "id": "XFu0vEApJVdQ"
      }
    },
    {
      "cell_type": "code",
      "source": [
        "inputs = {\"messages\": [HumanMessage(content=\"what is the weather in sf\")]}\n",
        "for output in app.stream(inputs):\n",
        "    # stream() yields dictionaries with output keyed by node name\n",
        "    for key, value in output.items():\n",
        "        print(f\"Output from node '{key}':\")\n",
        "        print(\"---\")\n",
        "        print(value)\n",
        "    print(\"\\n---\\n\")"
      ],
      "metadata": {
        "colab": {
          "base_uri": "https://localhost:8080/"
        },
        "id": "Jq_a1bZkJYD8",
        "outputId": "5540e34e-8d86-4217-fd22-f4ceec52f6c0"
      },
      "execution_count": 17,
      "outputs": [
        {
          "output_type": "stream",
          "name": "stdout",
          "text": [
            "Output from node 'agent':\n",
            "---\n",
            "{'messages': [AIMessage(content='', additional_kwargs={'function_call': {'arguments': '{\\n  \"query\": \"weather in San Francisco\"\\n}', 'name': 'tavily_search_results_json'}})]}\n",
            "\n",
            "---\n",
            "\n",
            "Output from node 'action':\n",
            "---\n",
            "{'messages': [FunctionMessage(content='[{\\'url\\': \\'https://www.sfexaminer.com/news/climate/san-francisco-weather-forecast-calls-for-strongest-2024-rain/article_75347810-bfc3-11ee-abf6-e74c528e0583.html\\', \\'content\\': \"San Francisco is projected to receive 2.5 and 3 inches of rain, Clouser said, as well as gusts of wind up to 45 mph.  One of winter\\'s \\'stronger\\' storms to douse San Francisco  Bay Area starting Wednesday at 4 a.m. and a 24-hour wind advisory in San Francisco starting at the same time.  On the heels of record-breaking heat to open the week, heavy rain is slated to pound the Bay Area on Wednesday.Temperatures will drop to a high of 60 degrees during Wednesday\\'s storm and 58 Thursday. Scattered showers will linger Thursday and Friday, though with not as much rainfall as the downpour expected...\"}]', name='tavily_search_results_json')]}\n",
            "\n",
            "---\n",
            "\n",
            "Output from node 'agent':\n",
            "---\n",
            "{'messages': [AIMessage(content='The weather in San Francisco is currently rainy with strong winds. The city is projected to receive 2.5 to 3 inches of rain and gusts of wind up to 45 mph. The temperature will drop to a high of 60 degrees during the storm. Scattered showers will continue on Thursday and Friday, but with less rainfall than the initial downpour.')]}\n",
            "\n",
            "---\n",
            "\n",
            "Output from node '__end__':\n",
            "---\n",
            "{'messages': [HumanMessage(content='what is the weather in sf'), AIMessage(content='', additional_kwargs={'function_call': {'arguments': '{\\n  \"query\": \"weather in San Francisco\"\\n}', 'name': 'tavily_search_results_json'}}), FunctionMessage(content='[{\\'url\\': \\'https://www.sfexaminer.com/news/climate/san-francisco-weather-forecast-calls-for-strongest-2024-rain/article_75347810-bfc3-11ee-abf6-e74c528e0583.html\\', \\'content\\': \"San Francisco is projected to receive 2.5 and 3 inches of rain, Clouser said, as well as gusts of wind up to 45 mph.  One of winter\\'s \\'stronger\\' storms to douse San Francisco  Bay Area starting Wednesday at 4 a.m. and a 24-hour wind advisory in San Francisco starting at the same time.  On the heels of record-breaking heat to open the week, heavy rain is slated to pound the Bay Area on Wednesday.Temperatures will drop to a high of 60 degrees during Wednesday\\'s storm and 58 Thursday. Scattered showers will linger Thursday and Friday, though with not as much rainfall as the downpour expected...\"}]', name='tavily_search_results_json'), AIMessage(content='The weather in San Francisco is currently rainy with strong winds. The city is projected to receive 2.5 to 3 inches of rain and gusts of wind up to 45 mph. The temperature will drop to a high of 60 degrees during the storm. Scattered showers will continue on Thursday and Friday, but with less rainfall than the initial downpour.')]}\n",
            "\n",
            "---\n",
            "\n"
          ]
        }
      ]
    },
    {
      "cell_type": "markdown",
      "source": [
        "### Streaming LLM Tokens"
      ],
      "metadata": {
        "id": "raEp49SbJj6L"
      }
    },
    {
      "cell_type": "code",
      "source": [
        "inputs = {\"messages\": [HumanMessage(content=\"what is the weather in sf\")]}\n",
        "async for output in app.astream_log(inputs, include_types=[\"llm\"]):\n",
        "    # astream_log() yields the requested logs (here LLMs) in JSONPatch format\n",
        "    for op in output.ops:\n",
        "        if op[\"path\"] == \"/streamed_output/-\":\n",
        "            # this is the output from .stream()\n",
        "            ...\n",
        "        elif op[\"path\"].startswith(\"/logs/\") and op[\"path\"].endswith(\n",
        "            \"/streamed_output/-\"\n",
        "        ):\n",
        "            # because we chose to only include LLMs, these are LLM tokens\n",
        "            print(op[\"value\"])"
      ],
      "metadata": {
        "id": "4h8x9cyzJ0bL"
      },
      "execution_count": 18,
      "outputs": []
    }
  ]
}