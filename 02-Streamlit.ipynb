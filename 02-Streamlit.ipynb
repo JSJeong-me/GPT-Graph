{
  "cells": [
    {
      "cell_type": "markdown",
      "metadata": {
        "id": "view-in-github",
        "colab_type": "text"
      },
      "source": [
        "<a href=\"https://colab.research.google.com/github/JSJeong-me/GPT-DB/blob/main/02-Streamlit.ipynb\" target=\"_parent\"><img src=\"https://colab.research.google.com/assets/colab-badge.svg\" alt=\"Open In Colab\"/></a>"
      ]
    },
    {
      "cell_type": "markdown",
      "metadata": {
        "id": "XEv4A4e11na7"
      },
      "source": [
        "### https://discuss.streamlit.io/t/how-to-launch-streamlit-app-from-google-colab-notebook/42399"
      ]
    },
    {
      "cell_type": "code",
      "execution_count": null,
      "metadata": {
        "id": "NELfm8XCsIWp"
      },
      "outputs": [],
      "source": [
        "!pip install streamlit\n",
        "!npm install -g localtunnel"
      ]
    },
    {
      "cell_type": "code",
      "execution_count": null,
      "metadata": {
        "id": "HRITk7Ww2UIa"
      },
      "outputs": [],
      "source": [
        "!pip install openai\n",
        "!pip install python-dotenv\n",
        "!pip install langchain"
      ]
    },
    {
      "cell_type": "code",
      "execution_count": null,
      "metadata": {
        "id": "250nc8zS2WwC"
      },
      "outputs": [],
      "source": [
        "!echo \"OPENAI_API_KEY=sk-\" >> .env\n",
        "!source /content/.env"
      ]
    },
    {
      "cell_type": "code",
      "execution_count": null,
      "metadata": {
        "id": "VDD-fEz92YmE"
      },
      "outputs": [],
      "source": [
        "import os\n",
        "from dotenv import load_dotenv\n",
        "\n",
        "# Load environment variables from .env file\n",
        "load_dotenv()\n",
        "# Access the API key using the variable name defined in the .env file\n",
        "api_key = os.getenv(\"OPENAI_API_KEY\")"
      ]
    },
    {
      "cell_type": "code",
      "execution_count": null,
      "metadata": {
        "id": "VRL6GTSG1Dm8"
      },
      "outputs": [],
      "source": [
        "%%writefile app.py\n",
        "\n",
        "\n",
        "from openai import OpenAI\n",
        "import streamlit as st\n",
        "\n",
        "with st.sidebar:\n",
        "    openai_api_key = st.text_input(\"OpenAI API Key\", key=\"chatbot_api_key\", type=\"password\")\n",
        "    \"[Get an OpenAI API key](https://platform.openai.com/account/api-keys)\"\n",
        "    \"[View the source code](https://github.com/streamlit/llm-examples/blob/main/Chatbot.py)\"\n",
        "    \"[![Open in GitHub Codespaces](https://github.com/codespaces/badge.svg)](https://codespaces.new/streamlit/llm-examples?quickstart=1)\"\n",
        "\n",
        "st.title(\"💬 Chatbot\")\n",
        "st.caption(\"🚀 A streamlit chatbot powered by OpenAI LLM\")\n",
        "if \"messages\" not in st.session_state:\n",
        "    st.session_state[\"messages\"] = [{\"role\": \"assistant\", \"content\": \"How can I help you?\"}]\n",
        "\n",
        "for msg in st.session_state.messages:\n",
        "    st.chat_message(msg[\"role\"]).write(msg[\"content\"])\n",
        "\n",
        "if prompt := st.chat_input():\n",
        "    if not openai_api_key:\n",
        "        st.info(\"Please add your OpenAI API key to continue.\")\n",
        "        st.stop()\n",
        "\n",
        "    client = OpenAI(api_key=openai_api_key)\n",
        "    st.session_state.messages.append({\"role\": \"user\", \"content\": prompt})\n",
        "    st.chat_message(\"user\").write(prompt)\n",
        "    response = client.chat.completions.create(model=\"gpt-3.5-turbo\", messages=st.session_state.messages)\n",
        "    msg = response.choices[0].message.content\n",
        "    st.session_state.messages.append({\"role\": \"assistant\", \"content\": msg})\n",
        "    st.chat_message(\"assistant\").write(msg)"
      ]
    },
    {
      "cell_type": "code",
      "execution_count": null,
      "metadata": {
        "id": "0o5TBL8X28sa"
      },
      "outputs": [],
      "source": [
        "# if __name__ == '__main__':\n",
        "# \tmain()"
      ]
    },
    {
      "cell_type": "code",
      "execution_count": null,
      "metadata": {
        "id": "LLbvyNCD6UwP"
      },
      "outputs": [],
      "source": [
        "import urllib\n",
        "print(\"Password/Enpoint IP for localtunnel is:\",urllib.request.urlopen('https://ipv4.icanhazip.com').read().decode('utf8').strip(\"\\n\"))"
      ]
    },
    {
      "cell_type": "code",
      "execution_count": null,
      "metadata": {
        "colab": {
          "background_save": true
        },
        "id": "Zv_zx4Obz4Ra"
      },
      "outputs": [],
      "source": [
        "!streamlit run app.py &>/content/logs.txt & npx localtunnel --port 8501 # & curl ipv4.icanhazip.com"
      ]
    },
    {
      "cell_type": "code",
      "execution_count": null,
      "metadata": {
        "id": "7FsjiaUnuA7w"
      },
      "outputs": [],
      "source": []
    }
  ],
  "metadata": {
    "colab": {
      "provenance": [],
      "authorship_tag": "ABX9TyPy4ehUAFTG0pMxsMo+32O5",
      "include_colab_link": true
    },
    "kernelspec": {
      "display_name": "Python 3",
      "name": "python3"
    },
    "language_info": {
      "name": "python"
    }
  },
  "nbformat": 4,
  "nbformat_minor": 0
}