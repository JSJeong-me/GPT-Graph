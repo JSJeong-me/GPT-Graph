{
  "cells": [
    {
      "cell_type": "markdown",
      "metadata": {
        "id": "view-in-github",
        "colab_type": "text"
      },
      "source": [
        "<a href=\"https://colab.research.google.com/github/JSJeong-me/GPT-Graph/blob/main/21-multi-agent-collaboration.ipynb\" target=\"_parent\"><img src=\"https://colab.research.google.com/assets/colab-badge.svg\" alt=\"Open In Colab\"/></a>"
      ]
    },
    {
      "cell_type": "markdown",
      "id": "39fd1948-b5c3-48c4-b10e-2ae7e8c83334",
      "metadata": {
        "id": "39fd1948-b5c3-48c4-b10e-2ae7e8c83334"
      },
      "source": [
        "# Basic Multi-agent Collaboration\n",
        "\n",
        "A single agent can usually operate effectively using a handful of tools within a single domain, but even using powerful models like `gpt-4`, it can be less effective at using many tools.\n",
        "\n",
        "One way to approach complicated tasks is through a \"divide-and-conquer\" approach: create an specialized agent for each task or domain and route tasks to the correct \"expert\".\n",
        "\n",
        "This notebook (inspired by the paper [AutoGen: Enabling Next-Gen LLM Applications via Multi-Agent Conversation](https://arxiv.org/abs/2308.08155), by Wu, et. al.) shows one way to do this using LangGraph.\n",
        "\n",
        "The resulting graph will look something like the following diagram:\n",
        "\n",
        "![multi_agent diagram](https://github.com/langchain-ai/langgraph/blob/main/examples/multi_agent/img/simple_multi_agent_diagram.png?raw=1)\n",
        "\n",
        "Before we get started, a quick note: this and other multi-agent notebooks are designed to show _how_ you can implement certain design patterns in LangGraph. If the pattern suits your needs, we recommend combining it with some of the other fundamental patterns described elsewhere in the docs for best performance."
      ]
    },
    {
      "cell_type": "code",
      "execution_count": 1,
      "id": "0d7b6dcc-c985-46e2-8457-7e6b0298b950",
      "metadata": {
        "colab": {
          "base_uri": "https://localhost:8080/",
          "height": 1000
        },
        "id": "0d7b6dcc-c985-46e2-8457-7e6b0298b950",
        "outputId": "d19d4004-fdd9-4928-fa59-813e2fd0066f"
      },
      "outputs": [
        {
          "output_type": "stream",
          "name": "stdout",
          "text": [
            "Collecting langchain\n",
            "  Downloading langchain-0.1.4-py3-none-any.whl (803 kB)\n",
            "\u001b[2K     \u001b[90m━━━━━━━━━━━━━━━━━━━━━━━━━━━━━━━━━━━━━━━━\u001b[0m \u001b[32m803.6/803.6 kB\u001b[0m \u001b[31m10.3 MB/s\u001b[0m eta \u001b[36m0:00:00\u001b[0m\n",
            "\u001b[?25hCollecting langchain_openai\n",
            "  Downloading langchain_openai-0.0.5-py3-none-any.whl (29 kB)\n",
            "Collecting langsmith\n",
            "  Downloading langsmith-0.0.85-py3-none-any.whl (54 kB)\n",
            "\u001b[2K     \u001b[90m━━━━━━━━━━━━━━━━━━━━━━━━━━━━━━━━━━━━━━━━\u001b[0m \u001b[32m54.0/54.0 kB\u001b[0m \u001b[31m7.3 MB/s\u001b[0m eta \u001b[36m0:00:00\u001b[0m\n",
            "\u001b[?25hRequirement already satisfied: pandas in /usr/local/lib/python3.10/dist-packages (1.5.3)\n",
            "Collecting pandas\n",
            "  Downloading pandas-2.2.0-cp310-cp310-manylinux_2_17_x86_64.manylinux2014_x86_64.whl (13.0 MB)\n",
            "\u001b[2K     \u001b[90m━━━━━━━━━━━━━━━━━━━━━━━━━━━━━━━━━━━━━━━━\u001b[0m \u001b[32m13.0/13.0 MB\u001b[0m \u001b[31m39.7 MB/s\u001b[0m eta \u001b[36m0:00:00\u001b[0m\n",
            "\u001b[?25hCollecting langchain_experimental\n",
            "  Downloading langchain_experimental-0.0.49-py3-none-any.whl (165 kB)\n",
            "\u001b[2K     \u001b[90m━━━━━━━━━━━━━━━━━━━━━━━━━━━━━━━━━━━━━━━━\u001b[0m \u001b[32m165.7/165.7 kB\u001b[0m \u001b[31m21.4 MB/s\u001b[0m eta \u001b[36m0:00:00\u001b[0m\n",
            "\u001b[?25hRequirement already satisfied: matplotlib in /usr/local/lib/python3.10/dist-packages (3.7.1)\n",
            "Collecting matplotlib\n",
            "  Downloading matplotlib-3.8.2-cp310-cp310-manylinux_2_17_x86_64.manylinux2014_x86_64.whl (11.6 MB)\n",
            "\u001b[2K     \u001b[90m━━━━━━━━━━━━━━━━━━━━━━━━━━━━━━━━━━━━━━━━\u001b[0m \u001b[32m11.6/11.6 MB\u001b[0m \u001b[31m54.6 MB/s\u001b[0m eta \u001b[36m0:00:00\u001b[0m\n",
            "\u001b[?25hRequirement already satisfied: PyYAML>=5.3 in /usr/local/lib/python3.10/dist-packages (from langchain) (6.0.1)\n",
            "Requirement already satisfied: SQLAlchemy<3,>=1.4 in /usr/local/lib/python3.10/dist-packages (from langchain) (2.0.24)\n",
            "Requirement already satisfied: aiohttp<4.0.0,>=3.8.3 in /usr/local/lib/python3.10/dist-packages (from langchain) (3.9.1)\n",
            "Requirement already satisfied: async-timeout<5.0.0,>=4.0.0 in /usr/local/lib/python3.10/dist-packages (from langchain) (4.0.3)\n",
            "Collecting dataclasses-json<0.7,>=0.5.7 (from langchain)\n",
            "  Downloading dataclasses_json-0.6.3-py3-none-any.whl (28 kB)\n",
            "Collecting jsonpatch<2.0,>=1.33 (from langchain)\n",
            "  Downloading jsonpatch-1.33-py2.py3-none-any.whl (12 kB)\n",
            "Collecting langchain-community<0.1,>=0.0.14 (from langchain)\n",
            "  Downloading langchain_community-0.0.16-py3-none-any.whl (1.6 MB)\n",
            "\u001b[2K     \u001b[90m━━━━━━━━━━━━━━━━━━━━━━━━━━━━━━━━━━━━━━━━\u001b[0m \u001b[32m1.6/1.6 MB\u001b[0m \u001b[31m68.6 MB/s\u001b[0m eta \u001b[36m0:00:00\u001b[0m\n",
            "\u001b[?25hCollecting langchain-core<0.2,>=0.1.16 (from langchain)\n",
            "  Downloading langchain_core-0.1.17-py3-none-any.whl (235 kB)\n",
            "\u001b[2K     \u001b[90m━━━━━━━━━━━━━━━━━━━━━━━━━━━━━━━━━━━━━━━━\u001b[0m \u001b[32m235.9/235.9 kB\u001b[0m \u001b[31m29.1 MB/s\u001b[0m eta \u001b[36m0:00:00\u001b[0m\n",
            "\u001b[?25hRequirement already satisfied: numpy<2,>=1 in /usr/local/lib/python3.10/dist-packages (from langchain) (1.23.5)\n",
            "Requirement already satisfied: pydantic<3,>=1 in /usr/local/lib/python3.10/dist-packages (from langchain) (1.10.14)\n",
            "Requirement already satisfied: requests<3,>=2 in /usr/local/lib/python3.10/dist-packages (from langchain) (2.31.0)\n",
            "Requirement already satisfied: tenacity<9.0.0,>=8.1.0 in /usr/local/lib/python3.10/dist-packages (from langchain) (8.2.3)\n",
            "Collecting openai<2.0.0,>=1.10.0 (from langchain_openai)\n",
            "  Downloading openai-1.10.0-py3-none-any.whl (225 kB)\n",
            "\u001b[2K     \u001b[90m━━━━━━━━━━━━━━━━━━━━━━━━━━━━━━━━━━━━━━━━\u001b[0m \u001b[32m225.1/225.1 kB\u001b[0m \u001b[31m26.5 MB/s\u001b[0m eta \u001b[36m0:00:00\u001b[0m\n",
            "\u001b[?25hCollecting tiktoken<0.6.0,>=0.5.2 (from langchain_openai)\n",
            "  Downloading tiktoken-0.5.2-cp310-cp310-manylinux_2_17_x86_64.manylinux2014_x86_64.whl (2.0 MB)\n",
            "\u001b[2K     \u001b[90m━━━━━━━━━━━━━━━━━━━━━━━━━━━━━━━━━━━━━━━━\u001b[0m \u001b[32m2.0/2.0 MB\u001b[0m \u001b[31m72.2 MB/s\u001b[0m eta \u001b[36m0:00:00\u001b[0m\n",
            "\u001b[?25hRequirement already satisfied: python-dateutil>=2.8.2 in /usr/local/lib/python3.10/dist-packages (from pandas) (2.8.2)\n",
            "Requirement already satisfied: pytz>=2020.1 in /usr/local/lib/python3.10/dist-packages (from pandas) (2023.3.post1)\n",
            "Collecting tzdata>=2022.7 (from pandas)\n",
            "  Downloading tzdata-2023.4-py2.py3-none-any.whl (346 kB)\n",
            "\u001b[2K     \u001b[90m━━━━━━━━━━━━━━━━━━━━━━━━━━━━━━━━━━━━━━━━\u001b[0m \u001b[32m346.6/346.6 kB\u001b[0m \u001b[31m35.1 MB/s\u001b[0m eta \u001b[36m0:00:00\u001b[0m\n",
            "\u001b[?25hRequirement already satisfied: contourpy>=1.0.1 in /usr/local/lib/python3.10/dist-packages (from matplotlib) (1.2.0)\n",
            "Requirement already satisfied: cycler>=0.10 in /usr/local/lib/python3.10/dist-packages (from matplotlib) (0.12.1)\n",
            "Requirement already satisfied: fonttools>=4.22.0 in /usr/local/lib/python3.10/dist-packages (from matplotlib) (4.47.2)\n",
            "Requirement already satisfied: kiwisolver>=1.3.1 in /usr/local/lib/python3.10/dist-packages (from matplotlib) (1.4.5)\n",
            "Requirement already satisfied: packaging>=20.0 in /usr/local/lib/python3.10/dist-packages (from matplotlib) (23.2)\n",
            "Requirement already satisfied: pillow>=8 in /usr/local/lib/python3.10/dist-packages (from matplotlib) (9.4.0)\n",
            "Requirement already satisfied: pyparsing>=2.3.1 in /usr/local/lib/python3.10/dist-packages (from matplotlib) (3.1.1)\n",
            "Requirement already satisfied: attrs>=17.3.0 in /usr/local/lib/python3.10/dist-packages (from aiohttp<4.0.0,>=3.8.3->langchain) (23.2.0)\n",
            "Requirement already satisfied: multidict<7.0,>=4.5 in /usr/local/lib/python3.10/dist-packages (from aiohttp<4.0.0,>=3.8.3->langchain) (6.0.4)\n",
            "Requirement already satisfied: yarl<2.0,>=1.0 in /usr/local/lib/python3.10/dist-packages (from aiohttp<4.0.0,>=3.8.3->langchain) (1.9.4)\n",
            "Requirement already satisfied: frozenlist>=1.1.1 in /usr/local/lib/python3.10/dist-packages (from aiohttp<4.0.0,>=3.8.3->langchain) (1.4.1)\n",
            "Requirement already satisfied: aiosignal>=1.1.2 in /usr/local/lib/python3.10/dist-packages (from aiohttp<4.0.0,>=3.8.3->langchain) (1.3.1)\n",
            "Collecting marshmallow<4.0.0,>=3.18.0 (from dataclasses-json<0.7,>=0.5.7->langchain)\n",
            "  Downloading marshmallow-3.20.2-py3-none-any.whl (49 kB)\n",
            "\u001b[2K     \u001b[90m━━━━━━━━━━━━━━━━━━━━━━━━━━━━━━━━━━━━━━━━\u001b[0m \u001b[32m49.4/49.4 kB\u001b[0m \u001b[31m6.7 MB/s\u001b[0m eta \u001b[36m0:00:00\u001b[0m\n",
            "\u001b[?25hCollecting typing-inspect<1,>=0.4.0 (from dataclasses-json<0.7,>=0.5.7->langchain)\n",
            "  Downloading typing_inspect-0.9.0-py3-none-any.whl (8.8 kB)\n",
            "Collecting jsonpointer>=1.9 (from jsonpatch<2.0,>=1.33->langchain)\n",
            "  Downloading jsonpointer-2.4-py2.py3-none-any.whl (7.8 kB)\n",
            "Requirement already satisfied: anyio<5,>=3 in /usr/local/lib/python3.10/dist-packages (from langchain-core<0.2,>=0.1.16->langchain) (3.7.1)\n",
            "Requirement already satisfied: distro<2,>=1.7.0 in /usr/lib/python3/dist-packages (from openai<2.0.0,>=1.10.0->langchain_openai) (1.7.0)\n",
            "Collecting httpx<1,>=0.23.0 (from openai<2.0.0,>=1.10.0->langchain_openai)\n",
            "  Downloading httpx-0.26.0-py3-none-any.whl (75 kB)\n",
            "\u001b[2K     \u001b[90m━━━━━━━━━━━━━━━━━━━━━━━━━━━━━━━━━━━━━━━━\u001b[0m \u001b[32m75.9/75.9 kB\u001b[0m \u001b[31m11.9 MB/s\u001b[0m eta \u001b[36m0:00:00\u001b[0m\n",
            "\u001b[?25hRequirement already satisfied: sniffio in /usr/local/lib/python3.10/dist-packages (from openai<2.0.0,>=1.10.0->langchain_openai) (1.3.0)\n",
            "Requirement already satisfied: tqdm>4 in /usr/local/lib/python3.10/dist-packages (from openai<2.0.0,>=1.10.0->langchain_openai) (4.66.1)\n",
            "Collecting typing-extensions<5,>=4.7 (from openai<2.0.0,>=1.10.0->langchain_openai)\n",
            "  Downloading typing_extensions-4.9.0-py3-none-any.whl (32 kB)\n",
            "Requirement already satisfied: six>=1.5 in /usr/local/lib/python3.10/dist-packages (from python-dateutil>=2.8.2->pandas) (1.16.0)\n",
            "Requirement already satisfied: charset-normalizer<4,>=2 in /usr/local/lib/python3.10/dist-packages (from requests<3,>=2->langchain) (3.3.2)\n",
            "Requirement already satisfied: idna<4,>=2.5 in /usr/local/lib/python3.10/dist-packages (from requests<3,>=2->langchain) (3.6)\n",
            "Requirement already satisfied: urllib3<3,>=1.21.1 in /usr/local/lib/python3.10/dist-packages (from requests<3,>=2->langchain) (2.0.7)\n",
            "Requirement already satisfied: certifi>=2017.4.17 in /usr/local/lib/python3.10/dist-packages (from requests<3,>=2->langchain) (2023.11.17)\n",
            "Requirement already satisfied: greenlet!=0.4.17 in /usr/local/lib/python3.10/dist-packages (from SQLAlchemy<3,>=1.4->langchain) (3.0.3)\n",
            "Requirement already satisfied: regex>=2022.1.18 in /usr/local/lib/python3.10/dist-packages (from tiktoken<0.6.0,>=0.5.2->langchain_openai) (2023.6.3)\n",
            "Requirement already satisfied: exceptiongroup in /usr/local/lib/python3.10/dist-packages (from anyio<5,>=3->langchain-core<0.2,>=0.1.16->langchain) (1.2.0)\n",
            "Collecting httpcore==1.* (from httpx<1,>=0.23.0->openai<2.0.0,>=1.10.0->langchain_openai)\n",
            "  Downloading httpcore-1.0.2-py3-none-any.whl (76 kB)\n",
            "\u001b[2K     \u001b[90m━━━━━━━━━━━━━━━━━━━━━━━━━━━━━━━━━━━━━━━━\u001b[0m \u001b[32m76.9/76.9 kB\u001b[0m \u001b[31m10.7 MB/s\u001b[0m eta \u001b[36m0:00:00\u001b[0m\n",
            "\u001b[?25hCollecting h11<0.15,>=0.13 (from httpcore==1.*->httpx<1,>=0.23.0->openai<2.0.0,>=1.10.0->langchain_openai)\n",
            "  Downloading h11-0.14.0-py3-none-any.whl (58 kB)\n",
            "\u001b[2K     \u001b[90m━━━━━━━━━━━━━━━━━━━━━━━━━━━━━━━━━━━━━━━━\u001b[0m \u001b[32m58.3/58.3 kB\u001b[0m \u001b[31m8.6 MB/s\u001b[0m eta \u001b[36m0:00:00\u001b[0m\n",
            "\u001b[?25hCollecting mypy-extensions>=0.3.0 (from typing-inspect<1,>=0.4.0->dataclasses-json<0.7,>=0.5.7->langchain)\n",
            "  Downloading mypy_extensions-1.0.0-py3-none-any.whl (4.7 kB)\n",
            "Installing collected packages: tzdata, typing-extensions, mypy-extensions, marshmallow, jsonpointer, h11, typing-inspect, tiktoken, pandas, matplotlib, jsonpatch, httpcore, langsmith, httpx, dataclasses-json, openai, langchain-core, langchain_openai, langchain-community, langchain, langchain_experimental\n",
            "  Attempting uninstall: typing-extensions\n",
            "    Found existing installation: typing_extensions 4.5.0\n",
            "    Uninstalling typing_extensions-4.5.0:\n",
            "      Successfully uninstalled typing_extensions-4.5.0\n",
            "  Attempting uninstall: pandas\n",
            "    Found existing installation: pandas 1.5.3\n",
            "    Uninstalling pandas-1.5.3:\n",
            "      Successfully uninstalled pandas-1.5.3\n",
            "  Attempting uninstall: matplotlib\n",
            "    Found existing installation: matplotlib 3.7.1\n",
            "    Uninstalling matplotlib-3.7.1:\n",
            "      Successfully uninstalled matplotlib-3.7.1\n",
            "\u001b[31mERROR: pip's dependency resolver does not currently take into account all the packages that are installed. This behaviour is the source of the following dependency conflicts.\n",
            "lida 0.0.10 requires fastapi, which is not installed.\n",
            "lida 0.0.10 requires kaleido, which is not installed.\n",
            "lida 0.0.10 requires python-multipart, which is not installed.\n",
            "lida 0.0.10 requires uvicorn, which is not installed.\n",
            "llmx 0.0.15a0 requires cohere, which is not installed.\n",
            "bigframes 0.19.2 requires pandas<2.1.4,>=1.5.0, but you have pandas 2.2.0 which is incompatible.\n",
            "google-colab 1.0.0 requires pandas==1.5.3, but you have pandas 2.2.0 which is incompatible.\n",
            "tensorflow-probability 0.22.0 requires typing-extensions<4.6.0, but you have typing-extensions 4.9.0 which is incompatible.\u001b[0m\u001b[31m\n",
            "\u001b[0mSuccessfully installed dataclasses-json-0.6.3 h11-0.14.0 httpcore-1.0.2 httpx-0.26.0 jsonpatch-1.33 jsonpointer-2.4 langchain-0.1.4 langchain-community-0.0.16 langchain-core-0.1.17 langchain_experimental-0.0.49 langchain_openai-0.0.5 langsmith-0.0.85 marshmallow-3.20.2 matplotlib-3.8.2 mypy-extensions-1.0.0 openai-1.10.0 pandas-2.2.0 tiktoken-0.5.2 typing-extensions-4.9.0 typing-inspect-0.9.0 tzdata-2023.4\n"
          ]
        },
        {
          "output_type": "display_data",
          "data": {
            "application/vnd.colab-display-data+json": {
              "pip_warning": {
                "packages": [
                  "matplotlib",
                  "mpl_toolkits"
                ]
              }
            }
          },
          "metadata": {}
        }
      ],
      "source": [
        "!pip install -U langchain langchain_openai langsmith pandas langchain_experimental matplotlib"
      ]
    },
    {
      "cell_type": "code",
      "source": [
        "!pip install langgraph python-dotenv"
      ],
      "metadata": {
        "id": "O3H-dOVwEvUP"
      },
      "id": "O3H-dOVwEvUP",
      "execution_count": null,
      "outputs": []
    },
    {
      "cell_type": "code",
      "source": [
        "!echo \"OPENAI_API_KEY=sk-\" >> .env\n",
        "!echo \"TAVILY_API_KEY=tvly-\" >> .env\n",
        "!echo \"LANGCHAIN_API_KEY=ls__\" >> .env\n",
        "!source /content/.env\n",
        "\n",
        "import os\n",
        "from dotenv import load_dotenv\n",
        "\n",
        "# Load environment variables from .env file\n",
        "load_dotenv()\n",
        "# Access the API key using the variable name defined in the .env file\n",
        "api_key = os.getenv(\"OPENAI_API_KEY\")\n",
        "api_key = os.getenv(\"TAVILY_API_KEY\")\n",
        "api_key = os.getenv(\"LANGCHAIN_API_KEY\")"
      ],
      "metadata": {
        "id": "cN6yYqqbDAKx"
      },
      "id": "cN6yYqqbDAKx",
      "execution_count": 2,
      "outputs": []
    },
    {
      "cell_type": "code",
      "source": [
        "# Optional, add tracing in LangSmith\n",
        "os.environ[\"LANGCHAIN_TRACING_V2\"] = \"true\"\n",
        "os.environ[\"LANGCHAIN_PROJECT\"] = \"Multi-agent Collaboration\""
      ],
      "metadata": {
        "id": "X80MljZsCLgN"
      },
      "id": "X80MljZsCLgN",
      "execution_count": 3,
      "outputs": []
    },
    {
      "cell_type": "code",
      "source": [],
      "metadata": {
        "id": "XtIjnt8hCOIE"
      },
      "id": "XtIjnt8hCOIE",
      "execution_count": 2,
      "outputs": []
    },
    {
      "cell_type": "markdown",
      "id": "5e4344a7-21df-4d54-90d2-9d19b3416ffb",
      "metadata": {
        "id": "5e4344a7-21df-4d54-90d2-9d19b3416ffb"
      },
      "source": [
        "## Create Agents\n",
        "\n",
        "The following helper functions will help create agents. These agents will then be nodes in the graph.\n",
        "\n",
        "You can skip ahead if you just want to see what the graph looks like."
      ]
    },
    {
      "cell_type": "code",
      "execution_count": 4,
      "id": "4325a10e-38dc-4a98-9004-e1525eaba377",
      "metadata": {
        "id": "4325a10e-38dc-4a98-9004-e1525eaba377"
      },
      "outputs": [],
      "source": [
        "import json\n",
        "\n",
        "from langchain_core.messages import (\n",
        "    AIMessage,\n",
        "    BaseMessage,\n",
        "    ChatMessage,\n",
        "    FunctionMessage,\n",
        "    HumanMessage,\n",
        ")\n",
        "from langchain.tools.render import format_tool_to_openai_function\n",
        "from langchain_core.prompts import ChatPromptTemplate, MessagesPlaceholder\n",
        "from langgraph.graph import END, StateGraph\n",
        "from langgraph.prebuilt.tool_executor import ToolExecutor, ToolInvocation\n",
        "\n",
        "\n",
        "def create_agent(llm, tools, system_message: str):\n",
        "    \"\"\"Create an agent.\"\"\"\n",
        "    functions = [format_tool_to_openai_function(t) for t in tools]\n",
        "\n",
        "    prompt = ChatPromptTemplate.from_messages(\n",
        "        [\n",
        "            (\n",
        "                \"system\",\n",
        "                \"You are a helpful AI assistant, collaborating with other assistants.\"\n",
        "                \" Use the provided tools to progress towards answering the question.\"\n",
        "                \" If you are unable to fully answer, that's OK, another assistant with different tools \"\n",
        "                \" will help where you left off. Execute what you can to make progress.\"\n",
        "                \" If you or any of the other assistants have the final answer or deliverable,\"\n",
        "                \" prefix your response with FINAL ANSWER so the team knows to stop.\"\n",
        "                \" You have access to the following tools: {tool_names}.\\n{system_message}\",\n",
        "            ),\n",
        "            MessagesPlaceholder(variable_name=\"messages\"),\n",
        "        ]\n",
        "    )\n",
        "    prompt = prompt.partial(system_message=system_message)\n",
        "    prompt = prompt.partial(tool_names=\", \".join([tool.name for tool in tools]))\n",
        "    return prompt | llm.bind_functions(functions)\n",
        "\n",
        "\n"
      ]
    },
    {
      "cell_type": "markdown",
      "id": "b4b40de2-5dd4-4d5b-882e-577210723ff4",
      "metadata": {
        "id": "b4b40de2-5dd4-4d5b-882e-577210723ff4"
      },
      "source": [
        "## Define tools\n",
        "\n",
        "We will also define some tools that our agents will use in the future"
      ]
    },
    {
      "cell_type": "code",
      "execution_count": 5,
      "id": "ca076f3b-a729-4ca9-8f91-05c2ba58d610",
      "metadata": {
        "id": "ca076f3b-a729-4ca9-8f91-05c2ba58d610"
      },
      "outputs": [],
      "source": [
        "from langchain_core.tools import tool\n",
        "from typing import Annotated\n",
        "from langchain_experimental.utilities import PythonREPL\n",
        "from langchain_community.tools.tavily_search import TavilySearchResults\n",
        "\n",
        "tavily_tool = TavilySearchResults(max_results=5)\n",
        "\n",
        "# Warning: This executes code locally, which can be unsafe when not sandboxed\n",
        "\n",
        "repl = PythonREPL()\n",
        "\n",
        "\n",
        "@tool\n",
        "def python_repl(\n",
        "    code: Annotated[str, \"The python code to execute to generate your chart.\"]\n",
        "):\n",
        "    \"\"\"Use this to execute python code. If you want to see the output of a value,\n",
        "    you should print it out with `print(...)`. This is visible to the user.\"\"\"\n",
        "    try:\n",
        "        result = repl.run(code)\n",
        "    except BaseException as e:\n",
        "        return f\"Failed to execute. Error: {repr(e)}\"\n",
        "    return f\"Succesfully executed:\\n```python\\n{code}\\n```\\nStdout: {result}\"\n",
        "\n"
      ]
    },
    {
      "cell_type": "markdown",
      "id": "f1b54c0c-0b09-408b-abc5-86308929afb6",
      "metadata": {
        "id": "f1b54c0c-0b09-408b-abc5-86308929afb6"
      },
      "source": [
        "## Create graph\n",
        "\n",
        "Now that we've defined our tools and made some helper functions, will create the individual agents below and tell them how to talk to each other using LangGraph."
      ]
    },
    {
      "cell_type": "markdown",
      "id": "0c6a8c3c-86a0-46aa-b970-ab070fb787d9",
      "metadata": {
        "id": "0c6a8c3c-86a0-46aa-b970-ab070fb787d9"
      },
      "source": [
        "### Define State\n",
        "\n",
        "We first define the state of the graph. This will just a list of messages, along with a key to track the most recent sender"
      ]
    },
    {
      "cell_type": "code",
      "execution_count": 6,
      "id": "290c91d4-f6f4-443c-8181-233d39102974",
      "metadata": {
        "id": "290c91d4-f6f4-443c-8181-233d39102974"
      },
      "outputs": [],
      "source": [
        "import operator\n",
        "from typing import Annotated, List, Sequence, Tuple, TypedDict, Union\n",
        "\n",
        "from langchain.agents import create_openai_functions_agent\n",
        "from langchain.tools.render import format_tool_to_openai_function\n",
        "from langchain_core.prompts import ChatPromptTemplate, MessagesPlaceholder\n",
        "\n",
        "from langchain_openai import ChatOpenAI\n",
        "from typing_extensions import TypedDict\n",
        "\n",
        "\n",
        "# This defines the object that is passed between each node\n",
        "# in the graph. We will create different nodes for each agent and tool\n",
        "class AgentState(TypedDict):\n",
        "    messages: Annotated[Sequence[BaseMessage], operator.add]\n",
        "    sender: str"
      ]
    },
    {
      "cell_type": "markdown",
      "id": "911a283e-ea04-40c1-b792-f9e5f7d81203",
      "metadata": {
        "id": "911a283e-ea04-40c1-b792-f9e5f7d81203"
      },
      "source": [
        "### Define Agent Nodes\n",
        "\n",
        "We now need to define the nodes. First, let's define the nodes for the agents."
      ]
    },
    {
      "cell_type": "code",
      "execution_count": 7,
      "id": "71b790ca-9cef-4b22-b469-4b1d5d8424d6",
      "metadata": {
        "colab": {
          "base_uri": "https://localhost:8080/"
        },
        "id": "71b790ca-9cef-4b22-b469-4b1d5d8424d6",
        "outputId": "579c405e-8ac4-466e-b2df-16c7e266e622"
      },
      "outputs": [
        {
          "output_type": "stream",
          "name": "stderr",
          "text": [
            "/usr/local/lib/python3.10/dist-packages/langchain_core/_api/deprecation.py:117: LangChainDeprecationWarning: The function `format_tool_to_openai_function` was deprecated in LangChain 0.1.16 and will be removed in 0.2.0. Use langchain_core.utils.function_calling.convert_to_openai_function() instead.\n",
            "  warn_deprecated(\n"
          ]
        }
      ],
      "source": [
        "import functools\n",
        "\n",
        "\n",
        "# Helper function to create a node for a given agent\n",
        "def agent_node(state, agent, name):\n",
        "    result = agent.invoke(state)\n",
        "    # We convert the agent output into a format that is suitable to append to the global state\n",
        "    if isinstance(result, FunctionMessage):\n",
        "        pass\n",
        "    else:\n",
        "        result = HumanMessage(**result.dict(exclude={\"type\", \"name\"}), name=name)\n",
        "    return {\n",
        "        \"messages\": [result],\n",
        "        # Since we have a strict workflow, we can\n",
        "        # track the sender so we know who to pass to next.\n",
        "        \"sender\": name,\n",
        "    }\n",
        "\n",
        "\n",
        "llm = ChatOpenAI(model=\"gpt-4-1106-preview\")\n",
        "\n",
        "# Research agent and node\n",
        "research_agent = create_agent(\n",
        "    llm,\n",
        "    [tavily_tool],\n",
        "    system_message=\"You should provide accurate data for the chart generator to use.\",\n",
        ")\n",
        "research_node = functools.partial(agent_node, agent=research_agent, name=\"Researcher\")\n",
        "\n",
        "# Chart Generator\n",
        "chart_agent = create_agent(\n",
        "    llm,\n",
        "    [python_repl],\n",
        "    system_message=\"Any charts you display will be visible by the user.\",\n",
        ")\n",
        "chart_node = functools.partial(agent_node, agent=chart_agent, name=\"Chart Generator\")"
      ]
    },
    {
      "cell_type": "markdown",
      "id": "71c7f1b2-24a3-4340-bcb2-feb22e344fb6",
      "metadata": {
        "id": "71c7f1b2-24a3-4340-bcb2-feb22e344fb6"
      },
      "source": [
        "### Define Tool Node\n",
        "\n",
        "We now define a node to run the tools"
      ]
    },
    {
      "cell_type": "code",
      "execution_count": 8,
      "id": "d9a79c76-5c7c-42f6-91cf-635bc8305804",
      "metadata": {
        "id": "d9a79c76-5c7c-42f6-91cf-635bc8305804"
      },
      "outputs": [],
      "source": [
        "tools = [tavily_tool, python_repl]\n",
        "tool_executor = ToolExecutor(tools)\n",
        "\n",
        "def tool_node(state):\n",
        "    \"\"\"This runs tools in the graph\n",
        "\n",
        "    It takes in an agent action and calls that tool and returns the result.\"\"\"\n",
        "    messages = state[\"messages\"]\n",
        "    # Based on the continue condition\n",
        "    # we know the last message involves a function call\n",
        "    last_message = messages[-1]\n",
        "    # We construct an ToolInvocation from the function_call\n",
        "    tool_input = json.loads(\n",
        "        last_message.additional_kwargs[\"function_call\"][\"arguments\"]\n",
        "    )\n",
        "    # We can pass single-arg inputs by value\n",
        "    if len(tool_input) == 1 and \"__arg1\" in tool_input:\n",
        "        tool_input = next(iter(tool_input.values()))\n",
        "    tool_name = last_message.additional_kwargs[\"function_call\"][\"name\"]\n",
        "    action = ToolInvocation(\n",
        "        tool=tool_name,\n",
        "        tool_input=tool_input,\n",
        "    )\n",
        "    # We call the tool_executor and get back a response\n",
        "    response = tool_executor.invoke(action)\n",
        "    # We use the response to create a FunctionMessage\n",
        "    function_message = FunctionMessage(\n",
        "        content=f\"{tool_name} response: {str(response)}\", name=action.tool\n",
        "    )\n",
        "    # We return a list, because this will get added to the existing list\n",
        "    return {\"messages\": [function_message]}"
      ]
    },
    {
      "cell_type": "markdown",
      "id": "bcb30498-dbc4-4b20-980f-da08ebc9da56",
      "metadata": {
        "id": "bcb30498-dbc4-4b20-980f-da08ebc9da56"
      },
      "source": [
        "### Define Edge Logic\n",
        "\n",
        "We can define some of the edge logic that is needed to decide what to do based on results of the agents"
      ]
    },
    {
      "cell_type": "code",
      "execution_count": 9,
      "id": "4f4b4d37-e8a3-4abb-8d42-eaea26016f35",
      "metadata": {
        "id": "4f4b4d37-e8a3-4abb-8d42-eaea26016f35"
      },
      "outputs": [],
      "source": [
        "# Either agent can decide to end\n",
        "def router(state):\n",
        "    # This is the router\n",
        "    messages = state[\"messages\"]\n",
        "    last_message = messages[-1]\n",
        "    if \"function_call\" in last_message.additional_kwargs:\n",
        "        # The previus agent is invoking a tool\n",
        "        return \"call_tool\"\n",
        "    if \"FINAL ANSWER\" in last_message.content:\n",
        "        # Any agent decided the work is done\n",
        "        return \"end\"\n",
        "    return \"continue\""
      ]
    },
    {
      "cell_type": "markdown",
      "id": "e9359c34-e191-43a2-a3d4-f2dea636dfd2",
      "metadata": {
        "id": "e9359c34-e191-43a2-a3d4-f2dea636dfd2"
      },
      "source": [
        "### Define the Graph\n",
        "\n",
        "We can now put it all together and define the graph!"
      ]
    },
    {
      "cell_type": "code",
      "execution_count": 10,
      "id": "4dce3901-6ad5-4df5-8528-6e865cf96cb0",
      "metadata": {
        "id": "4dce3901-6ad5-4df5-8528-6e865cf96cb0"
      },
      "outputs": [],
      "source": [
        "workflow = StateGraph(AgentState)\n",
        "\n",
        "workflow.add_node(\"Researcher\", research_node)\n",
        "workflow.add_node(\"Chart Generator\", chart_node)\n",
        "workflow.add_node(\"call_tool\", tool_node)\n",
        "\n",
        "workflow.add_conditional_edges(\n",
        "    \"Researcher\",\n",
        "    router,\n",
        "    {\"continue\": \"Chart Generator\", \"call_tool\": \"call_tool\", \"end\": END},\n",
        ")\n",
        "workflow.add_conditional_edges(\n",
        "    \"Chart Generator\",\n",
        "    router,\n",
        "    {\"continue\": \"Researcher\", \"call_tool\": \"call_tool\", \"end\": END},\n",
        ")\n",
        "\n",
        "workflow.add_conditional_edges(\n",
        "    \"call_tool\",\n",
        "    # Each agent node updates the 'sender' field\n",
        "    # the tool calling node does not, meaning\n",
        "    # this edge will route back to the original agent\n",
        "    # who invoked the tool\n",
        "    lambda x: x[\"sender\"],\n",
        "    {\n",
        "        \"Researcher\": \"Researcher\",\n",
        "        \"Chart Generator\": \"Chart Generator\",\n",
        "    },\n",
        ")\n",
        "workflow.set_entry_point(\"Researcher\")\n",
        "graph = workflow.compile()"
      ]
    },
    {
      "cell_type": "markdown",
      "id": "8c9447e7-9ab6-43eb-8ae6-9b52f8ba8425",
      "metadata": {
        "id": "8c9447e7-9ab6-43eb-8ae6-9b52f8ba8425"
      },
      "source": [
        "## Invoke\n",
        "\n",
        "With the graph created, you can invoke it! Let's have it chart some stats for us."
      ]
    },
    {
      "cell_type": "code",
      "execution_count": 12,
      "id": "176a99b0-b457-45cf-8901-90facaa852da",
      "metadata": {
        "colab": {
          "base_uri": "https://localhost:8080/",
          "height": 872
        },
        "id": "176a99b0-b457-45cf-8901-90facaa852da",
        "outputId": "43c2f52f-18bb-4008-c967-94f959f8a032"
      },
      "outputs": [
        {
          "output_type": "stream",
          "name": "stdout",
          "text": [
            "{'Researcher': {'messages': [HumanMessage(content='', additional_kwargs={'function_call': {'arguments': '{\"query\":\"South Korea GDP from 2018 to 2022\"}', 'name': 'tavily_search_results_json'}}, name='Researcher')], 'sender': 'Researcher'}}\n",
            "----\n",
            "{'call_tool': {'messages': [FunctionMessage(content=\"tavily_search_results_json response: [{'url': 'https://www.statista.com/statistics/263579/gross-domestic-product-gdp-in-south-korea/', 'content': 'South Korea: Gross domestic product (GDP) in current prices from 1987 to 2028 (in billion U.S. dollars)  Strategy and business building for the data-driven economy: Gross domestic product (GDP) in South Korea 2028  International Gross domestic product (GDP) growth in South Korea 1954-2028 You only have access to basic statistics.  International Distribution of gross domestic product (GDP) across economic sectors South Korea 2022 InternationalInternational International Statista Accounts: Access All Statistics. Starting from $1,788 USD / Year Basic Account Get to know the platform You only have access to basic statistics. Starter...'}, {'url': 'https://data.oecd.org/korea.htm', 'content': 'GDP Gross domestic product (GDP), US dollars/capita, 2022 Real GDP forecast, Annual growth rate (%), 2025 51 667  Width: pxPreview Embedding OECD Topics Country profile of Korea Find all indicators on Agriculture  Data Korea Previous editions Country statistical profile Further country information Selected indicators for Korea Share  57.5 % of GDP Tax Tax on personal income, % of GDP, 2022 Unemployment <%unemployment-latest-value-info-bubble%>Gross domestic product (GDP), US dollars/capita, 2022 ... 2018-2022 Korea (red), DAC Countries (black) ODA grant equivalent % of gross national income ... % of GDP 2022 Korea % of GDP: Total % of GDP 2003-2022 Korea (red), OECD - Average (black) Total % of GDP 2022 Korea (red) Tax revenue Indicator:'}]\", name='tavily_search_results_json')]}}\n",
            "----\n",
            "{'Researcher': {'messages': [HumanMessage(content=\"The search results provided do not contain the specific GDP values for South Korea for the last five years. The first search result mentions a Statista page that has data from 1987 to 2028, but does not provide the actual figures in the snippet. The second search result is from the OECD website, and again, it does not provide the actual GDP figures in the snippet but mentions GDP per capita for 2022.\\n\\nTo properly chart a line graph of South Korea's GDP over the last five years, we need the specific GDP figures for each year. I will perform another search to try to find these figures.\", additional_kwargs={'function_call': {'arguments': '{\"query\":\"South Korea GDP by year 2018-2022\"}', 'name': 'tavily_search_results_json'}}, name='Researcher')], 'sender': 'Researcher'}}\n",
            "----\n",
            "{'call_tool': {'messages': [FunctionMessage(content='tavily_search_results_json response: [{\\'url\\': \\'https://www.statista.com/statistics/263758/gross-domestic-product-gdp-growth-in-south-korea/\\', \\'content\\': \\'South Korea: Growth of real gross domestic product (GDP) from 1954 to 2022, with projections until 2028  Gross domestic product (GDP) growth in South Korea 1954-2028  Use Ask Statista Research Service October 2023 South Korea 2018 to 2021 * Estimate.  International Distribution of gross domestic product (GDP) across economic sectors South Korea 2022 InternationalIn 2022, the real GDP in South Korea grew by about 2.61 percent compared to the previous year. South Korea: Growth of real gross domestic product (GDP) from 1954 to 2022, with...\\'}, {\\'url\\': \\'https://www.statista.com/statistics/263579/gross-domestic-product-gdp-in-south-korea/\\', \\'content\\': \"South Korea: Gross domestic product (GDP) in current prices from 1987 to 2028 (in billion U.S. dollars)  Strategy and business building for the data-driven economy: Gross domestic product (GDP) in South Korea 2028  International Gross domestic product (GDP) growth in South Korea 1954-2028 You only have access to basic statistics.  International Distribution of gross domestic product (GDP) across economic sectors South Korea 2022 InternationalIn 2022, South Korea\\'s GDP was around 1.67 trillion U.S. dollars. See global GDP for a global comparison. South Korea\\'s economy South Korea is doing quite well economically. It is...\"}, {\\'url\\': \\'https://fred.stlouisfed.org/series/MKTGDPKRA646NWDB\\', \\'content\\': \\'World Bank, Gross Domestic Product for Republic of Korea [MKTGDPKRA646NWDB], retrieved from FRED,  since 1991. Gross Domestic Product for Republic of Korea (MKTGDPKRA646NWDB) Observation: Units: Frequency:  Federal Reserve Bank of St. Louis; https://fred.stlouisfed.org/series/MKTGDPKRA646NWDB, January 31, 2024.  NOTES Source: World Bank Release: World Development Indicators Units: Current U.S. Dollars,\\\\xa0Not Seasonally AdjustedGraph and download economic data for Gross Domestic Product for Republic of Korea (MKTGDPKRA646NWDB) from 1960 to 2022 about Korea and GDP. Gross Domestic Product for Republic of Korea. ... (South Korea) (DISCONTINUED) Interest Rates, Discount Rate for Republic of Korea.\\'}]', name='tavily_search_results_json')]}}\n",
            "----\n",
            "{'Researcher': {'messages': [HumanMessage(content=\"The search results still do not provide a complete set of specific GDP values for each of the last five years for South Korea. However, we do have a couple of figures from the snippets:\\n\\n- In 2022, South Korea's GDP was around 1.67 trillion U.S. dollars.\\n- The real GDP in South Korea grew by about 2.61 percent in 2022 compared to the previous year.\\n\\nWithout the exact GDP figures for the years 2018, 2019, 2020, and 2021, we are unable to generate a line graph. We need to either find a source with the specific annual GDP data for those years or estimate the values using the growth rate provided for 2022 and the known GDP for that year.\\n\\nTo move forward, we may need to consult a reliable economic database or official statistical information from a source such as the World Bank, International Monetary Fund (IMF), or the Bank of Korea to obtain the missing GDP figures for the years 2018-2021.\\n\\nSince I've reached the limit of my capabilities in finding the specific data through the search results provided, another assistant might be able to help locate these figures using different tools or resources.\", name='Researcher')], 'sender': 'Researcher'}}\n",
            "----\n",
            "{'Chart Generator': {'messages': [HumanMessage(content='', additional_kwargs={'function_call': {'arguments': '{\"code\":\"import matplotlib.pyplot as plt\\\\n\\\\n# GDP of South Korea for the last 5 years in trillion USD\\\\n# The value for 2022 is known, for other years it\\'s hypothetical based on average growth\\\\nyears = [2018, 2019, 2020, 2021, 2022]\\\\ngdp_values = [1.53, 1.58, 1.62, 1.65, 1.67]  # Hypothetical values\\\\n\\\\nplt.figure(figsize=(10, 5))\\\\nplt.plot(years, gdp_values, marker=\\'o\\')\\\\nplt.title(\\'GDP of South Korea (2018-2022)\\')\\\\nplt.xlabel(\\'Year\\')\\\\nplt.ylabel(\\'GDP (Trillion USD)\\')\\\\nplt.grid(True)\\\\nplt.show()\"}', 'name': 'python_repl'}}, name='Chart Generator')], 'sender': 'Chart Generator'}}\n",
            "----\n"
          ]
        },
        {
          "output_type": "display_data",
          "data": {
            "text/plain": [
              "<Figure size 1000x500 with 1 Axes>"
            ],
            "image/png": "[encoded data removed]"
          },
          "metadata": {}
        },
        {
          "output_type": "stream",
          "name": "stdout",
          "text": [
            "{'call_tool': {'messages': [FunctionMessage(content=\"python_repl response: Succesfully executed:\\n```python\\nimport matplotlib.pyplot as plt\\n\\n# GDP of South Korea for the last 5 years in trillion USD\\n# The value for 2022 is known, for other years it's hypothetical based on average growth\\nyears = [2018, 2019, 2020, 2021, 2022]\\ngdp_values = [1.53, 1.58, 1.62, 1.65, 1.67]  # Hypothetical values\\n\\nplt.figure(figsize=(10, 5))\\nplt.plot(years, gdp_values, marker='o')\\nplt.title('GDP of South Korea (2018-2022)')\\nplt.xlabel('Year')\\nplt.ylabel('GDP (Trillion USD)')\\nplt.grid(True)\\nplt.show()\\n```\\nStdout: \", name='python_repl')]}}\n",
            "----\n",
            "{'Chart Generator': {'messages': [HumanMessage(content='I have created a hypothetical line graph based on the known GDP value for South Korea in 2022 and estimated values for the previous years, assuming a consistent growth rate. However, please note that these values are not actual data, and the graph should be updated with the correct figures once they are available.\\n\\nPlease consult an official source such as the World Bank, International Monetary Fund (IMF), or the Bank of Korea to obtain accurate GDP figures for South Korea for the years 2018-2021 to generate an accurate line graph.', name='Chart Generator')], 'sender': 'Chart Generator'}}\n",
            "----\n",
            "{'Researcher': {'messages': [HumanMessage(content=\"FINAL ANSWER\\n\\nI'm sorry, but as an AI language model, I don't have the current data for South Korea's GDP from 2018-2022. To create an accurate line graph, you would need the exact figures for each year. I recommend checking with official sources such as the Bank of Korea, the Korean Statistical Information Service (KOSIS), or international databases like the World Bank or the International Monetary Fund (IMF) to obtain the necessary data. Once you have the accurate GDP values, you can easily create a line graph using a tool like Excel or a programming language like Python with matplotlib or another data visualization library.\", name='Researcher')], 'sender': 'Researcher'}}\n",
            "----\n",
            "{'__end__': {'messages': [HumanMessage(content='지난 5년간 대한민국의 GDP를 가져옵니다, then draw a line graph of it. Once you code it up, finish.'), HumanMessage(content='', additional_kwargs={'function_call': {'arguments': '{\"query\":\"South Korea GDP from 2018 to 2022\"}', 'name': 'tavily_search_results_json'}}, name='Researcher'), FunctionMessage(content=\"tavily_search_results_json response: [{'url': 'https://www.statista.com/statistics/263579/gross-domestic-product-gdp-in-south-korea/', 'content': 'South Korea: Gross domestic product (GDP) in current prices from 1987 to 2028 (in billion U.S. dollars)  Strategy and business building for the data-driven economy: Gross domestic product (GDP) in South Korea 2028  International Gross domestic product (GDP) growth in South Korea 1954-2028 You only have access to basic statistics.  International Distribution of gross domestic product (GDP) across economic sectors South Korea 2022 InternationalInternational International Statista Accounts: Access All Statistics. Starting from $1,788 USD / Year Basic Account Get to know the platform You only have access to basic statistics. Starter...'}, {'url': 'https://data.oecd.org/korea.htm', 'content': 'GDP Gross domestic product (GDP), US dollars/capita, 2022 Real GDP forecast, Annual growth rate (%), 2025 51 667  Width: pxPreview Embedding OECD Topics Country profile of Korea Find all indicators on Agriculture  Data Korea Previous editions Country statistical profile Further country information Selected indicators for Korea Share  57.5 % of GDP Tax Tax on personal income, % of GDP, 2022 Unemployment <%unemployment-latest-value-info-bubble%>Gross domestic product (GDP), US dollars/capita, 2022 ... 2018-2022 Korea (red), DAC Countries (black) ODA grant equivalent % of gross national income ... % of GDP 2022 Korea % of GDP: Total % of GDP 2003-2022 Korea (red), OECD - Average (black) Total % of GDP 2022 Korea (red) Tax revenue Indicator:'}]\", name='tavily_search_results_json'), HumanMessage(content=\"The search results provided do not contain the specific GDP values for South Korea for the last five years. The first search result mentions a Statista page that has data from 1987 to 2028, but does not provide the actual figures in the snippet. The second search result is from the OECD website, and again, it does not provide the actual GDP figures in the snippet but mentions GDP per capita for 2022.\\n\\nTo properly chart a line graph of South Korea's GDP over the last five years, we need the specific GDP figures for each year. I will perform another search to try to find these figures.\", additional_kwargs={'function_call': {'arguments': '{\"query\":\"South Korea GDP by year 2018-2022\"}', 'name': 'tavily_search_results_json'}}, name='Researcher'), FunctionMessage(content='tavily_search_results_json response: [{\\'url\\': \\'https://www.statista.com/statistics/263758/gross-domestic-product-gdp-growth-in-south-korea/\\', \\'content\\': \\'South Korea: Growth of real gross domestic product (GDP) from 1954 to 2022, with projections until 2028  Gross domestic product (GDP) growth in South Korea 1954-2028  Use Ask Statista Research Service October 2023 South Korea 2018 to 2021 * Estimate.  International Distribution of gross domestic product (GDP) across economic sectors South Korea 2022 InternationalIn 2022, the real GDP in South Korea grew by about 2.61 percent compared to the previous year. South Korea: Growth of real gross domestic product (GDP) from 1954 to 2022, with...\\'}, {\\'url\\': \\'https://www.statista.com/statistics/263579/gross-domestic-product-gdp-in-south-korea/\\', \\'content\\': \"South Korea: Gross domestic product (GDP) in current prices from 1987 to 2028 (in billion U.S. dollars)  Strategy and business building for the data-driven economy: Gross domestic product (GDP) in South Korea 2028  International Gross domestic product (GDP) growth in South Korea 1954-2028 You only have access to basic statistics.  International Distribution of gross domestic product (GDP) across economic sectors South Korea 2022 InternationalIn 2022, South Korea\\'s GDP was around 1.67 trillion U.S. dollars. See global GDP for a global comparison. South Korea\\'s economy South Korea is doing quite well economically. It is...\"}, {\\'url\\': \\'https://fred.stlouisfed.org/series/MKTGDPKRA646NWDB\\', \\'content\\': \\'World Bank, Gross Domestic Product for Republic of Korea [MKTGDPKRA646NWDB], retrieved from FRED,  since 1991. Gross Domestic Product for Republic of Korea (MKTGDPKRA646NWDB) Observation: Units: Frequency:  Federal Reserve Bank of St. Louis; https://fred.stlouisfed.org/series/MKTGDPKRA646NWDB, January 31, 2024.  NOTES Source: World Bank Release: World Development Indicators Units: Current U.S. Dollars,\\\\xa0Not Seasonally AdjustedGraph and download economic data for Gross Domestic Product for Republic of Korea (MKTGDPKRA646NWDB) from 1960 to 2022 about Korea and GDP. Gross Domestic Product for Republic of Korea. ... (South Korea) (DISCONTINUED) Interest Rates, Discount Rate for Republic of Korea.\\'}]', name='tavily_search_results_json'), HumanMessage(content=\"The search results still do not provide a complete set of specific GDP values for each of the last five years for South Korea. However, we do have a couple of figures from the snippets:\\n\\n- In 2022, South Korea's GDP was around 1.67 trillion U.S. dollars.\\n- The real GDP in South Korea grew by about 2.61 percent in 2022 compared to the previous year.\\n\\nWithout the exact GDP figures for the years 2018, 2019, 2020, and 2021, we are unable to generate a line graph. We need to either find a source with the specific annual GDP data for those years or estimate the values using the growth rate provided for 2022 and the known GDP for that year.\\n\\nTo move forward, we may need to consult a reliable economic database or official statistical information from a source such as the World Bank, International Monetary Fund (IMF), or the Bank of Korea to obtain the missing GDP figures for the years 2018-2021.\\n\\nSince I've reached the limit of my capabilities in finding the specific data through the search results provided, another assistant might be able to help locate these figures using different tools or resources.\", name='Researcher'), HumanMessage(content='', additional_kwargs={'function_call': {'arguments': '{\"code\":\"import matplotlib.pyplot as plt\\\\n\\\\n# GDP of South Korea for the last 5 years in trillion USD\\\\n# The value for 2022 is known, for other years it\\'s hypothetical based on average growth\\\\nyears = [2018, 2019, 2020, 2021, 2022]\\\\ngdp_values = [1.53, 1.58, 1.62, 1.65, 1.67]  # Hypothetical values\\\\n\\\\nplt.figure(figsize=(10, 5))\\\\nplt.plot(years, gdp_values, marker=\\'o\\')\\\\nplt.title(\\'GDP of South Korea (2018-2022)\\')\\\\nplt.xlabel(\\'Year\\')\\\\nplt.ylabel(\\'GDP (Trillion USD)\\')\\\\nplt.grid(True)\\\\nplt.show()\"}', 'name': 'python_repl'}}, name='Chart Generator'), FunctionMessage(content=\"python_repl response: Succesfully executed:\\n```python\\nimport matplotlib.pyplot as plt\\n\\n# GDP of South Korea for the last 5 years in trillion USD\\n# The value for 2022 is known, for other years it's hypothetical based on average growth\\nyears = [2018, 2019, 2020, 2021, 2022]\\ngdp_values = [1.53, 1.58, 1.62, 1.65, 1.67]  # Hypothetical values\\n\\nplt.figure(figsize=(10, 5))\\nplt.plot(years, gdp_values, marker='o')\\nplt.title('GDP of South Korea (2018-2022)')\\nplt.xlabel('Year')\\nplt.ylabel('GDP (Trillion USD)')\\nplt.grid(True)\\nplt.show()\\n```\\nStdout: \", name='python_repl'), HumanMessage(content='I have created a hypothetical line graph based on the known GDP value for South Korea in 2022 and estimated values for the previous years, assuming a consistent growth rate. However, please note that these values are not actual data, and the graph should be updated with the correct figures once they are available.\\n\\nPlease consult an official source such as the World Bank, International Monetary Fund (IMF), or the Bank of Korea to obtain accurate GDP figures for South Korea for the years 2018-2021 to generate an accurate line graph.', name='Chart Generator'), HumanMessage(content=\"FINAL ANSWER\\n\\nI'm sorry, but as an AI language model, I don't have the current data for South Korea's GDP from 2018-2022. To create an accurate line graph, you would need the exact figures for each year. I recommend checking with official sources such as the Bank of Korea, the Korean Statistical Information Service (KOSIS), or international databases like the World Bank or the International Monetary Fund (IMF) to obtain the necessary data. Once you have the accurate GDP values, you can easily create a line graph using a tool like Excel or a programming language like Python with matplotlib or another data visualization library.\", name='Researcher')], 'sender': 'Researcher'}}\n",
            "----\n"
          ]
        }
      ],
      "source": [
        "for s in graph.stream(\n",
        "    {\n",
        "        \"messages\": [\n",
        "            HumanMessage(\n",
        "                content=\"지난 5년간 대한민국의 GDP를 가져옵니다,\"\n",
        "                \" then draw a line graph of it.\"\n",
        "                \" Once you code it up, finish.\"\n",
        "            )\n",
        "        ],\n",
        "    },\n",
        "    # Maximum number of steps to take in the graph\n",
        "    {\"recursion_limit\": 150},\n",
        "):\n",
        "    print(s)\n",
        "    print(\"----\")"
      ]
    },
    {
      "cell_type": "code",
      "execution_count": null,
      "id": "010fc36e-4116-4758-bcac-b02c7dcd405d",
      "metadata": {
        "id": "010fc36e-4116-4758-bcac-b02c7dcd405d"
      },
      "outputs": [],
      "source": []
    }
  ],
  "metadata": {
    "kernelspec": {
      "display_name": "Python 3",
      "name": "python3"
    },
    "language_info": {
      "codemirror_mode": {
        "name": "ipython",
        "version": 3
      },
      "file_extension": ".py",
      "mimetype": "text/x-python",
      "name": "python",
      "nbconvert_exporter": "python",
      "pygments_lexer": "ipython3",
      "version": "3.11.1"
    },
    "colab": {
      "provenance": [],
      "gpuType": "T4",
      "include_colab_link": true
    },
    "accelerator": "GPU"
  },
  "nbformat": 4,
  "nbformat_minor": 5
}