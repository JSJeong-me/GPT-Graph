{
  "nbformat": 4,
  "nbformat_minor": 0,
  "metadata": {
    "colab": {
      "provenance": [],
      "authorship_tag": "ABX9TyOR1xCXrqDkT4PG45d8wTt7",
      "include_colab_link": true
    },
    "kernelspec": {
      "name": "python3",
      "display_name": "Python 3"
    },
    "language_info": {
      "name": "python"
    }
  },
  "cells": [
    {
      "cell_type": "markdown",
      "metadata": {
        "id": "view-in-github",
        "colab_type": "text"
      },
      "source": [
        "<a href=\"https://colab.research.google.com/github/JSJeong-me/GPT-DB/blob/main/00-Streamlit.ipynb\" target=\"_parent\"><img src=\"https://colab.research.google.com/assets/colab-badge.svg\" alt=\"Open In Colab\"/></a>"
      ]
    },
    {
      "cell_type": "markdown",
      "source": [
        "### https://discuss.streamlit.io/t/how-to-launch-streamlit-app-from-google-colab-notebook/42399"
      ],
      "metadata": {
        "id": "XEv4A4e11na7"
      }
    },
    {
      "cell_type": "code",
      "execution_count": null,
      "metadata": {
        "id": "NELfm8XCsIWp"
      },
      "outputs": [],
      "source": [
        "!pip install streamlit\n",
        "!npm install -g localtunnel"
      ]
    },
    {
      "cell_type": "code",
      "source": [
        "%%writefile app.py\n",
        "\n",
        "import streamlit as st\n",
        "import numpy as np\n",
        "import pandas as pd\n",
        "from sklearn import datasets\n",
        "from sklearn.ensemble import RandomForestClassifier\n",
        "\n",
        "#PAGE_CONFIG = {\"page_title\":\"StColab.io\",\"page_icon\":\":smiley:\",\"layout\":\"centered\"}\n",
        "#st.beta_set_page_config(**PAGE_CONFIG)\n",
        "\n",
        "def user_input_features() :\n",
        "  sepal_length = st.sidebar.slider('sepal_length',4.3, 7.9, 5.4)\n",
        "  sepal_width = st.sidebar.slider('sepal_width',2.0, 4.4, 3.4)\n",
        "  petal_length = st.sidebar.slider('petal_length',1.0, 6.9, 1.3)\n",
        "  petal_width = st.sidebar.slider('petal_width',0.1, 2.5, 0.2)\n",
        "  data = {'sepal_length' : sepal_length,\n",
        "          'sepal_width' : sepal_width,\n",
        "          'petal_length' : petal_length,\n",
        "          'petal_width' : petal_width\n",
        "          }\n",
        "  features = pd.DataFrame(data, index=[0])\n",
        "  return features\n",
        "\n",
        "def main():\n",
        "\t#st.title(\"Awesome Streamlit for MLDDD\")\n",
        "\t#st.subheader(\"How to run streamlit from colab\")\n",
        "  st.write(\"\"\"\n",
        "  # Simple Iris Flower Prediction WebApp\n",
        "\n",
        "  This app predicts the **Iris flower** type!\n",
        "\n",
        "  \"\"\")\n",
        "\n",
        "  st.sidebar.header('User Input Parameters')\n",
        "\n",
        "  df= user_input_features()\n",
        "\n",
        "  st.subheader(\"파라미터를 설정해주세요.\")\n",
        "  st.write(df)\n",
        "\n",
        "  iris = datasets.load_iris()\n",
        "  x=iris.data\n",
        "  y=iris.target\n",
        "\n",
        "  clf = RandomForestClassifier()\n",
        "  clf.fit(x,y)\n",
        "\n",
        "  predict_ = clf.predict(df)\n",
        "  predict_proba = clf.predict_proba(df)\n",
        "\n",
        "  st.subheader(\"Iris 종류 \")\n",
        "  st.write(iris.target_names)\n",
        "\n",
        "  st.subheader(\"예측된 꽃종류\")\n",
        "  st.write(iris.target_names[predict_])\n",
        "\n",
        "  st.subheader(\"예측된 꽃종류2\")\n",
        "  st.write(predict_)\n",
        "\n",
        "  st.subheader(\"예측된 꽃종류3\")\n",
        "  st.write(iris.target_names)\n",
        "\n",
        "\n",
        "  st.subheader(\"꽃종류별 예측 확률\")\n",
        "  st.write(predict_proba)\n",
        "\n",
        "\n",
        "\n",
        "if __name__ == '__main__':\n",
        "\tmain()"
      ],
      "metadata": {
        "colab": {
          "base_uri": "https://localhost:8080/"
        },
        "id": "VRL6GTSG1Dm8",
        "outputId": "b575a8ba-98c7-49e8-fdd1-38fc5e720e0a"
      },
      "execution_count": 2,
      "outputs": [
        {
          "output_type": "stream",
          "name": "stdout",
          "text": [
            "Writing app.py\n"
          ]
        }
      ]
    },
    {
      "cell_type": "code",
      "source": [
        "!streamlit run app.py &>/content/logs.txt & npx localtunnel --port 8501 & curl ipv4.icanhazip.com"
      ],
      "metadata": {
        "colab": {
          "base_uri": "https://localhost:8080/"
        },
        "id": "Zv_zx4Obz4Ra",
        "outputId": "a66447d1-4bbc-4f6b-b4ca-b4e9e80c4792"
      },
      "execution_count": 3,
      "outputs": [
        {
          "output_type": "stream",
          "name": "stdout",
          "text": [
            "34.83.161.82\n",
            "\u001b[K\u001b[?25hnpx: installed 22 in 2.315s\n",
            "your url is: https://major-laws-travel.loca.lt\n"
          ]
        }
      ]
    },
    {
      "cell_type": "code",
      "source": [],
      "metadata": {
        "id": "7FsjiaUnuA7w"
      },
      "execution_count": null,
      "outputs": []
    }
  ]
}