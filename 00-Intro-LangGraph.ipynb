{
  "nbformat": 4,
  "nbformat_minor": 0,
  "metadata": {
    "colab": {
      "provenance": [],
      "authorship_tag": "ABX9TyPCdXBarUVyMxypJamF0HgP",
      "include_colab_link": true
    },
    "kernelspec": {
      "name": "python3",
      "display_name": "Python 3"
    },
    "language_info": {
      "name": "python"
    }
  },
  "cells": [
    {
      "cell_type": "markdown",
      "metadata": {
        "id": "view-in-github",
        "colab_type": "text"
      },
      "source": [
        "<a href=\"https://colab.research.google.com/github/JSJeong-me/GPT-Graph/blob/main/00-Intro-LangGraph.ipynb\" target=\"_parent\"><img src=\"https://colab.research.google.com/assets/colab-badge.svg\" alt=\"Open In Colab\"/></a>"
      ]
    },
    {
      "cell_type": "markdown",
      "source": [
        "### RAG pipelines using LangGraphs\n",
        "\n",
        "https://medium.com/tensor-labs/taking-your-rag-pipelines-to-a-next-level-langgraphs-0e7addda0405"
      ],
      "metadata": {
        "id": "uRheczZF7-cX"
      }
    },
    {
      "cell_type": "code",
      "source": [
        "!pip install langgraph"
      ],
      "metadata": {
        "id": "OB6FdRgk8jLX"
      },
      "execution_count": null,
      "outputs": []
    },
    {
      "cell_type": "code",
      "execution_count": null,
      "metadata": {
        "id": "RWCh98wF791g"
      },
      "outputs": [],
      "source": [
        "from langgraph import LangGraph"
      ]
    },
    {
      "cell_type": "code",
      "source": [
        "from langgraph import StateGraph\n",
        "\n",
        "# Set up your 'brain'\n",
        "class MyState:\n",
        "    def __init__(self):\n",
        "        self.memory = {}\n",
        "\n",
        "state = MyState()\n",
        "graph = StateGraph(state)"
      ],
      "metadata": {
        "id": "A-0Jah2S8-mR"
      },
      "execution_count": null,
      "outputs": []
    },
    {
      "cell_type": "markdown",
      "source": [
        "### add nodes, which are like stations where specific tasks happen."
      ],
      "metadata": {
        "id": "uwQE3XUN9ZXK"
      }
    },
    {
      "cell_type": "code",
      "source": [
        "# Add stations and connect them\n",
        "graph.add_node(\"station1\", task1)\n",
        "graph.add_node(\"station2\", task2)\n",
        "graph.add_edge(\"station1\", \"station2\")"
      ],
      "metadata": {
        "id": "K0nVPosO9WZW"
      },
      "execution_count": null,
      "outputs": []
    },
    {
      "cell_type": "code",
      "source": [
        "# Start the network\n",
        "network = graph.compile()"
      ],
      "metadata": {
        "id": "YL04MZU19nEM"
      },
      "execution_count": null,
      "outputs": []
    },
    {
      "cell_type": "markdown",
      "source": [
        "### RAG Architecture"
      ],
      "metadata": {
        "id": "Y8RzUlwv_1H5"
      }
    },
    {
      "cell_type": "code",
      "source": [
        "# Traditional RAG Pipeline\n",
        "query = \"What is the tallest mountain?\"\n",
        "documents = retrieve_documents(query)\n",
        "response = generate_response(query, documents)"
      ],
      "metadata": {
        "id": "gOcEjgZf-7p_"
      },
      "execution_count": null,
      "outputs": []
    },
    {
      "cell_type": "markdown",
      "source": [
        "### Graph Architecture"
      ],
      "metadata": {
        "id": "njM1_7VjAAnC"
      }
    },
    {
      "cell_type": "code",
      "source": [
        "# LangGraph-Enhanced RAG Pipeline\n",
        "query = \"What is the tallest mountain?\"\n",
        "satisfactory = False\n",
        "\n",
        "while not satisfactory:\n",
        "    documents = retrieve_documents(query)\n",
        "    if evaluate_relevance(documents):\n",
        "        satisfactory = True\n",
        "    else:\n",
        "        query = refine_query(query)\n",
        "\n",
        "response = generate_response(query, documents)"
      ],
      "metadata": {
        "id": "PiubNkS7_xHi"
      },
      "execution_count": null,
      "outputs": []
    }
  ]
}